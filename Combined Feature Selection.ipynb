{
 "cells": [
  {
   "cell_type": "code",
   "execution_count": 266,
   "id": "3499cc27",
   "metadata": {},
   "outputs": [],
   "source": [
    "#Git Hub link:\n",
    "#https://github.com/christacaggiano/machine_learning_exercises/blob/main/chest_pain_prediction.ipynb\n",
    "import pandas as pd \n",
    "import sklearn \n",
    "from sklearn.model_selection import train_test_split\n",
    "from sklearn.linear_model import LogisticRegression\n",
    "from sklearn.ensemble import RandomForestClassifier\n",
    "from sklearn.metrics import precision_recall_fscore_support\n",
    "from sklearn.metrics import accuracy_score\n",
    "from sklearn.metrics import mean_squared_error\n",
    "from sklearn import metrics\n",
    "import matplotlib.pyplot as plt\n",
    "import seaborn as sns\n",
    "import numpy as np\n",
    "from sklearn.metrics import classification_report\n",
    "from sklearn.metrics import roc_curve, roc_auc_score\n",
    "from sklearn.preprocessing import StandardScaler, MinMaxScaler, normalize\n",
    "from sklearn.decomposition import PCA\n",
    "from sklearn.feature_selection import RFE, SelectKBest, f_classif, chi2, VarianceThreshold\n",
    "from sklearn.pipeline import make_pipeline\n",
    "\n"
   ]
  },
  {
   "cell_type": "code",
   "execution_count": 267,
   "id": "3b5a6a08",
   "metadata": {},
   "outputs": [],
   "source": [
    "SwedishcleanedDf = pd.read_csv(\"cleaned_SwedishData.csv\", delimiter=\",\")\n",
    "SwedishexpressionData = pd.read_csv(\"cleaned_ExpressionData.csv\", delimiter=\",\")\n",
    "\n",
    "SpanishcleanedDftest = pd.read_csv(\"cleaned_SpanishData.csv\", delimiter=\",\")\n",
    "SpanishexpressionDatatest = pd.read_csv(\"cleaned_SpanishExpressionData.csv\", delimiter=\",\")\n",
    "\n",
    "cleanedDf = pd.concat([SwedishcleanedDf, SpanishcleanedDftest])\n",
    "expressionData = pd.concat([SwedishexpressionData, SpanishexpressionDatatest])"
   ]
  },
  {
   "cell_type": "code",
   "execution_count": 268,
   "id": "668ca6ab",
   "metadata": {},
   "outputs": [
    {
     "data": {
      "text/html": [
       "<div>\n",
       "<style scoped>\n",
       "    .dataframe tbody tr th:only-of-type {\n",
       "        vertical-align: middle;\n",
       "    }\n",
       "\n",
       "    .dataframe tbody tr th {\n",
       "        vertical-align: top;\n",
       "    }\n",
       "\n",
       "    .dataframe thead th {\n",
       "        text-align: right;\n",
       "    }\n",
       "</style>\n",
       "<table border=\"1\" class=\"dataframe\">\n",
       "  <thead>\n",
       "    <tr style=\"text-align: right;\">\n",
       "      <th></th>\n",
       "      <th>!Sample_geo_accession</th>\n",
       "      <th>Gender</th>\n",
       "      <th>Age</th>\n",
       "      <th>Allergy</th>\n",
       "      <th>Asthma</th>\n",
       "      <th>Dermatitis</th>\n",
       "      <th>rhinitis</th>\n",
       "    </tr>\n",
       "  </thead>\n",
       "  <tbody>\n",
       "    <tr>\n",
       "      <th>0</th>\n",
       "      <td>GSM4209620</td>\n",
       "      <td>1</td>\n",
       "      <td>195.559200</td>\n",
       "      <td>1</td>\n",
       "      <td>0</td>\n",
       "      <td>1</td>\n",
       "      <td>0</td>\n",
       "    </tr>\n",
       "    <tr>\n",
       "      <th>1</th>\n",
       "      <td>GSM4209621</td>\n",
       "      <td>1</td>\n",
       "      <td>204.046100</td>\n",
       "      <td>0</td>\n",
       "      <td>0</td>\n",
       "      <td>0</td>\n",
       "      <td>0</td>\n",
       "    </tr>\n",
       "    <tr>\n",
       "      <th>2</th>\n",
       "      <td>GSM4209622</td>\n",
       "      <td>0</td>\n",
       "      <td>201.677600</td>\n",
       "      <td>1</td>\n",
       "      <td>1</td>\n",
       "      <td>1</td>\n",
       "      <td>0</td>\n",
       "    </tr>\n",
       "    <tr>\n",
       "      <th>3</th>\n",
       "      <td>GSM4209623</td>\n",
       "      <td>1</td>\n",
       "      <td>205.625000</td>\n",
       "      <td>1</td>\n",
       "      <td>1</td>\n",
       "      <td>0</td>\n",
       "      <td>0</td>\n",
       "    </tr>\n",
       "    <tr>\n",
       "      <th>4</th>\n",
       "      <td>GSM4209624</td>\n",
       "      <td>0</td>\n",
       "      <td>202.894700</td>\n",
       "      <td>0</td>\n",
       "      <td>0</td>\n",
       "      <td>0</td>\n",
       "      <td>0</td>\n",
       "    </tr>\n",
       "    <tr>\n",
       "      <th>...</th>\n",
       "      <td>...</td>\n",
       "      <td>...</td>\n",
       "      <td>...</td>\n",
       "      <td>...</td>\n",
       "      <td>...</td>\n",
       "      <td>...</td>\n",
       "      <td>...</td>\n",
       "    </tr>\n",
       "    <tr>\n",
       "      <th>196</th>\n",
       "      <td>GSM4210249</td>\n",
       "      <td>1</td>\n",
       "      <td>55.162218</td>\n",
       "      <td>1</td>\n",
       "      <td>0</td>\n",
       "      <td>1</td>\n",
       "      <td>0</td>\n",
       "    </tr>\n",
       "    <tr>\n",
       "      <th>197</th>\n",
       "      <td>GSM4210250</td>\n",
       "      <td>0</td>\n",
       "      <td>47.460000</td>\n",
       "      <td>0</td>\n",
       "      <td>0</td>\n",
       "      <td>0</td>\n",
       "      <td>0</td>\n",
       "    </tr>\n",
       "    <tr>\n",
       "      <th>198</th>\n",
       "      <td>GSM4210251</td>\n",
       "      <td>0</td>\n",
       "      <td>47.610000</td>\n",
       "      <td>1</td>\n",
       "      <td>1</td>\n",
       "      <td>1</td>\n",
       "      <td>0</td>\n",
       "    </tr>\n",
       "    <tr>\n",
       "      <th>199</th>\n",
       "      <td>GSM4210252</td>\n",
       "      <td>1</td>\n",
       "      <td>48.030000</td>\n",
       "      <td>0</td>\n",
       "      <td>0</td>\n",
       "      <td>0</td>\n",
       "      <td>0</td>\n",
       "    </tr>\n",
       "    <tr>\n",
       "      <th>200</th>\n",
       "      <td>GSM4210253</td>\n",
       "      <td>0</td>\n",
       "      <td>47.670000</td>\n",
       "      <td>1</td>\n",
       "      <td>1</td>\n",
       "      <td>0</td>\n",
       "      <td>0</td>\n",
       "    </tr>\n",
       "  </tbody>\n",
       "</table>\n",
       "<p>457 rows × 7 columns</p>\n",
       "</div>"
      ],
      "text/plain": [
       "    !Sample_geo_accession  Gender         Age  Allergy  Asthma  Dermatitis  \\\n",
       "0              GSM4209620       1  195.559200        1       0           1   \n",
       "1              GSM4209621       1  204.046100        0       0           0   \n",
       "2              GSM4209622       0  201.677600        1       1           1   \n",
       "3              GSM4209623       1  205.625000        1       1           0   \n",
       "4              GSM4209624       0  202.894700        0       0           0   \n",
       "..                    ...     ...         ...      ...     ...         ...   \n",
       "196            GSM4210249       1   55.162218        1       0           1   \n",
       "197            GSM4210250       0   47.460000        0       0           0   \n",
       "198            GSM4210251       0   47.610000        1       1           1   \n",
       "199            GSM4210252       1   48.030000        0       0           0   \n",
       "200            GSM4210253       0   47.670000        1       1           0   \n",
       "\n",
       "     rhinitis  \n",
       "0           0  \n",
       "1           0  \n",
       "2           0  \n",
       "3           0  \n",
       "4           0  \n",
       "..        ...  \n",
       "196         0  \n",
       "197         0  \n",
       "198         0  \n",
       "199         0  \n",
       "200         0  \n",
       "\n",
       "[457 rows x 7 columns]"
      ]
     },
     "execution_count": 268,
     "metadata": {},
     "output_type": "execute_result"
    }
   ],
   "source": [
    "cleanedDf"
   ]
  },
  {
   "cell_type": "code",
   "execution_count": 269,
   "id": "2677b544",
   "metadata": {},
   "outputs": [
    {
     "data": {
      "text/html": [
       "<div>\n",
       "<style scoped>\n",
       "    .dataframe tbody tr th:only-of-type {\n",
       "        vertical-align: middle;\n",
       "    }\n",
       "\n",
       "    .dataframe tbody tr th {\n",
       "        vertical-align: top;\n",
       "    }\n",
       "\n",
       "    .dataframe thead th {\n",
       "        text-align: right;\n",
       "    }\n",
       "</style>\n",
       "<table border=\"1\" class=\"dataframe\">\n",
       "  <thead>\n",
       "    <tr style=\"text-align: right;\">\n",
       "      <th></th>\n",
       "      <th>TC01000001.hg.1</th>\n",
       "      <th>TC01000002.hg.1</th>\n",
       "      <th>TC01000003.hg.1</th>\n",
       "      <th>TC01000004.hg.1</th>\n",
       "      <th>TC01000005.hg.1</th>\n",
       "      <th>TC01000006.hg.1</th>\n",
       "      <th>TC01000007.hg.1</th>\n",
       "      <th>TC01000008.hg.1</th>\n",
       "      <th>TC01000009.hg.1</th>\n",
       "      <th>TC01000010.hg.1</th>\n",
       "      <th>...</th>\n",
       "      <th>TCUn_gl000228000012.hg.1</th>\n",
       "      <th>TCUn_gl000228000013.hg.1</th>\n",
       "      <th>TCUn_gl000228000014.hg.1</th>\n",
       "      <th>TCUn_gl000237000001.hg.1</th>\n",
       "      <th>TCUn_gl000237000002.hg.1</th>\n",
       "      <th>TCUn_gl000241000001.hg.1</th>\n",
       "      <th>TCUn_gl000241000002.hg.1</th>\n",
       "      <th>TCUn_gl000243000001.hg.1</th>\n",
       "      <th>TCUn_gl000243000002.hg.1</th>\n",
       "      <th>TCUn_gl000247000001.hg.1</th>\n",
       "    </tr>\n",
       "  </thead>\n",
       "  <tbody>\n",
       "    <tr>\n",
       "      <th>0</th>\n",
       "      <td>7.429823</td>\n",
       "      <td>4.388578</td>\n",
       "      <td>2.371792</td>\n",
       "      <td>5.275303</td>\n",
       "      <td>9.702489</td>\n",
       "      <td>11.799802</td>\n",
       "      <td>12.070954</td>\n",
       "      <td>6.996882</td>\n",
       "      <td>1.614111</td>\n",
       "      <td>3.492010</td>\n",
       "      <td>...</td>\n",
       "      <td>2.657722</td>\n",
       "      <td>6.307265</td>\n",
       "      <td>4.691915</td>\n",
       "      <td>6.020328</td>\n",
       "      <td>5.831065</td>\n",
       "      <td>5.642116</td>\n",
       "      <td>5.795866</td>\n",
       "      <td>6.400864</td>\n",
       "      <td>6.347468</td>\n",
       "      <td>6.400864</td>\n",
       "    </tr>\n",
       "    <tr>\n",
       "      <th>1</th>\n",
       "      <td>6.185963</td>\n",
       "      <td>4.001252</td>\n",
       "      <td>1.935577</td>\n",
       "      <td>6.272907</td>\n",
       "      <td>10.218112</td>\n",
       "      <td>11.969852</td>\n",
       "      <td>12.667002</td>\n",
       "      <td>8.177514</td>\n",
       "      <td>1.529896</td>\n",
       "      <td>3.043273</td>\n",
       "      <td>...</td>\n",
       "      <td>3.153498</td>\n",
       "      <td>6.036182</td>\n",
       "      <td>4.904974</td>\n",
       "      <td>5.684232</td>\n",
       "      <td>5.599217</td>\n",
       "      <td>5.592368</td>\n",
       "      <td>5.775740</td>\n",
       "      <td>5.094467</td>\n",
       "      <td>6.672159</td>\n",
       "      <td>5.094467</td>\n",
       "    </tr>\n",
       "    <tr>\n",
       "      <th>2</th>\n",
       "      <td>7.825112</td>\n",
       "      <td>4.261002</td>\n",
       "      <td>2.641741</td>\n",
       "      <td>5.066341</td>\n",
       "      <td>9.856455</td>\n",
       "      <td>11.973046</td>\n",
       "      <td>12.180124</td>\n",
       "      <td>7.075101</td>\n",
       "      <td>2.286690</td>\n",
       "      <td>3.299668</td>\n",
       "      <td>...</td>\n",
       "      <td>2.677549</td>\n",
       "      <td>6.229489</td>\n",
       "      <td>4.804676</td>\n",
       "      <td>5.898304</td>\n",
       "      <td>5.818457</td>\n",
       "      <td>5.232601</td>\n",
       "      <td>5.374681</td>\n",
       "      <td>3.737465</td>\n",
       "      <td>6.181059</td>\n",
       "      <td>3.737465</td>\n",
       "    </tr>\n",
       "    <tr>\n",
       "      <th>3</th>\n",
       "      <td>5.970286</td>\n",
       "      <td>4.018165</td>\n",
       "      <td>1.942758</td>\n",
       "      <td>5.142228</td>\n",
       "      <td>10.081747</td>\n",
       "      <td>12.224622</td>\n",
       "      <td>12.343981</td>\n",
       "      <td>8.123771</td>\n",
       "      <td>1.429856</td>\n",
       "      <td>3.175787</td>\n",
       "      <td>...</td>\n",
       "      <td>2.634139</td>\n",
       "      <td>6.276416</td>\n",
       "      <td>5.101769</td>\n",
       "      <td>5.800389</td>\n",
       "      <td>5.764109</td>\n",
       "      <td>5.830511</td>\n",
       "      <td>5.962839</td>\n",
       "      <td>5.765790</td>\n",
       "      <td>6.613098</td>\n",
       "      <td>5.765790</td>\n",
       "    </tr>\n",
       "    <tr>\n",
       "      <th>4</th>\n",
       "      <td>5.057495</td>\n",
       "      <td>4.067344</td>\n",
       "      <td>1.857217</td>\n",
       "      <td>5.073486</td>\n",
       "      <td>9.537027</td>\n",
       "      <td>11.809516</td>\n",
       "      <td>12.237580</td>\n",
       "      <td>7.427976</td>\n",
       "      <td>1.512572</td>\n",
       "      <td>3.546307</td>\n",
       "      <td>...</td>\n",
       "      <td>2.637874</td>\n",
       "      <td>6.438287</td>\n",
       "      <td>5.226228</td>\n",
       "      <td>5.960240</td>\n",
       "      <td>5.819446</td>\n",
       "      <td>5.534489</td>\n",
       "      <td>5.722457</td>\n",
       "      <td>5.056717</td>\n",
       "      <td>6.293271</td>\n",
       "      <td>5.056717</td>\n",
       "    </tr>\n",
       "  </tbody>\n",
       "</table>\n",
       "<p>5 rows × 67528 columns</p>\n",
       "</div>"
      ],
      "text/plain": [
       "   TC01000001.hg.1  TC01000002.hg.1  TC01000003.hg.1  TC01000004.hg.1  \\\n",
       "0         7.429823         4.388578         2.371792         5.275303   \n",
       "1         6.185963         4.001252         1.935577         6.272907   \n",
       "2         7.825112         4.261002         2.641741         5.066341   \n",
       "3         5.970286         4.018165         1.942758         5.142228   \n",
       "4         5.057495         4.067344         1.857217         5.073486   \n",
       "\n",
       "   TC01000005.hg.1  TC01000006.hg.1  TC01000007.hg.1  TC01000008.hg.1  \\\n",
       "0         9.702489        11.799802        12.070954         6.996882   \n",
       "1        10.218112        11.969852        12.667002         8.177514   \n",
       "2         9.856455        11.973046        12.180124         7.075101   \n",
       "3        10.081747        12.224622        12.343981         8.123771   \n",
       "4         9.537027        11.809516        12.237580         7.427976   \n",
       "\n",
       "   TC01000009.hg.1  TC01000010.hg.1  ...  TCUn_gl000228000012.hg.1  \\\n",
       "0         1.614111         3.492010  ...                  2.657722   \n",
       "1         1.529896         3.043273  ...                  3.153498   \n",
       "2         2.286690         3.299668  ...                  2.677549   \n",
       "3         1.429856         3.175787  ...                  2.634139   \n",
       "4         1.512572         3.546307  ...                  2.637874   \n",
       "\n",
       "   TCUn_gl000228000013.hg.1  TCUn_gl000228000014.hg.1  \\\n",
       "0                  6.307265                  4.691915   \n",
       "1                  6.036182                  4.904974   \n",
       "2                  6.229489                  4.804676   \n",
       "3                  6.276416                  5.101769   \n",
       "4                  6.438287                  5.226228   \n",
       "\n",
       "   TCUn_gl000237000001.hg.1  TCUn_gl000237000002.hg.1  \\\n",
       "0                  6.020328                  5.831065   \n",
       "1                  5.684232                  5.599217   \n",
       "2                  5.898304                  5.818457   \n",
       "3                  5.800389                  5.764109   \n",
       "4                  5.960240                  5.819446   \n",
       "\n",
       "   TCUn_gl000241000001.hg.1  TCUn_gl000241000002.hg.1  \\\n",
       "0                  5.642116                  5.795866   \n",
       "1                  5.592368                  5.775740   \n",
       "2                  5.232601                  5.374681   \n",
       "3                  5.830511                  5.962839   \n",
       "4                  5.534489                  5.722457   \n",
       "\n",
       "   TCUn_gl000243000001.hg.1  TCUn_gl000243000002.hg.1  \\\n",
       "0                  6.400864                  6.347468   \n",
       "1                  5.094467                  6.672159   \n",
       "2                  3.737465                  6.181059   \n",
       "3                  5.765790                  6.613098   \n",
       "4                  5.056717                  6.293271   \n",
       "\n",
       "   TCUn_gl000247000001.hg.1  \n",
       "0                  6.400864  \n",
       "1                  5.094467  \n",
       "2                  3.737465  \n",
       "3                  5.765790  \n",
       "4                  5.056717  \n",
       "\n",
       "[5 rows x 67528 columns]"
      ]
     },
     "execution_count": 269,
     "metadata": {},
     "output_type": "execute_result"
    }
   ],
   "source": [
    "expressionData.head()"
   ]
  },
  {
   "cell_type": "code",
   "execution_count": 287,
   "id": "866492e0",
   "metadata": {},
   "outputs": [],
   "source": [
    "y = cleanedDf[\"Allergy\"].values\n",
    "x = expressionData.values\n",
    "gene_ids = list(expressionData)"
   ]
  },
  {
   "cell_type": "code",
   "execution_count": 120,
   "id": "b59496d3",
   "metadata": {},
   "outputs": [
    {
     "data": {
      "text/plain": [
       "0.47215307805353424"
      ]
     },
     "execution_count": 120,
     "metadata": {},
     "output_type": "execute_result"
    }
   ],
   "source": [
    "#filter low count and high count\n",
    "#take mean and std of entire dataframe\n",
    "col_means = np.mean(x, axis=0)\n",
    "\n",
    "col_stdevs = np.std(x, axis=0)\n",
    "\n",
    "mean_mean = np.mean(col_means)\n",
    "\n",
    "threshold = 2 * np.mean(col_stdevs)\n",
    "\n",
    "keep_cols = np.abs(col_means - mean_mean) < threshold\n",
    "\n",
    "x = x[:, keep_cols]\n",
    "x.shape\n",
    "col_means.shape\n",
    "threshold"
   ]
  },
  {
   "cell_type": "code",
   "execution_count": 288,
   "id": "d413850e",
   "metadata": {},
   "outputs": [
    {
     "data": {
      "text/plain": [
       "(457, 67528)"
      ]
     },
     "execution_count": 288,
     "metadata": {},
     "output_type": "execute_result"
    }
   ],
   "source": [
    "scaler = MinMaxScaler()\n",
    "scaler.fit(x)\n",
    "x = scaler.transform(x)\n",
    "x.shape"
   ]
  },
  {
   "cell_type": "code",
   "execution_count": 39,
   "id": "644de8b6",
   "metadata": {},
   "outputs": [
    {
     "ename": "NameError",
     "evalue": "name 'x2' is not defined",
     "output_type": "error",
     "traceback": [
      "\u001b[0;31m---------------------------------------------------------------------------\u001b[0m",
      "\u001b[0;31mNameError\u001b[0m                                 Traceback (most recent call last)",
      "\u001b[0;32m/var/folders/61/88tkykvs6hdghs1n4xcxmfjm0000gn/T/ipykernel_54953/354071003.py\u001b[0m in \u001b[0;36m<module>\u001b[0;34m\u001b[0m\n\u001b[1;32m      1\u001b[0m \u001b[0mscaler\u001b[0m \u001b[0;34m=\u001b[0m \u001b[0mMinMaxScaler\u001b[0m\u001b[0;34m(\u001b[0m\u001b[0;34m)\u001b[0m\u001b[0;34m\u001b[0m\u001b[0;34m\u001b[0m\u001b[0m\n\u001b[0;32m----> 2\u001b[0;31m \u001b[0mscaler\u001b[0m\u001b[0;34m.\u001b[0m\u001b[0mfit\u001b[0m\u001b[0;34m(\u001b[0m\u001b[0mx2\u001b[0m\u001b[0;34m)\u001b[0m\u001b[0;34m\u001b[0m\u001b[0;34m\u001b[0m\u001b[0m\n\u001b[0m\u001b[1;32m      3\u001b[0m \u001b[0mx2\u001b[0m \u001b[0;34m=\u001b[0m \u001b[0mscaler\u001b[0m\u001b[0;34m.\u001b[0m\u001b[0mtransform\u001b[0m\u001b[0;34m(\u001b[0m\u001b[0mx2\u001b[0m\u001b[0;34m)\u001b[0m\u001b[0;34m\u001b[0m\u001b[0;34m\u001b[0m\u001b[0m\n",
      "\u001b[0;31mNameError\u001b[0m: name 'x2' is not defined"
     ]
    }
   ],
   "source": [
    "#scaler = MinMaxScaler()\n",
    "#scaler.fit(x2)\n",
    "#x2 = scaler.transform(x2)"
   ]
  },
  {
   "cell_type": "code",
   "execution_count": 34,
   "id": "f50f4532",
   "metadata": {},
   "outputs": [
    {
     "data": {
      "text/plain": [
       "(457, 67518)"
      ]
     },
     "execution_count": 34,
     "metadata": {},
     "output_type": "execute_result"
    }
   ],
   "source": []
  },
  {
   "cell_type": "code",
   "execution_count": 289,
   "id": "13195ca3",
   "metadata": {},
   "outputs": [
    {
     "data": {
      "text/plain": [
       "(201, 325)"
      ]
     },
     "execution_count": 289,
     "metadata": {},
     "output_type": "execute_result"
    }
   ],
   "source": [
    "#KBest\n",
    "selector = SelectKBest(f_classif, k=325)\n",
    "x_new = selector.fit_transform(x, y)\n",
    "#x_new = selector.fit_transform(filtered_df, y)\n",
    "\n",
    "selected_feature_indices = selector.get_support(indices=True)\n",
    "\n",
    "\n",
    "#x_new = SwedishexpressionData.iloc[:, selected_feature_indices]\n",
    "#scaler.fit(x_new)\n",
    "#x_new = scaler.transform(x_new)\n",
    "\n",
    "#y = SwedishcleanedDf[\"Allergy\"].values\n",
    "\n",
    "x_new = SpanishexpressionDatatest.iloc[:, selected_feature_indices]\n",
    "scaler.fit(x_new)\n",
    "x_new = scaler.transform(x_new)\n",
    "y = SpanishcleanedDftest[\"Allergy\"].values\n",
    "\n",
    "index_list = selector.get_support(indices=True)\n",
    "index_list\n",
    "gene_ids = list(expressionData)\n",
    "gene_names = [gene_ids[i] for i in index_list]\n",
    "\n",
    "\n",
    "\n",
    "x_new.shape"
   ]
  },
  {
   "cell_type": "code",
   "execution_count": 99,
   "id": "7b235e6f",
   "metadata": {},
   "outputs": [],
   "source": [
    "#chi squared\n",
    "selector = SelectKBest(chi2, k=725)\n",
    "x_new = selector.fit_transform(x, y)\n",
    "index_list = selector.get_support(indices=True)\n",
    "index_list\n",
    "gene_ids = list(expressionData)\n",
    "gene_names = [gene_ids[i] for i in index_list]\n",
    "\n"
   ]
  },
  {
   "cell_type": "code",
   "execution_count": 104,
   "id": "5fc36293",
   "metadata": {},
   "outputs": [
    {
     "ename": "NameError",
     "evalue": "name 'x2' is not defined",
     "output_type": "error",
     "traceback": [
      "\u001b[0;31m---------------------------------------------------------------------------\u001b[0m",
      "\u001b[0;31mNameError\u001b[0m                                 Traceback (most recent call last)",
      "\u001b[0;32m/var/folders/61/88tkykvs6hdghs1n4xcxmfjm0000gn/T/ipykernel_54953/2050332154.py\u001b[0m in \u001b[0;36m<module>\u001b[0;34m\u001b[0m\n\u001b[1;32m      1\u001b[0m \u001b[0;31m#chi squared\u001b[0m\u001b[0;34m\u001b[0m\u001b[0;34m\u001b[0m\u001b[0m\n\u001b[1;32m      2\u001b[0m \u001b[0mselector\u001b[0m \u001b[0;34m=\u001b[0m \u001b[0mSelectKBest\u001b[0m\u001b[0;34m(\u001b[0m\u001b[0mchi2\u001b[0m\u001b[0;34m,\u001b[0m \u001b[0mk\u001b[0m\u001b[0;34m=\u001b[0m\u001b[0;36m325\u001b[0m\u001b[0;34m)\u001b[0m\u001b[0;34m\u001b[0m\u001b[0;34m\u001b[0m\u001b[0m\n\u001b[0;32m----> 3\u001b[0;31m \u001b[0mx2_new\u001b[0m \u001b[0;34m=\u001b[0m \u001b[0mselector\u001b[0m\u001b[0;34m.\u001b[0m\u001b[0mfit_transform\u001b[0m\u001b[0;34m(\u001b[0m\u001b[0mx2\u001b[0m\u001b[0;34m,\u001b[0m \u001b[0my2\u001b[0m\u001b[0;34m)\u001b[0m\u001b[0;34m\u001b[0m\u001b[0;34m\u001b[0m\u001b[0m\n\u001b[0m\u001b[1;32m      4\u001b[0m \u001b[0mindex_list2\u001b[0m \u001b[0;34m=\u001b[0m \u001b[0mselector\u001b[0m\u001b[0;34m.\u001b[0m\u001b[0mget_support\u001b[0m\u001b[0;34m(\u001b[0m\u001b[0mindices\u001b[0m\u001b[0;34m=\u001b[0m\u001b[0;32mTrue\u001b[0m\u001b[0;34m)\u001b[0m\u001b[0;34m\u001b[0m\u001b[0;34m\u001b[0m\u001b[0m\n\u001b[1;32m      5\u001b[0m \u001b[0mindex_list2\u001b[0m\u001b[0;34m\u001b[0m\u001b[0;34m\u001b[0m\u001b[0m\n",
      "\u001b[0;31mNameError\u001b[0m: name 'x2' is not defined"
     ]
    }
   ],
   "source": [
    "#chi squared\n",
    "selector = SelectKBest(chi2, k=325)\n",
    "x2_new = selector.fit_transform(x2, y2)\n",
    "index_list2 = selector.get_support(indices=True)\n",
    "index_list2\n",
    "gene_ids2 = list(expressionDatatest)\n",
    "gene_names2 = [gene_ids2[i] for i in index_list2]\n",
    "gene_names2\n"
   ]
  },
  {
   "cell_type": "code",
   "execution_count": 105,
   "id": "1ed168ad",
   "metadata": {},
   "outputs": [
    {
     "ename": "ValueError",
     "evalue": "No feature in X meets the variance threshold 0.45510",
     "output_type": "error",
     "traceback": [
      "\u001b[0;31m---------------------------------------------------------------------------\u001b[0m",
      "\u001b[0;31mValueError\u001b[0m                                Traceback (most recent call last)",
      "\u001b[0;32m/var/folders/61/88tkykvs6hdghs1n4xcxmfjm0000gn/T/ipykernel_54953/3570024654.py\u001b[0m in \u001b[0;36m<module>\u001b[0;34m\u001b[0m\n\u001b[1;32m      1\u001b[0m \u001b[0;31m#Variance\u001b[0m\u001b[0;34m\u001b[0m\u001b[0;34m\u001b[0m\u001b[0m\n\u001b[1;32m      2\u001b[0m \u001b[0mselector\u001b[0m \u001b[0;34m=\u001b[0m \u001b[0mVarianceThreshold\u001b[0m\u001b[0;34m(\u001b[0m\u001b[0;36m0.4551\u001b[0m\u001b[0;34m)\u001b[0m\u001b[0;34m\u001b[0m\u001b[0;34m\u001b[0m\u001b[0m\n\u001b[0;32m----> 3\u001b[0;31m \u001b[0mx_new\u001b[0m \u001b[0;34m=\u001b[0m \u001b[0mselector\u001b[0m\u001b[0;34m.\u001b[0m\u001b[0mfit_transform\u001b[0m\u001b[0;34m(\u001b[0m\u001b[0mx\u001b[0m\u001b[0;34m)\u001b[0m\u001b[0;34m\u001b[0m\u001b[0;34m\u001b[0m\u001b[0m\n\u001b[0m\u001b[1;32m      4\u001b[0m \u001b[0;34m\u001b[0m\u001b[0m\n\u001b[1;32m      5\u001b[0m \u001b[0mx_new\u001b[0m\u001b[0;34m.\u001b[0m\u001b[0mshape\u001b[0m\u001b[0;34m\u001b[0m\u001b[0;34m\u001b[0m\u001b[0m\n",
      "\u001b[0;32m~/opt/anaconda3/lib/python3.9/site-packages/sklearn/base.py\u001b[0m in \u001b[0;36mfit_transform\u001b[0;34m(self, X, y, **fit_params)\u001b[0m\n\u001b[1;32m    850\u001b[0m         \u001b[0;32mif\u001b[0m \u001b[0my\u001b[0m \u001b[0;32mis\u001b[0m \u001b[0;32mNone\u001b[0m\u001b[0;34m:\u001b[0m\u001b[0;34m\u001b[0m\u001b[0;34m\u001b[0m\u001b[0m\n\u001b[1;32m    851\u001b[0m             \u001b[0;31m# fit method of arity 1 (unsupervised transformation)\u001b[0m\u001b[0;34m\u001b[0m\u001b[0;34m\u001b[0m\u001b[0m\n\u001b[0;32m--> 852\u001b[0;31m             \u001b[0;32mreturn\u001b[0m \u001b[0mself\u001b[0m\u001b[0;34m.\u001b[0m\u001b[0mfit\u001b[0m\u001b[0;34m(\u001b[0m\u001b[0mX\u001b[0m\u001b[0;34m,\u001b[0m \u001b[0;34m**\u001b[0m\u001b[0mfit_params\u001b[0m\u001b[0;34m)\u001b[0m\u001b[0;34m.\u001b[0m\u001b[0mtransform\u001b[0m\u001b[0;34m(\u001b[0m\u001b[0mX\u001b[0m\u001b[0;34m)\u001b[0m\u001b[0;34m\u001b[0m\u001b[0;34m\u001b[0m\u001b[0m\n\u001b[0m\u001b[1;32m    853\u001b[0m         \u001b[0;32melse\u001b[0m\u001b[0;34m:\u001b[0m\u001b[0;34m\u001b[0m\u001b[0;34m\u001b[0m\u001b[0m\n\u001b[1;32m    854\u001b[0m             \u001b[0;31m# fit method of arity 2 (supervised transformation)\u001b[0m\u001b[0;34m\u001b[0m\u001b[0;34m\u001b[0m\u001b[0m\n",
      "\u001b[0;32m~/opt/anaconda3/lib/python3.9/site-packages/sklearn/feature_selection/_variance_threshold.py\u001b[0m in \u001b[0;36mfit\u001b[0;34m(self, X, y)\u001b[0m\n\u001b[1;32m    118\u001b[0m             \u001b[0;32mif\u001b[0m \u001b[0mX\u001b[0m\u001b[0;34m.\u001b[0m\u001b[0mshape\u001b[0m\u001b[0;34m[\u001b[0m\u001b[0;36m0\u001b[0m\u001b[0;34m]\u001b[0m \u001b[0;34m==\u001b[0m \u001b[0;36m1\u001b[0m\u001b[0;34m:\u001b[0m\u001b[0;34m\u001b[0m\u001b[0;34m\u001b[0m\u001b[0m\n\u001b[1;32m    119\u001b[0m                 \u001b[0mmsg\u001b[0m \u001b[0;34m+=\u001b[0m \u001b[0;34m\" (X contains only one sample)\"\u001b[0m\u001b[0;34m\u001b[0m\u001b[0;34m\u001b[0m\u001b[0m\n\u001b[0;32m--> 120\u001b[0;31m             \u001b[0;32mraise\u001b[0m \u001b[0mValueError\u001b[0m\u001b[0;34m(\u001b[0m\u001b[0mmsg\u001b[0m\u001b[0;34m.\u001b[0m\u001b[0mformat\u001b[0m\u001b[0;34m(\u001b[0m\u001b[0mself\u001b[0m\u001b[0;34m.\u001b[0m\u001b[0mthreshold\u001b[0m\u001b[0;34m)\u001b[0m\u001b[0;34m)\u001b[0m\u001b[0;34m\u001b[0m\u001b[0;34m\u001b[0m\u001b[0m\n\u001b[0m\u001b[1;32m    121\u001b[0m \u001b[0;34m\u001b[0m\u001b[0m\n\u001b[1;32m    122\u001b[0m         \u001b[0;32mreturn\u001b[0m \u001b[0mself\u001b[0m\u001b[0;34m\u001b[0m\u001b[0;34m\u001b[0m\u001b[0m\n",
      "\u001b[0;31mValueError\u001b[0m: No feature in X meets the variance threshold 0.45510"
     ]
    }
   ],
   "source": [
    "#Variance\n",
    "selector = VarianceThreshold(0.4551)\n",
    "x_new = selector.fit_transform(x)\n",
    "\n",
    "x_new.shape"
   ]
  },
  {
   "cell_type": "code",
   "execution_count": 106,
   "id": "f8eab301",
   "metadata": {},
   "outputs": [
    {
     "data": {
      "text/plain": [
       "(457, 50000)"
      ]
     },
     "execution_count": 106,
     "metadata": {},
     "output_type": "execute_result"
    }
   ],
   "source": [
    "#Std\n",
    "stds = []\n",
    "for f in range(67528):\n",
    "    column = x[:,f]\n",
    "    #print(column.std(), f)\n",
    "    stds.append((column.std(),f))\n",
    "stds.sort(reverse=True)\n",
    "stds = [t[1] for t in stds]\n",
    "x_new = x[:,stds]\n",
    "x_new = x_new[:,:50000]\n",
    "\n",
    "x_new.shape"
   ]
  },
  {
   "cell_type": "code",
   "execution_count": 132,
   "id": "c4c732dd",
   "metadata": {},
   "outputs": [
    {
     "data": {
      "text/plain": [
       "array([[ 0.90847199,  1.41805667,  0.74931575, ...,  1.07925569,\n",
       "         0.05709288,  1.07925569],\n",
       "       [-0.92867153, -1.08307239, -0.80710111, ..., -0.6367761 ,\n",
       "         0.9184368 , -0.6367761 ],\n",
       "       [ 1.49230127,  0.59423895,  1.71249219, ..., -2.41928087,\n",
       "        -0.38436145, -2.41928087],\n",
       "       ...,\n",
       "       [-0.64109929,  0.15940028, -0.73632796, ..., -0.99889856,\n",
       "         0.67299551, -0.99889856],\n",
       "       [-0.09341263, -1.06179502, -1.07113066, ...,  0.16768574,\n",
       "         0.03616156,  0.16768574],\n",
       "       [ 0.00924621,  0.16628082, -0.8579271 , ...,  0.97278055,\n",
       "        -0.44480247,  0.97278055]])"
      ]
     },
     "execution_count": 132,
     "metadata": {},
     "output_type": "execute_result"
    }
   ],
   "source": [
    "scaler = StandardScaler()\n",
    "scaler.fit(x)\n",
    "x = scaler.transform(x)\n",
    "x"
   ]
  },
  {
   "cell_type": "code",
   "execution_count": 290,
   "id": "669eebc7",
   "metadata": {},
   "outputs": [],
   "source": [
    "x_train, x_test, y_train, y_test = sklearn.model_selection.train_test_split(x_new, y, test_size=0.3, random_state=0)"
   ]
  },
  {
   "cell_type": "code",
   "execution_count": 291,
   "id": "55663793",
   "metadata": {},
   "outputs": [
    {
     "data": {
      "image/png": "[encoded data removed]",
      "text/plain": [
       "<Figure size 432x288 with 1 Axes>"
      ]
     },
     "metadata": {
      "needs_background": "light"
     },
     "output_type": "display_data"
    }
   ],
   "source": [
    "#plot training and testing data\n",
    "sns.barplot(x=[\"x_train\", \"x_test\", \"y_train\", \"y_test\"], \n",
    "            y=[len(x_train), len(x_test), len(y_train), len(y_test)],\n",
    "           color=\"lightblue\")\n",
    "plt.ylabel(\"count\")\n",
    "plt.show()"
   ]
  },
  {
   "cell_type": "code",
   "execution_count": 159,
   "id": "de4d71e2",
   "metadata": {},
   "outputs": [
    {
     "data": {
      "text/plain": [
       "(0, 325)"
      ]
     },
     "execution_count": 159,
     "metadata": {},
     "output_type": "execute_result"
    }
   ],
   "source": [
    "#back into original swedish and spanish\n",
    "SwedishX = x_new[:256, :]\n",
    "SpanishX = x_new[256:, :]\n",
    "\n",
    "SwedishY = y[:256]\n",
    "SpanishY = y[256:]\n",
    "\n",
    "SpanishX.shape"
   ]
  },
  {
   "cell_type": "code",
   "execution_count": 292,
   "id": "6e88f199",
   "metadata": {},
   "outputs": [],
   "source": [
    "lr = LogisticRegression(max_iter=1000)\n",
    "#lr = RandomForestClassifier(n_estimators=100, max_depth=None, min_samples_split=10, random_state=0)\n"
   ]
  },
  {
   "cell_type": "code",
   "execution_count": 249,
   "id": "2baa2903",
   "metadata": {},
   "outputs": [
    {
     "data": {
      "text/plain": [
       "array([[0.41313518, 0.4494198 , 0.57004535, ..., 0.5728048 , 0.69233871,\n",
       "        0.66509055],\n",
       "       [0.15992377, 0.59024751, 0.73118544, ..., 0.4624458 , 0.75725336,\n",
       "        0.60705808],\n",
       "       [0.46438359, 0.67538321, 0.56685002, ..., 0.49024232, 0.57534463,\n",
       "        0.53791258],\n",
       "       ...,\n",
       "       [0.12886174, 0.62891425, 0.        , ..., 0.29617344, 0.95327725,\n",
       "        0.90146348],\n",
       "       [0.29763806, 0.52430185, 0.54887567, ..., 0.535278  , 0.53584649,\n",
       "        0.53809579],\n",
       "       [0.20513364, 0.55628642, 0.76356463, ..., 0.40901363, 0.90952156,\n",
       "        0.78336508]])"
      ]
     },
     "execution_count": 249,
     "metadata": {},
     "output_type": "execute_result"
    }
   ],
   "source": [
    "x_train"
   ]
  },
  {
   "cell_type": "code",
   "execution_count": 293,
   "id": "14c5bc7d",
   "metadata": {},
   "outputs": [
    {
     "data": {
      "text/plain": [
       "LogisticRegression(max_iter=1000)"
      ]
     },
     "execution_count": 293,
     "metadata": {},
     "output_type": "execute_result"
    }
   ],
   "source": [
    "#train on swedish\n",
    "\n",
    "lr.fit(x_train,y_train)\n"
   ]
  },
  {
   "cell_type": "code",
   "execution_count": 294,
   "id": "3028c6f7",
   "metadata": {},
   "outputs": [
    {
     "data": {
      "text/plain": [
       "(140, 325)"
      ]
     },
     "execution_count": 294,
     "metadata": {},
     "output_type": "execute_result"
    }
   ],
   "source": [
    "x_train.shape"
   ]
  },
  {
   "cell_type": "code",
   "execution_count": 295,
   "id": "8bd9cd17",
   "metadata": {},
   "outputs": [
    {
     "data": {
      "text/plain": [
       "(140,)"
      ]
     },
     "execution_count": 295,
     "metadata": {},
     "output_type": "execute_result"
    }
   ],
   "source": [
    "y_train.shape"
   ]
  },
  {
   "cell_type": "code",
   "execution_count": 296,
   "id": "2a84755e",
   "metadata": {},
   "outputs": [
    {
     "data": {
      "text/plain": [
       "array([0, 0, 1, 1, 0, 0, 1, 0, 0, 0, 0, 0, 0, 1, 1, 0, 1, 0, 1, 0, 0, 0,\n",
       "       1, 0, 1, 1, 1, 0, 0, 1, 0, 0, 1, 0, 0, 0, 0, 0, 0, 0, 0, 0, 1, 0,\n",
       "       1, 0, 0, 1, 0, 0, 0, 1, 0, 0, 1, 1, 1, 0, 0, 1, 0])"
      ]
     },
     "execution_count": 296,
     "metadata": {},
     "output_type": "execute_result"
    }
   ],
   "source": [
    "#test on spanish\n",
    "y_pred = lr.predict(x_test)\n",
    "y_pred"
   ]
  },
  {
   "cell_type": "code",
   "execution_count": 297,
   "id": "f055dce7",
   "metadata": {},
   "outputs": [
    {
     "data": {
      "image/png": "[encoded data removed]",
      "text/plain": [
       "<Figure size 432x288 with 2 Axes>"
      ]
     },
     "metadata": {
      "needs_background": "light"
     },
     "output_type": "display_data"
    }
   ],
   "source": [
    "cnf_matrix = metrics.confusion_matrix(y_test, y_pred) \n",
    "sns.heatmap(pd.DataFrame(cnf_matrix), annot=True, cmap=\"YlGnBu\")\n",
    "plt.xlabel(\"model prediction\")\n",
    "plt.ylabel(\"truth\")\n",
    "plt.show() "
   ]
  },
  {
   "cell_type": "code",
   "execution_count": 298,
   "id": "778a11c3",
   "metadata": {},
   "outputs": [
    {
     "name": "stdout",
     "output_type": "stream",
     "text": [
      "              precision    recall  f1-score   support\n",
      "\n",
      "           0       0.91      0.75      0.82        40\n",
      "           1       0.64      0.86      0.73        21\n",
      "\n",
      "    accuracy                           0.79        61\n",
      "   macro avg       0.78      0.80      0.78        61\n",
      "weighted avg       0.82      0.79      0.79        61\n",
      "\n"
     ]
    }
   ],
   "source": [
    "print(classification_report(y_pred, y_test))"
   ]
  },
  {
   "cell_type": "code",
   "execution_count": 299,
   "id": "c356b2c9",
   "metadata": {},
   "outputs": [
    {
     "data": {
      "image/png": "[encoded data removed]",
      "text/plain": [
       "<Figure size 432x288 with 1 Axes>"
      ]
     },
     "metadata": {
      "needs_background": "light"
     },
     "output_type": "display_data"
    }
   ],
   "source": [
    "fpr, tpr, _ = roc_curve(y_test,  y_pred)\n",
    "\n",
    "plt.plot(fpr,tpr)\n",
    "plt.plot([0, 1], [0, 1], linestyle=\"dashed\")\n",
    "plt.ylabel('True Positive Rate')\n",
    "plt.xlabel('False Positive Rate')\n",
    "plt.show()"
   ]
  },
  {
   "cell_type": "code",
   "execution_count": 300,
   "id": "d5e75dcc",
   "metadata": {},
   "outputs": [
    {
     "data": {
      "text/plain": [
       "0.775974025974026"
      ]
     },
     "execution_count": 300,
     "metadata": {},
     "output_type": "execute_result"
    }
   ],
   "source": [
    "roc_auc_score(y_test, y_pred)"
   ]
  },
  {
   "cell_type": "code",
   "execution_count": 170,
   "id": "07ce08b4",
   "metadata": {},
   "outputs": [
    {
     "ename": "ValueError",
     "evalue": "Found array with 0 sample(s) (shape=(0, 325)) while a minimum of 1 is required.",
     "output_type": "error",
     "traceback": [
      "\u001b[0;31m---------------------------------------------------------------------------\u001b[0m",
      "\u001b[0;31mValueError\u001b[0m                                Traceback (most recent call last)",
      "\u001b[0;32m/var/folders/61/88tkykvs6hdghs1n4xcxmfjm0000gn/T/ipykernel_56077/3359478869.py\u001b[0m in \u001b[0;36m<module>\u001b[0;34m\u001b[0m\n\u001b[1;32m      1\u001b[0m \u001b[0;31m#train on spanish and test on swedish\u001b[0m\u001b[0;34m\u001b[0m\u001b[0;34m\u001b[0m\u001b[0;34m\u001b[0m\u001b[0m\n\u001b[0;32m----> 2\u001b[0;31m \u001b[0mlr\u001b[0m\u001b[0;34m.\u001b[0m\u001b[0mfit\u001b[0m\u001b[0;34m(\u001b[0m\u001b[0mSpanishX\u001b[0m\u001b[0;34m,\u001b[0m\u001b[0mSpanishY\u001b[0m\u001b[0;34m)\u001b[0m\u001b[0;34m\u001b[0m\u001b[0;34m\u001b[0m\u001b[0m\n\u001b[0m\u001b[1;32m      3\u001b[0m \u001b[0my_pred2\u001b[0m \u001b[0;34m=\u001b[0m \u001b[0mlr\u001b[0m\u001b[0;34m.\u001b[0m\u001b[0mpredict\u001b[0m\u001b[0;34m(\u001b[0m\u001b[0mSwedishX\u001b[0m\u001b[0;34m)\u001b[0m\u001b[0;34m\u001b[0m\u001b[0;34m\u001b[0m\u001b[0m\n\u001b[1;32m      4\u001b[0m \u001b[0my_pred2\u001b[0m\u001b[0;34m\u001b[0m\u001b[0;34m\u001b[0m\u001b[0m\n",
      "\u001b[0;32m/Library/Frameworks/Python.framework/Versions/3.7/lib/python3.7/site-packages/sklearn/linear_model/_logistic.py\u001b[0m in \u001b[0;36mfit\u001b[0;34m(self, X, y, sample_weight)\u001b[0m\n\u001b[1;32m   1512\u001b[0m             \u001b[0mdtype\u001b[0m\u001b[0;34m=\u001b[0m\u001b[0m_dtype\u001b[0m\u001b[0;34m,\u001b[0m\u001b[0;34m\u001b[0m\u001b[0;34m\u001b[0m\u001b[0m\n\u001b[1;32m   1513\u001b[0m             \u001b[0morder\u001b[0m\u001b[0;34m=\u001b[0m\u001b[0;34m\"C\"\u001b[0m\u001b[0;34m,\u001b[0m\u001b[0;34m\u001b[0m\u001b[0;34m\u001b[0m\u001b[0m\n\u001b[0;32m-> 1514\u001b[0;31m             \u001b[0maccept_large_sparse\u001b[0m\u001b[0;34m=\u001b[0m\u001b[0msolver\u001b[0m \u001b[0;32mnot\u001b[0m \u001b[0;32min\u001b[0m \u001b[0;34m[\u001b[0m\u001b[0;34m\"liblinear\"\u001b[0m\u001b[0;34m,\u001b[0m \u001b[0;34m\"sag\"\u001b[0m\u001b[0;34m,\u001b[0m \u001b[0;34m\"saga\"\u001b[0m\u001b[0;34m]\u001b[0m\u001b[0;34m,\u001b[0m\u001b[0;34m\u001b[0m\u001b[0;34m\u001b[0m\u001b[0m\n\u001b[0m\u001b[1;32m   1515\u001b[0m         )\n\u001b[1;32m   1516\u001b[0m         \u001b[0mcheck_classification_targets\u001b[0m\u001b[0;34m(\u001b[0m\u001b[0my\u001b[0m\u001b[0;34m)\u001b[0m\u001b[0;34m\u001b[0m\u001b[0;34m\u001b[0m\u001b[0m\n",
      "\u001b[0;32m/Library/Frameworks/Python.framework/Versions/3.7/lib/python3.7/site-packages/sklearn/base.py\u001b[0m in \u001b[0;36m_validate_data\u001b[0;34m(self, X, y, reset, validate_separately, **check_params)\u001b[0m\n\u001b[1;32m    579\u001b[0m                 \u001b[0my\u001b[0m \u001b[0;34m=\u001b[0m \u001b[0mcheck_array\u001b[0m\u001b[0;34m(\u001b[0m\u001b[0my\u001b[0m\u001b[0;34m,\u001b[0m \u001b[0;34m**\u001b[0m\u001b[0mcheck_y_params\u001b[0m\u001b[0;34m)\u001b[0m\u001b[0;34m\u001b[0m\u001b[0;34m\u001b[0m\u001b[0m\n\u001b[1;32m    580\u001b[0m             \u001b[0;32melse\u001b[0m\u001b[0;34m:\u001b[0m\u001b[0;34m\u001b[0m\u001b[0;34m\u001b[0m\u001b[0m\n\u001b[0;32m--> 581\u001b[0;31m                 \u001b[0mX\u001b[0m\u001b[0;34m,\u001b[0m \u001b[0my\u001b[0m \u001b[0;34m=\u001b[0m \u001b[0mcheck_X_y\u001b[0m\u001b[0;34m(\u001b[0m\u001b[0mX\u001b[0m\u001b[0;34m,\u001b[0m \u001b[0my\u001b[0m\u001b[0;34m,\u001b[0m \u001b[0;34m**\u001b[0m\u001b[0mcheck_params\u001b[0m\u001b[0;34m)\u001b[0m\u001b[0;34m\u001b[0m\u001b[0;34m\u001b[0m\u001b[0m\n\u001b[0m\u001b[1;32m    582\u001b[0m             \u001b[0mout\u001b[0m \u001b[0;34m=\u001b[0m \u001b[0mX\u001b[0m\u001b[0;34m,\u001b[0m \u001b[0my\u001b[0m\u001b[0;34m\u001b[0m\u001b[0;34m\u001b[0m\u001b[0m\n\u001b[1;32m    583\u001b[0m \u001b[0;34m\u001b[0m\u001b[0m\n",
      "\u001b[0;32m/Library/Frameworks/Python.framework/Versions/3.7/lib/python3.7/site-packages/sklearn/utils/validation.py\u001b[0m in \u001b[0;36mcheck_X_y\u001b[0;34m(X, y, accept_sparse, accept_large_sparse, dtype, order, copy, force_all_finite, ensure_2d, allow_nd, multi_output, ensure_min_samples, ensure_min_features, y_numeric, estimator)\u001b[0m\n\u001b[1;32m    974\u001b[0m         \u001b[0mensure_min_samples\u001b[0m\u001b[0;34m=\u001b[0m\u001b[0mensure_min_samples\u001b[0m\u001b[0;34m,\u001b[0m\u001b[0;34m\u001b[0m\u001b[0;34m\u001b[0m\u001b[0m\n\u001b[1;32m    975\u001b[0m         \u001b[0mensure_min_features\u001b[0m\u001b[0;34m=\u001b[0m\u001b[0mensure_min_features\u001b[0m\u001b[0;34m,\u001b[0m\u001b[0;34m\u001b[0m\u001b[0;34m\u001b[0m\u001b[0m\n\u001b[0;32m--> 976\u001b[0;31m         \u001b[0mestimator\u001b[0m\u001b[0;34m=\u001b[0m\u001b[0mestimator\u001b[0m\u001b[0;34m,\u001b[0m\u001b[0;34m\u001b[0m\u001b[0;34m\u001b[0m\u001b[0m\n\u001b[0m\u001b[1;32m    977\u001b[0m     )\n\u001b[1;32m    978\u001b[0m \u001b[0;34m\u001b[0m\u001b[0m\n",
      "\u001b[0;32m/Library/Frameworks/Python.framework/Versions/3.7/lib/python3.7/site-packages/sklearn/utils/validation.py\u001b[0m in \u001b[0;36mcheck_array\u001b[0;34m(array, accept_sparse, accept_large_sparse, dtype, order, copy, force_all_finite, ensure_2d, allow_nd, ensure_min_samples, ensure_min_features, estimator)\u001b[0m\n\u001b[1;32m    806\u001b[0m                 \u001b[0;34m\"Found array with %d sample(s) (shape=%s) while a\"\u001b[0m\u001b[0;34m\u001b[0m\u001b[0;34m\u001b[0m\u001b[0m\n\u001b[1;32m    807\u001b[0m                 \u001b[0;34m\" minimum of %d is required%s.\"\u001b[0m\u001b[0;34m\u001b[0m\u001b[0;34m\u001b[0m\u001b[0m\n\u001b[0;32m--> 808\u001b[0;31m                 \u001b[0;34m%\u001b[0m \u001b[0;34m(\u001b[0m\u001b[0mn_samples\u001b[0m\u001b[0;34m,\u001b[0m \u001b[0marray\u001b[0m\u001b[0;34m.\u001b[0m\u001b[0mshape\u001b[0m\u001b[0;34m,\u001b[0m \u001b[0mensure_min_samples\u001b[0m\u001b[0;34m,\u001b[0m \u001b[0mcontext\u001b[0m\u001b[0;34m)\u001b[0m\u001b[0;34m\u001b[0m\u001b[0;34m\u001b[0m\u001b[0m\n\u001b[0m\u001b[1;32m    809\u001b[0m             )\n\u001b[1;32m    810\u001b[0m \u001b[0;34m\u001b[0m\u001b[0m\n",
      "\u001b[0;31mValueError\u001b[0m: Found array with 0 sample(s) (shape=(0, 325)) while a minimum of 1 is required."
     ]
    }
   ],
   "source": [
    "#train on spanish and test on swedish\n",
    "lr.fit(SpanishX,SpanishY)\n",
    "y_pred2 = lr.predict(SwedishX)\n",
    "y_pred2\n"
   ]
  },
  {
   "cell_type": "code",
   "execution_count": 113,
   "id": "5587852c",
   "metadata": {},
   "outputs": [
    {
     "data": {
      "image/png": "[encoded data removed]",
      "text/plain": [
       "<Figure size 432x288 with 2 Axes>"
      ]
     },
     "metadata": {
      "needs_background": "light"
     },
     "output_type": "display_data"
    }
   ],
   "source": [
    "cnf_matrix = metrics.confusion_matrix(SwedishY, y_pred2) \n",
    "sns.heatmap(pd.DataFrame(cnf_matrix), annot=True, cmap=\"YlGnBu\")\n",
    "plt.xlabel(\"model prediction\")\n",
    "plt.ylabel(\"truth\")\n",
    "plt.show() "
   ]
  },
  {
   "cell_type": "code",
   "execution_count": 114,
   "id": "9dfcf19a",
   "metadata": {},
   "outputs": [
    {
     "data": {
      "image/png": "[encoded data removed]",
      "text/plain": [
       "<Figure size 432x288 with 1 Axes>"
      ]
     },
     "metadata": {
      "needs_background": "light"
     },
     "output_type": "display_data"
    }
   ],
   "source": [
    "fpr, tpr, _ = roc_curve(SwedishY,  np.rint(y_pred2))\n",
    "\n",
    "plt.plot(fpr,tpr)\n",
    "plt.plot([0, 1], [0, 1], linestyle=\"dashed\")\n",
    "plt.ylabel('True Positive Rate')\n",
    "plt.xlabel('False Positive Rate')\n",
    "plt.show()"
   ]
  },
  {
   "cell_type": "code",
   "execution_count": 115,
   "id": "99140bb9",
   "metadata": {},
   "outputs": [
    {
     "data": {
      "text/plain": [
       "0.5"
      ]
     },
     "execution_count": 115,
     "metadata": {},
     "output_type": "execute_result"
    }
   ],
   "source": [
    "roc_auc_score(SwedishY, np.rint(y_pred2))"
   ]
  },
  {
   "cell_type": "code",
   "execution_count": 301,
   "id": "de8eaac8",
   "metadata": {},
   "outputs": [],
   "source": [
    "lst = list(np.exp(lr.coef_[0]))\n",
    "lst = [(lst[i],i) for i in range(len(lst))]"
   ]
  },
  {
   "cell_type": "code",
   "execution_count": 285,
   "id": "626e1240",
   "metadata": {},
   "outputs": [],
   "source": [
    "SwedishBetas = lst"
   ]
  },
  {
   "cell_type": "code",
   "execution_count": 302,
   "id": "9bfb55a0",
   "metadata": {},
   "outputs": [],
   "source": [
    "SpanishBetas = lst"
   ]
  },
  {
   "cell_type": "code",
   "execution_count": 321,
   "id": "e4f5df61",
   "metadata": {},
   "outputs": [
    {
     "data": {
      "text/plain": [
       "[(0.9764245155142711, 0),\n",
       " (0.839054267697332, 1),\n",
       " (1.0240633333783808, 2),\n",
       " (1.1259194067386742, 3),\n",
       " (1.2013704320990293, 4),\n",
       " (1.2893596641276257, 5),\n",
       " (1.4375048893373499, 6),\n",
       " (0.9039962635118618, 7),\n",
       " (1.0202591880847283, 8),\n",
       " (1.0675667446172237, 9),\n",
       " (0.8164864986237508, 10),\n",
       " (0.4718376402792855, 11),\n",
       " (1.8524085845946348, 12),\n",
       " (1.707036889397186, 13),\n",
       " (1.1364151214838574, 14),\n",
       " (0.9367201800233176, 15),\n",
       " (1.3140153603358227, 16),\n",
       " (1.180651865419193, 17),\n",
       " (1.2816914903155334, 18),\n",
       " (0.9629066065919645, 19),\n",
       " (1.4893987950481349, 20),\n",
       " (0.9532986330731292, 21),\n",
       " (1.8092754277650702, 22),\n",
       " (1.5798717528676542, 23),\n",
       " (1.2084348154576199, 24),\n",
       " (0.7617332653272303, 25),\n",
       " (1.0907796558311715, 26),\n",
       " (1.3530100519902124, 27),\n",
       " (1.1938281691409849, 28),\n",
       " (0.9571861423485335, 29),\n",
       " (0.9368766037156032, 30),\n",
       " (0.7015520449174887, 31),\n",
       " (0.7528257304950084, 32),\n",
       " (1.475823446641775, 33),\n",
       " (1.2440162792735419, 34),\n",
       " (0.6116692632819594, 35),\n",
       " (1.180004342874061, 36),\n",
       " (1.2943431530872067, 37),\n",
       " (1.3666830845588787, 38),\n",
       " (1.2016452011021777, 39),\n",
       " (1.3508117669544322, 40),\n",
       " (0.9416507382733762, 41),\n",
       " (1.3221379271887757, 42),\n",
       " (1.3438987797325161, 43),\n",
       " (0.717911380504472, 44),\n",
       " (1.556752441601081, 45),\n",
       " (1.134439989308813, 46),\n",
       " (1.0176397848880738, 47),\n",
       " (1.1096237616218958, 48),\n",
       " (0.9495273412136531, 49),\n",
       " (0.9528078610473094, 50),\n",
       " (1.2209182712167939, 51),\n",
       " (1.5231833930329914, 52),\n",
       " (1.3029258215921067, 53),\n",
       " (0.4520579404960231, 54),\n",
       " (1.174583315181204, 55),\n",
       " (1.3800501507733856, 56),\n",
       " (1.1176149479673831, 57),\n",
       " (0.8013428984391479, 58),\n",
       " (0.9309536004686141, 59),\n",
       " (0.7573913748135387, 60),\n",
       " (0.5870943527683706, 61),\n",
       " (1.0369841793213133, 62),\n",
       " (0.7614966999662949, 63),\n",
       " (0.7826843925345122, 64),\n",
       " (1.3037457776235841, 65),\n",
       " (1.1835286252941906, 66),\n",
       " (1.2168340917331761, 67),\n",
       " (1.114026661854499, 68),\n",
       " (1.122599235610684, 69),\n",
       " (1.1101180113938878, 70),\n",
       " (1.848883012755234, 71),\n",
       " (0.7861032344288728, 72),\n",
       " (1.1873809266806956, 73),\n",
       " (1.1696697950396866, 74),\n",
       " (1.2972871425231693, 75),\n",
       " (0.822857595523022, 76),\n",
       " (0.8394100351905562, 77),\n",
       " (1.0111275464080367, 78),\n",
       " (1.165868448306384, 79),\n",
       " (0.988644388535571, 80),\n",
       " (1.2917582535708012, 81),\n",
       " (0.9504842795288433, 82),\n",
       " (1.0362306303346942, 83),\n",
       " (1.2925715713212893, 84),\n",
       " (0.6906018022067197, 85),\n",
       " (0.8536030832576391, 86),\n",
       " (0.5720906538318257, 87),\n",
       " (0.9474357326567389, 88),\n",
       " (1.426323092285762, 89),\n",
       " (0.8628739956024997, 90),\n",
       " (1.611707007220317, 91),\n",
       " (1.1329864141800736, 92),\n",
       " (0.7339824623724658, 93),\n",
       " (1.104624895466725, 94),\n",
       " (0.7817825552000165, 95),\n",
       " (0.9219718693897971, 96),\n",
       " (1.3651879843297428, 97),\n",
       " (0.8067773467566268, 98),\n",
       " (1.304407330698528, 99),\n",
       " (1.7839060393720463, 100),\n",
       " (0.47145001160162003, 101),\n",
       " (0.8483144561046206, 102),\n",
       " (0.7134016673296985, 103),\n",
       " (1.0845900384348963, 104),\n",
       " (1.9923188391218445, 105),\n",
       " (1.4312961843319236, 106),\n",
       " (1.1901347506130684, 107),\n",
       " (0.4867375090372592, 108),\n",
       " (1.9117875691734127, 109),\n",
       " (0.8508998567863555, 110),\n",
       " (1.5382690447272824, 111),\n",
       " (0.8139012676934438, 112),\n",
       " (0.9914178321887818, 113),\n",
       " (1.2777287072420334, 114),\n",
       " (1.1720865325066503, 115),\n",
       " (1.484241012895218, 116),\n",
       " (0.9559965253712985, 117),\n",
       " (1.1091565214412553, 118),\n",
       " (1.2254872089338442, 119),\n",
       " (0.9972631934999576, 120),\n",
       " (1.078551958186171, 121),\n",
       " (1.0603662828919433, 122),\n",
       " (1.3086053820648005, 123),\n",
       " (1.9992564762029028, 124),\n",
       " (1.50842690969385, 125),\n",
       " (1.5239986017380083, 126),\n",
       " (1.919853245501249, 127),\n",
       " (1.6253477847418838, 128),\n",
       " (0.6888153444466213, 129),\n",
       " (0.7135050306256253, 130),\n",
       " (0.8386354681222757, 131),\n",
       " (0.8272157668022062, 132),\n",
       " (1.144435782163537, 133),\n",
       " (0.6965509423891717, 134),\n",
       " (0.9050199842868111, 135),\n",
       " (0.9995437804916059, 136),\n",
       " (2.1944580488754077, 137),\n",
       " (1.262787144046843, 138),\n",
       " (1.3719492499957189, 139),\n",
       " (1.0204978477969802, 140),\n",
       " (1.7273803743604002, 141),\n",
       " (0.6460387888536232, 142),\n",
       " (1.2199605891894356, 143),\n",
       " (0.8621144713497425, 144),\n",
       " (0.7298936253140899, 145),\n",
       " (0.9384423682532461, 146),\n",
       " (1.62171712269, 147),\n",
       " (0.9815120451477405, 148),\n",
       " (1.5571735643378855, 149),\n",
       " (2.1641924254184857, 150),\n",
       " (2.187586914327655, 151),\n",
       " (0.7833376166690201, 152),\n",
       " (1.3258902120115958, 153),\n",
       " (1.056090779895427, 154),\n",
       " (1.391677869512054, 155),\n",
       " (0.8041391115389585, 156),\n",
       " (1.1289913322137468, 157),\n",
       " (0.9248064274135547, 158),\n",
       " (0.8554718317714523, 159),\n",
       " (0.8247986846316185, 160),\n",
       " (1.1041733282302013, 161),\n",
       " (1.7598128254237533, 162),\n",
       " (1.0091413069651394, 163),\n",
       " (0.3404991457681086, 164),\n",
       " (0.9654912658350577, 165),\n",
       " (1.4392031585225948, 166),\n",
       " (1.1261423561507844, 167),\n",
       " (0.7580010629524514, 168),\n",
       " (0.5635358319454685, 169),\n",
       " (1.8176927872007225, 170),\n",
       " (0.9285247349689112, 171),\n",
       " (1.3486631598014027, 172),\n",
       " (1.8288044750952852, 173),\n",
       " (1.1097499256684757, 174),\n",
       " (0.9887891945207572, 175),\n",
       " (0.8968647109186905, 176),\n",
       " (1.0753015212175545, 177),\n",
       " (0.9952882785416801, 178),\n",
       " (0.6988068756802637, 179),\n",
       " (0.7354201310387743, 180),\n",
       " (0.9984201628817335, 181),\n",
       " (1.1090301452745397, 182),\n",
       " (1.1869549184166497, 183),\n",
       " (1.1519144215193002, 184),\n",
       " (0.7686353860461214, 185),\n",
       " (0.7070086734839671, 186),\n",
       " (1.3012962194813162, 187),\n",
       " (0.6452150955264405, 188),\n",
       " (0.8329937249766214, 189),\n",
       " (0.5382856072579553, 190),\n",
       " (0.9457833068419935, 191),\n",
       " (1.1208722876637354, 192),\n",
       " (1.119156667934602, 193),\n",
       " (1.1173056456878137, 194),\n",
       " (0.840144647740873, 195),\n",
       " (0.9965151154545797, 196),\n",
       " (1.5968140937819018, 197),\n",
       " (1.0765644471918179, 198),\n",
       " (1.104499960252268, 199),\n",
       " (0.8529555723585048, 200),\n",
       " (0.83543668599984, 201),\n",
       " (0.9751429977460695, 202),\n",
       " (0.8910995082370159, 203),\n",
       " (1.3316271438414577, 204),\n",
       " (2.127625374325064, 205),\n",
       " (1.4715877802225177, 206),\n",
       " (0.9419146176996589, 207),\n",
       " (0.7886523694897758, 208),\n",
       " (1.4916005780812818, 209),\n",
       " (1.4673570099622286, 210),\n",
       " (1.2358878049255033, 211),\n",
       " (1.079892791716235, 212),\n",
       " (1.8216381302995208, 213),\n",
       " (1.144125581782784, 214),\n",
       " (2.370155037175149, 215),\n",
       " (1.166578310067058, 216),\n",
       " (1.0691689984002115, 217),\n",
       " (0.9044796071092038, 218),\n",
       " (1.0021089835775796, 219),\n",
       " (0.5436855489847671, 220),\n",
       " (1.626742678902584, 221),\n",
       " (1.2353860679245352, 222),\n",
       " (1.0247765344618995, 223),\n",
       " (0.985861856344901, 224),\n",
       " (0.7772242295961234, 225),\n",
       " (1.1610885246280758, 226),\n",
       " (2.36610030922038, 227),\n",
       " (0.8829717601035456, 228),\n",
       " (0.7680273917350552, 229),\n",
       " (1.278243408492994, 230),\n",
       " (1.0911457648243432, 231),\n",
       " (0.7842651883136246, 232),\n",
       " (1.700504083581243, 233),\n",
       " (0.6483083183647638, 234),\n",
       " (0.6312900508482935, 235),\n",
       " (1.2437391626292644, 236),\n",
       " (1.2792713461398428, 237),\n",
       " (1.483080843151553, 238),\n",
       " (0.7402084766877218, 239),\n",
       " (0.7988929309859025, 240),\n",
       " (1.1330715971592986, 241),\n",
       " (0.8072329483378087, 242),\n",
       " (1.876456989308833, 243),\n",
       " (1.1134774339736226, 244),\n",
       " (2.038157192089877, 245),\n",
       " (0.9022646927133675, 246),\n",
       " (1.1505930452609339, 247),\n",
       " (1.9927839410774482, 248),\n",
       " (1.3205474653323916, 249),\n",
       " (1.1770277757669014, 250),\n",
       " (0.766372170677829, 251),\n",
       " (1.3202537937407457, 252),\n",
       " (0.5938663919607055, 253),\n",
       " (0.8999801104782215, 254),\n",
       " (1.810408091585989, 255),\n",
       " (1.5596727935068497, 256),\n",
       " (0.7027051364938914, 257),\n",
       " (0.8982921443621489, 258),\n",
       " (1.3852511408452646, 259),\n",
       " (0.9283931176593259, 260),\n",
       " (1.2131896757663088, 261),\n",
       " (1.3233120075198281, 262),\n",
       " (1.3161007992030143, 263),\n",
       " (0.7428153102961744, 264),\n",
       " (0.8772271354723508, 265),\n",
       " (1.000372148658963, 266),\n",
       " (1.093835307762511, 267),\n",
       " (1.0895429014624045, 268),\n",
       " (1.2735209759611652, 269),\n",
       " (1.2303109010029867, 270),\n",
       " (0.7393596715767179, 271),\n",
       " (1.3953136371979271, 272),\n",
       " (1.0592430388968483, 273),\n",
       " (1.3160235458542286, 274),\n",
       " (0.514975244874536, 275),\n",
       " (0.8268994276909915, 276),\n",
       " (1.0968043959435447, 277),\n",
       " (1.471296590594853, 278),\n",
       " (0.9878109916512187, 279),\n",
       " (1.1477355689321744, 280),\n",
       " (0.6811539054825188, 281),\n",
       " (1.121619114773512, 282),\n",
       " (1.0975073804861935, 283),\n",
       " (1.064838751799749, 284),\n",
       " (0.9304855395296124, 285),\n",
       " (1.1766561405877995, 286),\n",
       " (1.2550088715372094, 287),\n",
       " (1.0073056524083959, 288),\n",
       " (1.2423418814744622, 289),\n",
       " (0.9875556336312991, 290),\n",
       " (0.5747059576696506, 291),\n",
       " (1.457507751795041, 292),\n",
       " (1.3033709009429137, 293),\n",
       " (0.7045991211160397, 294),\n",
       " (0.8435712237339452, 295),\n",
       " (1.188426904793003, 296),\n",
       " (0.6568296623315917, 297),\n",
       " (0.7761865039834926, 298),\n",
       " (1.1689334905309485, 299),\n",
       " (0.6087748504059322, 300),\n",
       " (0.6608121724716493, 301),\n",
       " (1.271991104861253, 302),\n",
       " (0.9815239587193889, 303),\n",
       " (0.966004525041594, 304),\n",
       " (1.0624665815725012, 305),\n",
       " (0.8483185565825881, 306),\n",
       " (0.796889675487985, 307),\n",
       " (1.0956164196967675, 308),\n",
       " (1.140222674583748, 309),\n",
       " (1.394551037305033, 310),\n",
       " (1.1380772233583192, 311),\n",
       " (0.8428544325034918, 312),\n",
       " (1.2268625326282747, 313),\n",
       " (0.6488224863670178, 314),\n",
       " (1.06000379188318, 315),\n",
       " (1.6499823681693648, 316),\n",
       " (0.7676563483478994, 317),\n",
       " (1.6541625657000354, 318),\n",
       " (1.0440189401373543, 319),\n",
       " (1.2453165221182223, 320),\n",
       " (1.2852051520148995, 321),\n",
       " (1.3013048842113484, 322),\n",
       " (1.543779679716342, 323),\n",
       " (1.0887958194070249, 324)]"
      ]
     },
     "execution_count": 321,
     "metadata": {},
     "output_type": "execute_result"
    }
   ],
   "source": [
    "SpanishBetas"
   ]
  },
  {
   "cell_type": "code",
   "execution_count": 316,
   "id": "dd6b5e96",
   "metadata": {},
   "outputs": [],
   "source": [
    "SpanishBetas = sorted(SpanishBetas, key=lambda x: x[1])\n",
    "SwedishBetas = sorted(SwedishBetas, key=lambda x: x[1])"
   ]
  },
  {
   "cell_type": "code",
   "execution_count": 318,
   "id": "efa068b1",
   "metadata": {},
   "outputs": [
    {
     "data": {
      "text/plain": [
       "<AxesSubplot:xlabel='Swedish Beta Values', ylabel='Spanish Beta Values'>"
      ]
     },
     "execution_count": 318,
     "metadata": {},
     "output_type": "execute_result"
    },
    {
     "data": {
      "image/png": "[encoded data removed]",
      "text/plain": [
       "<Figure size 432x288 with 1 Axes>"
      ]
     },
     "metadata": {
      "needs_background": "light"
     },
     "output_type": "display_data"
    }
   ],
   "source": [
    "data = {'Swedish Beta Values': [b[0] for b in SwedishBetas], 'Spanish Beta Values': [b[0] for b in SpanishBetas]}\n",
    "df = pd.DataFrame(data)\n",
    "sns.scatterplot(x='Swedish Beta Values',y='Spanish Beta Values',data=df)"
   ]
  },
  {
   "cell_type": "code",
   "execution_count": 320,
   "id": "c31cb8f6",
   "metadata": {},
   "outputs": [
    {
     "ename": "ValueError",
     "evalue": "Length of values (650) does not match length of index (325)",
     "output_type": "error",
     "traceback": [
      "\u001b[0;31m---------------------------------------------------------------------------\u001b[0m",
      "\u001b[0;31mValueError\u001b[0m                                Traceback (most recent call last)",
      "\u001b[0;32m/var/folders/61/88tkykvs6hdghs1n4xcxmfjm0000gn/T/ipykernel_56077/2539550706.py\u001b[0m in \u001b[0;36m<module>\u001b[0;34m\u001b[0m\n\u001b[1;32m      2\u001b[0m \u001b[0;34m\u001b[0m\u001b[0m\n\u001b[1;32m      3\u001b[0m \u001b[0;31m# Add a new column 'Group' to differentiate the two groups\u001b[0m\u001b[0;34m\u001b[0m\u001b[0;34m\u001b[0m\u001b[0;34m\u001b[0m\u001b[0m\n\u001b[0;32m----> 4\u001b[0;31m \u001b[0mdf\u001b[0m\u001b[0;34m[\u001b[0m\u001b[0;34m'Group'\u001b[0m\u001b[0;34m]\u001b[0m \u001b[0;34m=\u001b[0m \u001b[0;34m[\u001b[0m\u001b[0;34m'Swedish'\u001b[0m\u001b[0;34m]\u001b[0m \u001b[0;34m*\u001b[0m \u001b[0mlen\u001b[0m\u001b[0;34m(\u001b[0m\u001b[0mSwedishBetas\u001b[0m\u001b[0;34m)\u001b[0m \u001b[0;34m+\u001b[0m \u001b[0;34m[\u001b[0m\u001b[0;34m'Spanish'\u001b[0m\u001b[0;34m]\u001b[0m \u001b[0;34m*\u001b[0m \u001b[0mlen\u001b[0m\u001b[0;34m(\u001b[0m\u001b[0mSpanishBetas\u001b[0m\u001b[0;34m)\u001b[0m\u001b[0;34m\u001b[0m\u001b[0;34m\u001b[0m\u001b[0m\n\u001b[0m\u001b[1;32m      5\u001b[0m \u001b[0;34m\u001b[0m\u001b[0m\n\u001b[1;32m      6\u001b[0m \u001b[0msns\u001b[0m\u001b[0;34m.\u001b[0m\u001b[0mscatterplot\u001b[0m\u001b[0;34m(\u001b[0m\u001b[0mx\u001b[0m\u001b[0;34m=\u001b[0m\u001b[0;34m'Swedish Beta Values'\u001b[0m\u001b[0;34m,\u001b[0m \u001b[0my\u001b[0m\u001b[0;34m=\u001b[0m\u001b[0;34m'Spanish Beta Values'\u001b[0m\u001b[0;34m,\u001b[0m \u001b[0mhue\u001b[0m\u001b[0;34m=\u001b[0m\u001b[0;34m'Group'\u001b[0m\u001b[0;34m,\u001b[0m \u001b[0mdata\u001b[0m\u001b[0;34m=\u001b[0m\u001b[0mdf\u001b[0m\u001b[0;34m,\u001b[0m \u001b[0mpalette\u001b[0m\u001b[0;34m=\u001b[0m\u001b[0;34m{\u001b[0m\u001b[0;34m'Swedish'\u001b[0m\u001b[0;34m:\u001b[0m \u001b[0;34m'blue'\u001b[0m\u001b[0;34m,\u001b[0m \u001b[0;34m'Spanish'\u001b[0m\u001b[0;34m:\u001b[0m \u001b[0;34m'red'\u001b[0m\u001b[0;34m}\u001b[0m\u001b[0;34m)\u001b[0m\u001b[0;34m\u001b[0m\u001b[0;34m\u001b[0m\u001b[0m\n",
      "\u001b[0;32m/Library/Frameworks/Python.framework/Versions/3.7/lib/python3.7/site-packages/pandas/core/frame.py\u001b[0m in \u001b[0;36m__setitem__\u001b[0;34m(self, key, value)\u001b[0m\n\u001b[1;32m   3610\u001b[0m         \u001b[0;32melse\u001b[0m\u001b[0;34m:\u001b[0m\u001b[0;34m\u001b[0m\u001b[0;34m\u001b[0m\u001b[0m\n\u001b[1;32m   3611\u001b[0m             \u001b[0;31m# set column\u001b[0m\u001b[0;34m\u001b[0m\u001b[0;34m\u001b[0m\u001b[0;34m\u001b[0m\u001b[0m\n\u001b[0;32m-> 3612\u001b[0;31m             \u001b[0mself\u001b[0m\u001b[0;34m.\u001b[0m\u001b[0m_set_item\u001b[0m\u001b[0;34m(\u001b[0m\u001b[0mkey\u001b[0m\u001b[0;34m,\u001b[0m \u001b[0mvalue\u001b[0m\u001b[0;34m)\u001b[0m\u001b[0;34m\u001b[0m\u001b[0;34m\u001b[0m\u001b[0m\n\u001b[0m\u001b[1;32m   3613\u001b[0m \u001b[0;34m\u001b[0m\u001b[0m\n\u001b[1;32m   3614\u001b[0m     \u001b[0;32mdef\u001b[0m \u001b[0m_setitem_slice\u001b[0m\u001b[0;34m(\u001b[0m\u001b[0mself\u001b[0m\u001b[0;34m,\u001b[0m \u001b[0mkey\u001b[0m\u001b[0;34m:\u001b[0m \u001b[0mslice\u001b[0m\u001b[0;34m,\u001b[0m \u001b[0mvalue\u001b[0m\u001b[0;34m)\u001b[0m\u001b[0;34m:\u001b[0m\u001b[0;34m\u001b[0m\u001b[0;34m\u001b[0m\u001b[0m\n",
      "\u001b[0;32m/Library/Frameworks/Python.framework/Versions/3.7/lib/python3.7/site-packages/pandas/core/frame.py\u001b[0m in \u001b[0;36m_set_item\u001b[0;34m(self, key, value)\u001b[0m\n\u001b[1;32m   3782\u001b[0m         \u001b[0mensure\u001b[0m \u001b[0mhomogeneity\u001b[0m\u001b[0;34m.\u001b[0m\u001b[0;34m\u001b[0m\u001b[0;34m\u001b[0m\u001b[0m\n\u001b[1;32m   3783\u001b[0m         \"\"\"\n\u001b[0;32m-> 3784\u001b[0;31m         \u001b[0mvalue\u001b[0m \u001b[0;34m=\u001b[0m \u001b[0mself\u001b[0m\u001b[0;34m.\u001b[0m\u001b[0m_sanitize_column\u001b[0m\u001b[0;34m(\u001b[0m\u001b[0mvalue\u001b[0m\u001b[0;34m)\u001b[0m\u001b[0;34m\u001b[0m\u001b[0;34m\u001b[0m\u001b[0m\n\u001b[0m\u001b[1;32m   3785\u001b[0m \u001b[0;34m\u001b[0m\u001b[0m\n\u001b[1;32m   3786\u001b[0m         if (\n",
      "\u001b[0;32m/Library/Frameworks/Python.framework/Versions/3.7/lib/python3.7/site-packages/pandas/core/frame.py\u001b[0m in \u001b[0;36m_sanitize_column\u001b[0;34m(self, value)\u001b[0m\n\u001b[1;32m   4507\u001b[0m \u001b[0;34m\u001b[0m\u001b[0m\n\u001b[1;32m   4508\u001b[0m         \u001b[0;32mif\u001b[0m \u001b[0mis_list_like\u001b[0m\u001b[0;34m(\u001b[0m\u001b[0mvalue\u001b[0m\u001b[0;34m)\u001b[0m\u001b[0;34m:\u001b[0m\u001b[0;34m\u001b[0m\u001b[0;34m\u001b[0m\u001b[0m\n\u001b[0;32m-> 4509\u001b[0;31m             \u001b[0mcom\u001b[0m\u001b[0;34m.\u001b[0m\u001b[0mrequire_length_match\u001b[0m\u001b[0;34m(\u001b[0m\u001b[0mvalue\u001b[0m\u001b[0;34m,\u001b[0m \u001b[0mself\u001b[0m\u001b[0;34m.\u001b[0m\u001b[0mindex\u001b[0m\u001b[0;34m)\u001b[0m\u001b[0;34m\u001b[0m\u001b[0;34m\u001b[0m\u001b[0m\n\u001b[0m\u001b[1;32m   4510\u001b[0m         \u001b[0;32mreturn\u001b[0m \u001b[0msanitize_array\u001b[0m\u001b[0;34m(\u001b[0m\u001b[0mvalue\u001b[0m\u001b[0;34m,\u001b[0m \u001b[0mself\u001b[0m\u001b[0;34m.\u001b[0m\u001b[0mindex\u001b[0m\u001b[0;34m,\u001b[0m \u001b[0mcopy\u001b[0m\u001b[0;34m=\u001b[0m\u001b[0;32mTrue\u001b[0m\u001b[0;34m,\u001b[0m \u001b[0mallow_2d\u001b[0m\u001b[0;34m=\u001b[0m\u001b[0;32mTrue\u001b[0m\u001b[0;34m)\u001b[0m\u001b[0;34m\u001b[0m\u001b[0;34m\u001b[0m\u001b[0m\n\u001b[1;32m   4511\u001b[0m \u001b[0;34m\u001b[0m\u001b[0m\n",
      "\u001b[0;32m/Library/Frameworks/Python.framework/Versions/3.7/lib/python3.7/site-packages/pandas/core/common.py\u001b[0m in \u001b[0;36mrequire_length_match\u001b[0;34m(data, index)\u001b[0m\n\u001b[1;32m    530\u001b[0m     \u001b[0;32mif\u001b[0m \u001b[0mlen\u001b[0m\u001b[0;34m(\u001b[0m\u001b[0mdata\u001b[0m\u001b[0;34m)\u001b[0m \u001b[0;34m!=\u001b[0m \u001b[0mlen\u001b[0m\u001b[0;34m(\u001b[0m\u001b[0mindex\u001b[0m\u001b[0;34m)\u001b[0m\u001b[0;34m:\u001b[0m\u001b[0;34m\u001b[0m\u001b[0;34m\u001b[0m\u001b[0m\n\u001b[1;32m    531\u001b[0m         raise ValueError(\n\u001b[0;32m--> 532\u001b[0;31m             \u001b[0;34m\"Length of values \"\u001b[0m\u001b[0;34m\u001b[0m\u001b[0;34m\u001b[0m\u001b[0m\n\u001b[0m\u001b[1;32m    533\u001b[0m             \u001b[0;34mf\"({len(data)}) \"\u001b[0m\u001b[0;34m\u001b[0m\u001b[0;34m\u001b[0m\u001b[0m\n\u001b[1;32m    534\u001b[0m             \u001b[0;34m\"does not match length of index \"\u001b[0m\u001b[0;34m\u001b[0m\u001b[0;34m\u001b[0m\u001b[0m\n",
      "\u001b[0;31mValueError\u001b[0m: Length of values (650) does not match length of index (325)"
     ]
    }
   ],
   "source": [
    "df = pd.DataFrame(data)\n",
    "\n",
    "# Add a new column 'Group' to differentiate the two groups\n",
    "df['Group'] = ['Swedish'] * len(SwedishBetas) + ['Spanish'] * len(SpanishBetas)\n",
    "\n",
    "sns.scatterplot(x='Swedish Beta Values', y='Spanish Beta Values', hue='Group', data=df, palette={'Swedish': 'blue', 'Spanish': 'red'})\n",
    "\n",
    "plt.xlabel('Swedish Beta Values')\n",
    "plt.ylabel('Spanish Beta Values')\n",
    "\n"
   ]
  },
  {
   "cell_type": "code",
   "execution_count": 303,
   "id": "1420a9b6",
   "metadata": {},
   "outputs": [
    {
     "name": "stdout",
     "output_type": "stream",
     "text": [
      "2.370155037175149  47237  TC13000912.hg.1\n",
      "2.36610030922038  49654  TC14001649.hg.1\n",
      "2.1944580488754077  31425  TC09000341.hg.1\n",
      "2.187586914327655  33542  TC09002491.hg.1\n",
      "2.1641924254184857  33516  TC09002465.hg.1\n",
      "2.127625374325064  44916  TC12001885.hg.1\n",
      "2.038157192089877  52297  TC15002002.hg.1\n",
      "1.9992564762029028  26470  TC07001372.hg.1\n",
      "1.9927839410774482  53253  TC16000148.hg.1\n",
      "1.9923188391218445  23065  TC06002065.hg.1\n",
      "1.919853245501249  27048  TC07001970.hg.1\n",
      "1.9117875691734127  24129  TC06003135.hg.1\n",
      "1.876456989308833  52087  TC15001790.hg.1\n",
      "1.8524085845946348  1923  TC01001965.hg.1\n",
      "1.848883012755234  14195  TC03002917.hg.1\n",
      "1.8288044750952852  38639  TC10001985.hg.1\n",
      "1.8216381302995208  46899  TC13000570.hg.1\n",
      "1.8176927872007225  38293  TC10001634.hg.1\n",
      "1.810408091585989  54245  TC16001169.hg.1\n",
      "1.8092754277650702  4462  TC01004544.hg.1\n",
      "1.7839060393720463  21664  TC06000626.hg.1\n",
      "1.7598128254237533  36190  TC0X002212.hg.1\n",
      "1.7273803743604002  31712  TC09000634.hg.1\n",
      "1.707036889397186  2112  TC01002159.hg.1\n",
      "1.700504083581243  51050  TC15000737.hg.1\n",
      "1.6541625657000354  63558  TC21000056.hg.1\n",
      "1.6499823681693648  62794  TC20001055.hg.1\n",
      "1.626742678902584  48970  TC14000950.hg.1\n",
      "1.6253477847418838  27439  TC07002363.hg.1\n",
      "1.62171712269  32417  TC09001357.hg.1\n",
      "1.611707007220317  19546  TC05001940.hg.1\n",
      "1.5968140937819018  43855  TC12000802.hg.1\n",
      "1.5798717528676542  4913  TC01004996.hg.1\n",
      "1.5596727935068497  54284  TC16001210.hg.1\n",
      "1.5571735643378855  32709  TC09001653.hg.1\n",
      "1.556752441601081  8497  TC02002212.hg.1\n",
      "1.543779679716342  67493  TCUn_gl000220000001.hg.1\n",
      "1.5382690447272824  24208  TC06003214.hg.1\n",
      "1.5239986017380083  26743  TC07001655.hg.1\n",
      "1.5231833930329914  10446  TC02004177.hg.1\n",
      "1.50842690969385  26705  TC07001612.hg.1\n",
      "1.4916005780812818  46185  TC12003159.hg.1\n",
      "1.4893987950481349  3597  TC01003671.hg.1\n",
      "1.484241012895218  24742  TC06003752.hg.1\n",
      "1.483080843151553  51538  TC15001233.hg.1\n",
      "1.475823446641775  6818  TC02000495.hg.1\n",
      "1.4715877802225177  44972  TC12001941.hg.1\n",
      "1.471296590594853  57005  TC17001874.hg.1\n",
      "1.4673570099622286  46472  TC13000139.hg.1\n",
      "1.457507751795041  59346  TC19000275.hg.1\n",
      "1.4392031585225948  37295  TC10000605.hg.1\n",
      "1.4375048893373499  1006  TC01001025.hg.1\n",
      "1.4312961843319236  23236  TC06002238.hg.1\n",
      "1.426323092285762  19455  TC05001846.hg.1\n",
      "1.3953136371979271  56178  TC17001027.hg.1\n",
      "1.394551037305033  61383  TC19002362.hg.1\n",
      "1.391677869512054  34289  TC0X000283.hg.1\n",
      "1.3852511408452646  54998  TC16001927.hg.1\n",
      "1.3800501507733856  11192  TC02004924.hg.1\n",
      "1.3719492499957189  31533  TC09000450.hg.1\n",
      "1.3666830845588787  7331  TC02001015.hg.1\n",
      "1.3651879843297428  21575  TC06000535.hg.1\n",
      "1.3530100519902124  5970  TC01006059.hg.1\n",
      "1.3508117669544322  7493  TC02001181.hg.1\n",
      "1.3486631598014027  38524  TC10001870.hg.1\n",
      "1.3438987797325161  8069  TC02001768.hg.1\n",
      "1.3316271438414577  44736  TC12001705.hg.1\n",
      "1.3258902120115958  33874  TC09002823.hg.1\n",
      "1.3233120075198281  55233  TC17000054.hg.1\n",
      "1.3221379271887757  7915  TC02001613.hg.1\n",
      "1.3205474653323916  53347  TC16000243.hg.1\n",
      "1.3202537937407457  53908  TC16000822.hg.1\n",
      "1.3161007992030143  55255  TC17000076.hg.1\n",
      "1.3160235458542286  56286  TC17001137.hg.1\n",
      "1.3140153603358227  2854  TC01002911.hg.1\n",
      "1.3086053820648005  26156  TC07001048.hg.1\n",
      "1.304407330698528  21660  TC06000622.hg.1\n",
      "1.3037457776235841  12384  TC03001071.hg.1\n",
      "1.3033709009429137  59508  TC19000439.hg.1\n",
      "1.3029258215921067  10704  TC02004436.hg.1\n",
      "1.3013048842113484  65057  TC22000514.hg.1\n",
      "1.3012962194813162  41133  TC11001550.hg.1\n",
      "1.2972871425231693  14938  TC04000242.hg.1\n",
      "1.2943431530872067  7246  TC02000927.hg.1\n",
      "1.2925715713212893  17018  TC04002347.hg.1\n",
      "1.2917582535708012  16465  TC04001792.hg.1\n",
      "1.2893596641276257  937  TC01000955.hg.1\n",
      "1.2852051520148995  64746  TC22000186.hg.1\n",
      "1.2816914903155334  2984  TC01003044.hg.1\n",
      "1.2792713461398428  51387  TC15001079.hg.1\n",
      "1.278243408492994  50152  TC14002150.hg.1\n",
      "1.2777287072420334  24469  TC06003476.hg.1\n",
      "1.2735209759611652  55973  TC17000816.hg.1\n",
      "1.271991104861253  60557  TC19001524.hg.1\n",
      "1.262787144046843  31483  TC09000399.hg.1\n",
      "1.2550088715372094  58191  TC18000114.hg.1\n",
      "1.2453165221182223  64170  TC21000678.hg.1\n",
      "1.2440162792735419  6826  TC02000503.hg.1\n",
      "1.2437391626292644  51282  TC15000973.hg.1\n",
      "1.2423418814744622  59197  TC19000120.hg.1\n",
      "1.2358878049255033  46524  TC13000191.hg.1\n",
      "1.2353860679245352  48971  TC14000951.hg.1\n",
      "1.2303109010029867  56071  TC17000915.hg.1\n",
      "1.2268625326282747  61709  TC19002688.hg.1\n",
      "1.2254872089338442  25820  TC07000700.hg.1\n",
      "1.2209182712167939  10200  TC02003930.hg.1\n",
      "1.2199605891894356  31838  TC09000763.hg.1\n",
      "1.2168340917331761  12458  TC03001149.hg.1\n",
      "1.2131896757663088  55133  TC16002062.hg.1\n",
      "1.2084348154576199  5360  TC01005446.hg.1\n",
      "1.2016452011021777  7488  TC02001176.hg.1\n",
      "1.2013704320990293  892  TC01000907.hg.1\n",
      "1.1938281691409849  6178  TC01006267.hg.1\n",
      "1.1901347506130684  23755  TC06002760.hg.1\n",
      "1.188426904793003  60155  TC19001106.hg.1\n",
      "1.1873809266806956  14844  TC04000148.hg.1\n",
      "1.1869549184166497  40361  TC11000756.hg.1\n",
      "1.1835286252941906  12432  TC03001122.hg.1\n",
      "1.180651865419193  2928  TC01002986.hg.1\n",
      "1.180004342874061  7128  TC02000809.hg.1\n",
      "1.1770277757669014  53456  TC16000355.hg.1\n",
      "1.1766561405877995  58188  TC18000111.hg.1\n",
      "1.174583315181204  11127  TC02004859.hg.1\n",
      "1.1720865325066503  24687  TC06003697.hg.1\n",
      "1.1696697950396866  14857  TC04000161.hg.1\n",
      "1.1689334905309485  60401  TC19001362.hg.1\n",
      "1.166578310067058  47554  TC13001229.hg.1\n",
      "1.165868448306384  15246  TC04000556.hg.1\n",
      "1.1610885246280758  49499  TC14001492.hg.1\n",
      "1.1519144215193002  40377  TC11000772.hg.1\n",
      "1.1505930452609339  52941  TC15002649.hg.1\n",
      "1.1477355689321744  57375  TC17002246.hg.1\n",
      "1.144435782163537  29949  TC08001489.hg.1\n",
      "1.144125581782784  47049  TC13000722.hg.1\n",
      "1.140222674583748  61329  TC19002308.hg.1\n",
      "1.1380772233583192  61630  TC19002609.hg.1\n",
      "1.1364151214838574  2313  TC01002362.hg.1\n",
      "1.134439989308813  9161  TC02002890.hg.1\n",
      "1.1330715971592986  51846  TC15001546.hg.1\n",
      "1.1329864141800736  20049  TC05002447.hg.1\n",
      "1.1289913322137468  34850  TC0X000858.hg.1\n",
      "1.1261423561507844  38126  TC10001464.hg.1\n",
      "1.1259194067386742  718  TC01000730.hg.1\n",
      "1.122599235610684  12992  TC03001701.hg.1\n",
      "1.121619114773512  57517  TC17002388.hg.1\n",
      "1.1208722876637354  42541  TC11002973.hg.1\n",
      "1.119156667934602  43194  TC12000118.hg.1\n",
      "1.1176149479673831  11262  TC02004994.hg.1\n",
      "1.1173056456878137  43364  TC12000296.hg.1\n",
      "1.114026661854499  12586  TC03001281.hg.1\n",
      "1.1134774339736226  52188  TC15001892.hg.1\n",
      "1.1101180113938878  13665  TC03002386.hg.1\n",
      "1.1097499256684757  38814  TC10002160.hg.1\n",
      "1.1096237616218958  9716  TC02003446.hg.1\n",
      "1.1091565214412553  25797  TC07000677.hg.1\n",
      "1.1090301452745397  40228  TC11000620.hg.1\n",
      "1.104624895466725  20834  TC05003235.hg.1\n",
      "1.104499960252268  44417  TC12001377.hg.1\n",
      "1.1041733282302013  35073  TC0X001085.hg.1\n",
      "1.0975073804861935  58058  TC17_ctg5_hap1000008.hg.1\n",
      "1.0968043959435447  56953  TC17001822.hg.1\n",
      "1.0956164196967675  61163  TC19002142.hg.1\n",
      "1.093835307762511  55759  TC17000596.hg.1\n",
      "1.0911457648243432  50573  TC15000248.hg.1\n",
      "1.0907796558311715  5769  TC01005856.hg.1\n",
      "1.0895429014624045  55856  TC17000698.hg.1\n",
      "1.0887958194070249  67494  TCUn_gl000220000002.hg.1\n",
      "1.0845900384348963  22806  TC06001801.hg.1\n",
      "1.079892791716235  46617  TC13000285.hg.1\n",
      "1.078551958186171  25987  TC07000874.hg.1\n",
      "1.0765644471918179  44313  TC12001272.hg.1\n",
      "1.0753015212175545  39405  TC10002751.hg.1\n",
      "1.0691689984002115  47813  TC13001488.hg.1\n",
      "1.0675667446172237  1182  TC01001206.hg.1\n",
      "1.064838751799749  58065  TC17_ctg5_hap1000016.hg.1\n",
      "1.0624665815725012  60805  TC19001780.hg.1\n",
      "1.0603662828919433  25999  TC07000887.hg.1\n",
      "1.06000379188318  62347  TC20000601.hg.1\n",
      "1.0592430388968483  56272  TC17001123.hg.1\n",
      "1.056090779895427  34177  TC0X000168.hg.1\n",
      "1.0440189401373543  63625  TC21000123.hg.1\n",
      "1.0369841793213133  11542  TC03000209.hg.1\n",
      "1.0362306303346942  16765  TC04002094.hg.1\n",
      "1.0247765344618995  49139  TC14001126.hg.1\n",
      "1.0240633333783808  328  TC01000334.hg.1\n",
      "1.0204978477969802  31544  TC09000462.hg.1\n",
      "1.0202591880847283  1126  TC01001148.hg.1\n",
      "1.0176397848880738  9514  TC02003244.hg.1\n",
      "1.0111275464080367  15159  TC04000469.hg.1\n",
      "1.0091413069651394  37136  TC10000443.hg.1\n",
      "1.0073056524083959  58312  TC18000237.hg.1\n",
      "1.0021089835775796  48266  TC14000229.hg.1\n",
      "1.000372148658963  55480  TC17000311.hg.1\n",
      "0.9995437804916059  31106  TC09000015.hg.1\n",
      "0.9984201628817335  40183  TC11000571.hg.1\n",
      "0.9972631934999576  25823  TC07000704.hg.1\n",
      "0.9965151154545797  43563  TC12000500.hg.1\n",
      "0.9952882785416801  39677  TC11000052.hg.1\n",
      "0.9914178321887818  24364  TC06003371.hg.1\n",
      "0.9887891945207572  39103  TC10002449.hg.1\n",
      "0.988644388535571  16139  TC04001464.hg.1\n",
      "0.9878109916512187  57371  TC17002242.hg.1\n",
      "0.9875556336312991  59206  TC19000129.hg.1\n",
      "0.985861856344901  49190  TC14001178.hg.1\n",
      "0.9815239587193889  60559  TC19001526.hg.1\n",
      "0.9815120451477405  32436  TC09001376.hg.1\n",
      "0.9764245155142711  128  TC01000129.hg.1\n",
      "0.9751429977460695  44544  TC12001506.hg.1\n",
      "0.966004525041594  60804  TC19001779.hg.1\n",
      "0.9654912658350577  37257  TC10000565.hg.1\n",
      "0.9629066065919645  3596  TC01003670.hg.1\n",
      "0.9571861423485335  6193  TC01006282.hg.1\n",
      "0.9559965253712985  25046  TC06004057.hg.1\n",
      "0.9532986330731292  4447  TC01004529.hg.1\n",
      "0.9528078610473094  10020  TC02003750.hg.1\n",
      "0.9504842795288433  16487  TC04001814.hg.1\n",
      "0.9495273412136531  9717  TC02003447.hg.1\n",
      "0.9474357326567389  19435  TC05001825.hg.1\n",
      "0.9457833068419935  42348  TC11002780.hg.1\n",
      "0.9419146176996589  45799  TC12002773.hg.1\n",
      "0.9416507382733762  7800  TC02001495.hg.1\n",
      "0.9384423682532461  32162  TC09001100.hg.1\n",
      "0.9368766037156032  6334  TC01006424.hg.1\n",
      "0.9367201800233176  2352  TC01002401.hg.1\n",
      "0.9309536004686141  11350  TC03000015.hg.1\n",
      "0.9304855395296124  58073  TC17_ctg5_hap1000025.hg.1\n",
      "0.9285247349689112  38370  TC10001711.hg.1\n",
      "0.9283931176593259  55015  TC16001944.hg.1\n",
      "0.9248064274135547  34914  TC0X000923.hg.1\n",
      "0.9219718693897971  21574  TC06000534.hg.1\n",
      "0.9050199842868111  30993  TC08002540.hg.1\n",
      "0.9044796071092038  48164  TC14000117.hg.1\n",
      "0.9039962635118618  1123  TC01001145.hg.1\n",
      "0.9022646927133675  52809  TC15002517.hg.1\n",
      "0.8999801104782215  54100  TC16001021.hg.1\n",
      "0.8982921443621489  54418  TC16001347.hg.1\n",
      "0.8968647109186905  39390  TC10002736.hg.1\n",
      "0.8910995082370159  44660  TC12001628.hg.1\n",
      "0.8829717601035456  49848  TC14001845.hg.1\n",
      "0.8772271354723508  55405  TC17000234.hg.1\n",
      "0.8628739956024997  19480  TC05001872.hg.1\n",
      "0.8621144713497425  32150  TC09001088.hg.1\n",
      "0.8554718317714523  34919  TC0X000928.hg.1\n",
      "0.8536030832576391  18929  TC05001314.hg.1\n",
      "0.8529555723585048  44471  TC12001431.hg.1\n",
      "0.8508998567863555  24146  TC06003152.hg.1\n",
      "0.8483185565825881  60854  TC19001829.hg.1\n",
      "0.8483144561046206  22136  TC06001109.hg.1\n",
      "0.8435712237339452  59811  TC19000752.hg.1\n",
      "0.8428544325034918  61684  TC19002663.hg.1\n",
      "0.840144647740873  43473  TC12000406.hg.1\n",
      "0.8394100351905562  15068  TC04000373.hg.1\n",
      "0.839054267697332  327  TC01000333.hg.1\n",
      "0.8386354681222757  29074  TC08000602.hg.1\n",
      "0.83543668599984  44522  TC12001484.hg.1\n",
      "0.8329937249766214  41468  TC11001891.hg.1\n",
      "0.8272157668022062  29641  TC08001178.hg.1\n",
      "0.8268994276909915  56376  TC17001230.hg.1\n",
      "0.8247986846316185  34951  TC0X000960.hg.1\n",
      "0.822857595523022  15060  TC04000365.hg.1\n",
      "0.8164864986237508  1402  TC01001435.hg.1\n",
      "0.8139012676934438  24245  TC06003251.hg.1\n",
      "0.8072329483378087  51941  TC15001643.hg.1\n",
      "0.8067773467566268  21653  TC06000614.hg.1\n",
      "0.8041391115389585  34619  TC0X000620.hg.1\n",
      "0.8013428984391479  11271  TC02005003.hg.1\n",
      "0.7988929309859025  51800  TC15001499.hg.1\n",
      "0.796889675487985  61162  TC19002141.hg.1\n",
      "0.7886523694897758  46019  TC12002993.hg.1\n",
      "0.7861032344288728  14650  TC03003372.hg.1\n",
      "0.7842651883136246  50672  TC15000350.hg.1\n",
      "0.7833376166690201  33547  TC09002496.hg.1\n",
      "0.7826843925345122  11801  TC03000479.hg.1\n",
      "0.7817825552000165  21203  TC06000153.hg.1\n",
      "0.7772242295961234  49439  TC14001432.hg.1\n",
      "0.7761865039834926  60381  TC19001342.hg.1\n",
      "0.7686353860461214  40710  TC11001108.hg.1\n",
      "0.7680273917350552  49921  TC14001918.hg.1\n",
      "0.7676563483478994  63304  TC20001566.hg.1\n",
      "0.766372170677829  53474  TC16000374.hg.1\n",
      "0.7617332653272303  5476  TC01005562.hg.1\n",
      "0.7614966999662949  11674  TC03000351.hg.1\n",
      "0.7580010629524514  38140  TC10001478.hg.1\n",
      "0.7573913748135387  11455  TC03000121.hg.1\n",
      "0.7528257304950084  6678  TC02000351.hg.1\n",
      "0.7428153102961744  55400  TC17000229.hg.1\n",
      "0.7402084766877218  51602  TC15001299.hg.1\n",
      "0.7393596715767179  56149  TC17000994.hg.1\n",
      "0.7354201310387743  39961  TC11000342.hg.1\n",
      "0.7339824623724658  20738  TC05003139.hg.1\n",
      "0.7298936253140899  32152  TC09001090.hg.1\n",
      "0.717911380504472  8082  TC02001781.hg.1\n",
      "0.7135050306256253  28076  TC07003000.hg.1\n",
      "0.7134016673296985  22263  TC06001239.hg.1\n",
      "0.7070086734839671  40841  TC11001244.hg.1\n",
      "0.7045991211160397  59522  TC19000453.hg.1\n",
      "0.7027051364938914  54285  TC16001211.hg.1\n",
      "0.7015520449174887  6613  TC02000281.hg.1\n",
      "0.6988068756802637  39946  TC11000327.hg.1\n",
      "0.6965509423891717  30798  TC08002345.hg.1\n",
      "0.6906018022067197  17134  TC04002463.hg.1\n",
      "0.6888153444466213  28056  TC07002980.hg.1\n",
      "0.6811539054825188  57500  TC17002371.hg.1\n",
      "0.6608121724716493  60500  TC19001464.hg.1\n",
      "0.6568296623315917  60239  TC19001196.hg.1\n",
      "0.6488224863670178  61890  TC20000130.hg.1\n",
      "0.6483083183647638  51153  TC15000841.hg.1\n",
      "0.6460387888536232  31725  TC09000647.hg.1\n",
      "0.6452150955264405  41425  TC11001843.hg.1\n",
      "0.6312900508482935  51271  TC15000961.hg.1\n",
      "0.6116692632819594  7077  TC02000758.hg.1\n",
      "0.6087748504059322  60442  TC19001404.hg.1\n",
      "0.5938663919607055  53935  TC16000850.hg.1\n",
      "0.5870943527683706  11473  TC03000140.hg.1\n",
      "0.5747059576696506  59311  TC19000238.hg.1\n",
      "0.5720906538318257  19038  TC05001423.hg.1\n",
      "0.5635358319454685  38182  TC10001520.hg.1\n",
      "0.5436855489847671  48421  TC14000389.hg.1\n",
      "0.5382856072579553  41795  TC11002221.hg.1\n",
      "0.514975244874536  56306  TC17001157.hg.1\n",
      "0.4867375090372592  23873  TC06002878.hg.1\n",
      "0.4718376402792855  1548  TC01001584.hg.1\n",
      "0.47145001160162003  22078  TC06001049.hg.1\n",
      "0.4520579404960231  10977  TC02004709.hg.1\n",
      "0.3404991457681086  37202  TC10000510.hg.1\n"
     ]
    }
   ],
   "source": [
    "lst.sort(reverse = True)\n",
    "count = 0\n",
    "for e in lst:\n",
    "    #if count< 10:\n",
    "        print(str(e[0]) + \"  \" + str(selected_feature_indices[e[1]]) +\"  \"+ str(gene_names[e[1]]))\n",
    "        \n",
    "    #count+=1"
   ]
  },
  {
   "cell_type": "code",
   "execution_count": 264,
   "id": "6c7a052a",
   "metadata": {},
   "outputs": [
    {
     "data": {
      "text/plain": [
       "<AxesSubplot:xlabel='Allergy', ylabel='TC01000001.hg.1'>"
      ]
     },
     "execution_count": 264,
     "metadata": {},
     "output_type": "execute_result"
    },
    {
     "data": {
      "image/png": "[encoded data removed]",
      "text/plain": [
       "<Figure size 432x288 with 1 Axes>"
      ]
     },
     "metadata": {
      "needs_background": "light"
     },
     "output_type": "display_data"
    }
   ],
   "source": [
    "SwedishexpressionData\n",
    "SwedishexpressionData[\"Allergy\"] = SwedishcleanedDf[\"Allergy\"].values\n",
    "\n",
    "sns.boxplot(x=\"Allergy\", y='TC01000001.hg.1', data=SwedishexpressionData)"
   ]
  },
  {
   "cell_type": "code",
   "execution_count": 265,
   "id": "a2d5a020",
   "metadata": {},
   "outputs": [
    {
     "data": {
      "text/plain": [
       "<AxesSubplot:xlabel='Allergy', ylabel='TC01000001.hg.1'>"
      ]
     },
     "execution_count": 265,
     "metadata": {},
     "output_type": "execute_result"
    },
    {
     "data": {
      "image/png": "[encoded data removed]",
      "text/plain": [
       "<Figure size 432x288 with 1 Axes>"
      ]
     },
     "metadata": {
      "needs_background": "light"
     },
     "output_type": "display_data"
    }
   ],
   "source": [
    "SpanishexpressionDatatest[\"Allergy\"] = SpanishcleanedDftest[\"Allergy\"].values\n",
    "\n",
    "sns.boxplot(x=\"Allergy\", y='TC01000001.hg.1', data=SpanishexpressionDatatest)"
   ]
  },
  {
   "cell_type": "code",
   "execution_count": 184,
   "id": "f0c655a6",
   "metadata": {},
   "outputs": [
    {
     "ename": "KeyError",
     "evalue": "'Allergy'",
     "output_type": "error",
     "traceback": [
      "\u001b[0;31m---------------------------------------------------------------------------\u001b[0m",
      "\u001b[0;31mKeyError\u001b[0m                                  Traceback (most recent call last)",
      "\u001b[0;32m/Library/Frameworks/Python.framework/Versions/3.7/lib/python3.7/site-packages/pandas/core/indexes/base.py\u001b[0m in \u001b[0;36mget_loc\u001b[0;34m(self, key, method, tolerance)\u001b[0m\n\u001b[1;32m   3360\u001b[0m             \u001b[0;32mtry\u001b[0m\u001b[0;34m:\u001b[0m\u001b[0;34m\u001b[0m\u001b[0;34m\u001b[0m\u001b[0m\n\u001b[0;32m-> 3361\u001b[0;31m                 \u001b[0;32mreturn\u001b[0m \u001b[0mself\u001b[0m\u001b[0;34m.\u001b[0m\u001b[0m_engine\u001b[0m\u001b[0;34m.\u001b[0m\u001b[0mget_loc\u001b[0m\u001b[0;34m(\u001b[0m\u001b[0mcasted_key\u001b[0m\u001b[0;34m)\u001b[0m\u001b[0;34m\u001b[0m\u001b[0;34m\u001b[0m\u001b[0m\n\u001b[0m\u001b[1;32m   3362\u001b[0m             \u001b[0;32mexcept\u001b[0m \u001b[0mKeyError\u001b[0m \u001b[0;32mas\u001b[0m \u001b[0merr\u001b[0m\u001b[0;34m:\u001b[0m\u001b[0;34m\u001b[0m\u001b[0;34m\u001b[0m\u001b[0m\n",
      "\u001b[0;32m/Library/Frameworks/Python.framework/Versions/3.7/lib/python3.7/site-packages/pandas/_libs/index.pyx\u001b[0m in \u001b[0;36mpandas._libs.index.IndexEngine.get_loc\u001b[0;34m()\u001b[0m\n",
      "\u001b[0;32m/Library/Frameworks/Python.framework/Versions/3.7/lib/python3.7/site-packages/pandas/_libs/index.pyx\u001b[0m in \u001b[0;36mpandas._libs.index.IndexEngine.get_loc\u001b[0;34m()\u001b[0m\n",
      "\u001b[0;32mpandas/_libs/hashtable_class_helper.pxi\u001b[0m in \u001b[0;36mpandas._libs.hashtable.PyObjectHashTable.get_item\u001b[0;34m()\u001b[0m\n",
      "\u001b[0;32mpandas/_libs/hashtable_class_helper.pxi\u001b[0m in \u001b[0;36mpandas._libs.hashtable.PyObjectHashTable.get_item\u001b[0;34m()\u001b[0m\n",
      "\u001b[0;31mKeyError\u001b[0m: 'Allergy'",
      "\nThe above exception was the direct cause of the following exception:\n",
      "\u001b[0;31mKeyError\u001b[0m                                  Traceback (most recent call last)",
      "\u001b[0;32m/var/folders/61/88tkykvs6hdghs1n4xcxmfjm0000gn/T/ipykernel_56077/1833113907.py\u001b[0m in \u001b[0;36m<module>\u001b[0;34m\u001b[0m\n\u001b[0;32m----> 1\u001b[0;31m \u001b[0mvalues_1\u001b[0m \u001b[0;34m=\u001b[0m \u001b[0mSwedishexpressionData\u001b[0m\u001b[0;34m.\u001b[0m\u001b[0mloc\u001b[0m\u001b[0;34m[\u001b[0m\u001b[0mSwedishexpressionData\u001b[0m\u001b[0;34m[\u001b[0m\u001b[0;34m'Allergy'\u001b[0m\u001b[0;34m]\u001b[0m \u001b[0;34m==\u001b[0m \u001b[0;36m1\u001b[0m\u001b[0;34m,\u001b[0m \u001b[0;34m'TC09002465.hg.1'\u001b[0m\u001b[0;34m]\u001b[0m\u001b[0;34m\u001b[0m\u001b[0;34m\u001b[0m\u001b[0m\n\u001b[0m\u001b[1;32m      2\u001b[0m \u001b[0mvalues_2\u001b[0m \u001b[0;34m=\u001b[0m \u001b[0mSpanishexpressionDatatest\u001b[0m\u001b[0;34m.\u001b[0m\u001b[0mloc\u001b[0m\u001b[0;34m[\u001b[0m\u001b[0mSpanishexpressionDatatest\u001b[0m\u001b[0;34m[\u001b[0m\u001b[0;34m'Allergy'\u001b[0m\u001b[0;34m]\u001b[0m \u001b[0;34m==\u001b[0m \u001b[0;36m0\u001b[0m\u001b[0;34m,\u001b[0m \u001b[0;34m'TC09002465.hg.1'\u001b[0m\u001b[0;34m]\u001b[0m\u001b[0;34m\u001b[0m\u001b[0;34m\u001b[0m\u001b[0m\n\u001b[1;32m      3\u001b[0m \u001b[0;34m\u001b[0m\u001b[0m\n\u001b[1;32m      4\u001b[0m \u001b[0msns\u001b[0m\u001b[0;34m.\u001b[0m\u001b[0mcatplot\u001b[0m\u001b[0;34m(\u001b[0m\u001b[0mdata\u001b[0m\u001b[0;34m=\u001b[0m\u001b[0mpd\u001b[0m\u001b[0;34m.\u001b[0m\u001b[0mDataFrame\u001b[0m\u001b[0;34m(\u001b[0m\u001b[0;34m[\u001b[0m\u001b[0;34m*\u001b[0m\u001b[0mvalues_1\u001b[0m\u001b[0;34m]\u001b[0m\u001b[0;34m)\u001b[0m\u001b[0;34m,\u001b[0m \u001b[0mkind\u001b[0m\u001b[0;34m=\u001b[0m\u001b[0;34m\"swarm\"\u001b[0m\u001b[0;34m)\u001b[0m\u001b[0;34m\u001b[0m\u001b[0;34m\u001b[0m\u001b[0m\n\u001b[1;32m      5\u001b[0m \u001b[0msns\u001b[0m\u001b[0;34m.\u001b[0m\u001b[0mcatplot\u001b[0m\u001b[0;34m(\u001b[0m\u001b[0mdata\u001b[0m\u001b[0;34m=\u001b[0m\u001b[0mpd\u001b[0m\u001b[0;34m.\u001b[0m\u001b[0mDataFrame\u001b[0m\u001b[0;34m(\u001b[0m\u001b[0;34m[\u001b[0m\u001b[0;34m*\u001b[0m\u001b[0mvalues_2\u001b[0m\u001b[0;34m]\u001b[0m\u001b[0;34m)\u001b[0m\u001b[0;34m,\u001b[0m \u001b[0mkind\u001b[0m\u001b[0;34m=\u001b[0m\u001b[0;34m\"swarm\"\u001b[0m\u001b[0;34m)\u001b[0m\u001b[0;34m\u001b[0m\u001b[0;34m\u001b[0m\u001b[0m\n",
      "\u001b[0;32m/Library/Frameworks/Python.framework/Versions/3.7/lib/python3.7/site-packages/pandas/core/frame.py\u001b[0m in \u001b[0;36m__getitem__\u001b[0;34m(self, key)\u001b[0m\n\u001b[1;32m   3456\u001b[0m             \u001b[0;32mif\u001b[0m \u001b[0mself\u001b[0m\u001b[0;34m.\u001b[0m\u001b[0mcolumns\u001b[0m\u001b[0;34m.\u001b[0m\u001b[0mnlevels\u001b[0m \u001b[0;34m>\u001b[0m \u001b[0;36m1\u001b[0m\u001b[0;34m:\u001b[0m\u001b[0;34m\u001b[0m\u001b[0;34m\u001b[0m\u001b[0m\n\u001b[1;32m   3457\u001b[0m                 \u001b[0;32mreturn\u001b[0m \u001b[0mself\u001b[0m\u001b[0;34m.\u001b[0m\u001b[0m_getitem_multilevel\u001b[0m\u001b[0;34m(\u001b[0m\u001b[0mkey\u001b[0m\u001b[0;34m)\u001b[0m\u001b[0;34m\u001b[0m\u001b[0;34m\u001b[0m\u001b[0m\n\u001b[0;32m-> 3458\u001b[0;31m             \u001b[0mindexer\u001b[0m \u001b[0;34m=\u001b[0m \u001b[0mself\u001b[0m\u001b[0;34m.\u001b[0m\u001b[0mcolumns\u001b[0m\u001b[0;34m.\u001b[0m\u001b[0mget_loc\u001b[0m\u001b[0;34m(\u001b[0m\u001b[0mkey\u001b[0m\u001b[0;34m)\u001b[0m\u001b[0;34m\u001b[0m\u001b[0;34m\u001b[0m\u001b[0m\n\u001b[0m\u001b[1;32m   3459\u001b[0m             \u001b[0;32mif\u001b[0m \u001b[0mis_integer\u001b[0m\u001b[0;34m(\u001b[0m\u001b[0mindexer\u001b[0m\u001b[0;34m)\u001b[0m\u001b[0;34m:\u001b[0m\u001b[0;34m\u001b[0m\u001b[0;34m\u001b[0m\u001b[0m\n\u001b[1;32m   3460\u001b[0m                 \u001b[0mindexer\u001b[0m \u001b[0;34m=\u001b[0m \u001b[0;34m[\u001b[0m\u001b[0mindexer\u001b[0m\u001b[0;34m]\u001b[0m\u001b[0;34m\u001b[0m\u001b[0;34m\u001b[0m\u001b[0m\n",
      "\u001b[0;32m/Library/Frameworks/Python.framework/Versions/3.7/lib/python3.7/site-packages/pandas/core/indexes/base.py\u001b[0m in \u001b[0;36mget_loc\u001b[0;34m(self, key, method, tolerance)\u001b[0m\n\u001b[1;32m   3361\u001b[0m                 \u001b[0;32mreturn\u001b[0m \u001b[0mself\u001b[0m\u001b[0;34m.\u001b[0m\u001b[0m_engine\u001b[0m\u001b[0;34m.\u001b[0m\u001b[0mget_loc\u001b[0m\u001b[0;34m(\u001b[0m\u001b[0mcasted_key\u001b[0m\u001b[0;34m)\u001b[0m\u001b[0;34m\u001b[0m\u001b[0;34m\u001b[0m\u001b[0m\n\u001b[1;32m   3362\u001b[0m             \u001b[0;32mexcept\u001b[0m \u001b[0mKeyError\u001b[0m \u001b[0;32mas\u001b[0m \u001b[0merr\u001b[0m\u001b[0;34m:\u001b[0m\u001b[0;34m\u001b[0m\u001b[0;34m\u001b[0m\u001b[0m\n\u001b[0;32m-> 3363\u001b[0;31m                 \u001b[0;32mraise\u001b[0m \u001b[0mKeyError\u001b[0m\u001b[0;34m(\u001b[0m\u001b[0mkey\u001b[0m\u001b[0;34m)\u001b[0m \u001b[0;32mfrom\u001b[0m \u001b[0merr\u001b[0m\u001b[0;34m\u001b[0m\u001b[0;34m\u001b[0m\u001b[0m\n\u001b[0m\u001b[1;32m   3364\u001b[0m \u001b[0;34m\u001b[0m\u001b[0m\n\u001b[1;32m   3365\u001b[0m         \u001b[0;32mif\u001b[0m \u001b[0mis_scalar\u001b[0m\u001b[0;34m(\u001b[0m\u001b[0mkey\u001b[0m\u001b[0;34m)\u001b[0m \u001b[0;32mand\u001b[0m \u001b[0misna\u001b[0m\u001b[0;34m(\u001b[0m\u001b[0mkey\u001b[0m\u001b[0;34m)\u001b[0m \u001b[0;32mand\u001b[0m \u001b[0;32mnot\u001b[0m \u001b[0mself\u001b[0m\u001b[0;34m.\u001b[0m\u001b[0mhasnans\u001b[0m\u001b[0;34m:\u001b[0m\u001b[0;34m\u001b[0m\u001b[0;34m\u001b[0m\u001b[0m\n",
      "\u001b[0;31mKeyError\u001b[0m: 'Allergy'"
     ]
    }
   ],
   "source": [
    "\n",
    "values_1 = SwedishexpressionData.loc[SwedishexpressionData['Allergy'] == 1, 'TC09002465.hg.1']\n",
    "values_2 = SpanishexpressionDatatest.loc[SpanishexpressionDatatest['Allergy'] == 0, 'TC09002465.hg.1']\n",
    "\n",
    "sns.catplot(data=pd.DataFrame([*values_1]), kind=\"swarm\")\n",
    "sns.catplot(data=pd.DataFrame([*values_2]), kind=\"swarm\")"
   ]
  },
  {
   "cell_type": "code",
   "execution_count": 181,
   "id": "0669f43a",
   "metadata": {},
   "outputs": [
    {
     "ename": "ValueError",
     "evalue": "cannot reindex from a duplicate axis",
     "output_type": "error",
     "traceback": [
      "\u001b[0;31m---------------------------------------------------------------------------\u001b[0m",
      "\u001b[0;31mValueError\u001b[0m                                Traceback (most recent call last)",
      "\u001b[0;32m/var/folders/61/88tkykvs6hdghs1n4xcxmfjm0000gn/T/ipykernel_56077/2855269717.py\u001b[0m in \u001b[0;36m<module>\u001b[0;34m\u001b[0m\n\u001b[0;32m----> 1\u001b[0;31m \u001b[0mvalues_1\u001b[0m \u001b[0;34m=\u001b[0m \u001b[0mpd\u001b[0m\u001b[0;34m.\u001b[0m\u001b[0mDataFrame\u001b[0m\u001b[0;34m(\u001b[0m\u001b[0mSwedishexpressionData\u001b[0m\u001b[0;34m.\u001b[0m\u001b[0mloc\u001b[0m\u001b[0;34m[\u001b[0m\u001b[0mcleanedDf\u001b[0m\u001b[0;34m[\u001b[0m\u001b[0;34m'Allergy'\u001b[0m\u001b[0;34m]\u001b[0m \u001b[0;34m==\u001b[0m \u001b[0;36m1\u001b[0m\u001b[0;34m]\u001b[0m\u001b[0;34m)\u001b[0m\u001b[0;34m\u001b[0m\u001b[0;34m\u001b[0m\u001b[0m\n\u001b[0m\u001b[1;32m      2\u001b[0m \u001b[0mvalues_1\u001b[0m\u001b[0;34m[\u001b[0m\u001b[0;34m\"category\"\u001b[0m\u001b[0;34m]\u001b[0m  \u001b[0;34m=\u001b[0m \u001b[0;34m\"allergy\"\u001b[0m\u001b[0;34m\u001b[0m\u001b[0;34m\u001b[0m\u001b[0m\n\u001b[1;32m      3\u001b[0m \u001b[0mvalues_2\u001b[0m \u001b[0;34m=\u001b[0m \u001b[0mpd\u001b[0m\u001b[0;34m.\u001b[0m\u001b[0mDataFrame\u001b[0m\u001b[0;34m(\u001b[0m\u001b[0mSpanishexpressionDatatest\u001b[0m\u001b[0;34m.\u001b[0m\u001b[0mloc\u001b[0m\u001b[0;34m[\u001b[0m\u001b[0mcleanedDf\u001b[0m\u001b[0;34m[\u001b[0m\u001b[0;34m'Allergy'\u001b[0m\u001b[0;34m]\u001b[0m \u001b[0;34m==\u001b[0m \u001b[0;36m1\u001b[0m\u001b[0;34m]\u001b[0m\u001b[0;34m)\u001b[0m\u001b[0;34m\u001b[0m\u001b[0;34m\u001b[0m\u001b[0m\n\u001b[1;32m      4\u001b[0m \u001b[0mvalues_2\u001b[0m\u001b[0;34m[\u001b[0m\u001b[0;34m\"category\"\u001b[0m\u001b[0;34m]\u001b[0m  \u001b[0;34m=\u001b[0m \u001b[0;34m\"control\"\u001b[0m\u001b[0;34m\u001b[0m\u001b[0;34m\u001b[0m\u001b[0m\n\u001b[1;32m      5\u001b[0m \u001b[0mcombined\u001b[0m \u001b[0;34m=\u001b[0m \u001b[0mpd\u001b[0m\u001b[0;34m.\u001b[0m\u001b[0mconcat\u001b[0m\u001b[0;34m(\u001b[0m\u001b[0;34m[\u001b[0m\u001b[0mvalues_1\u001b[0m\u001b[0;34m,\u001b[0m \u001b[0mvalues_2\u001b[0m\u001b[0;34m]\u001b[0m\u001b[0;34m)\u001b[0m\u001b[0;34m\u001b[0m\u001b[0;34m\u001b[0m\u001b[0m\n",
      "\u001b[0;32m/Library/Frameworks/Python.framework/Versions/3.7/lib/python3.7/site-packages/pandas/core/indexing.py\u001b[0m in \u001b[0;36m__getitem__\u001b[0;34m(self, key)\u001b[0m\n\u001b[1;32m    929\u001b[0m \u001b[0;34m\u001b[0m\u001b[0m\n\u001b[1;32m    930\u001b[0m             \u001b[0mmaybe_callable\u001b[0m \u001b[0;34m=\u001b[0m \u001b[0mcom\u001b[0m\u001b[0;34m.\u001b[0m\u001b[0mapply_if_callable\u001b[0m\u001b[0;34m(\u001b[0m\u001b[0mkey\u001b[0m\u001b[0;34m,\u001b[0m \u001b[0mself\u001b[0m\u001b[0;34m.\u001b[0m\u001b[0mobj\u001b[0m\u001b[0;34m)\u001b[0m\u001b[0;34m\u001b[0m\u001b[0;34m\u001b[0m\u001b[0m\n\u001b[0;32m--> 931\u001b[0;31m             \u001b[0;32mreturn\u001b[0m \u001b[0mself\u001b[0m\u001b[0;34m.\u001b[0m\u001b[0m_getitem_axis\u001b[0m\u001b[0;34m(\u001b[0m\u001b[0mmaybe_callable\u001b[0m\u001b[0;34m,\u001b[0m \u001b[0maxis\u001b[0m\u001b[0;34m=\u001b[0m\u001b[0maxis\u001b[0m\u001b[0;34m)\u001b[0m\u001b[0;34m\u001b[0m\u001b[0;34m\u001b[0m\u001b[0m\n\u001b[0m\u001b[1;32m    932\u001b[0m \u001b[0;34m\u001b[0m\u001b[0m\n\u001b[1;32m    933\u001b[0m     \u001b[0;32mdef\u001b[0m \u001b[0m_is_scalar_access\u001b[0m\u001b[0;34m(\u001b[0m\u001b[0mself\u001b[0m\u001b[0;34m,\u001b[0m \u001b[0mkey\u001b[0m\u001b[0;34m:\u001b[0m \u001b[0mtuple\u001b[0m\u001b[0;34m)\u001b[0m\u001b[0;34m:\u001b[0m\u001b[0;34m\u001b[0m\u001b[0;34m\u001b[0m\u001b[0m\n",
      "\u001b[0;32m/Library/Frameworks/Python.framework/Versions/3.7/lib/python3.7/site-packages/pandas/core/indexing.py\u001b[0m in \u001b[0;36m_getitem_axis\u001b[0;34m(self, key, axis)\u001b[0m\n\u001b[1;32m   1142\u001b[0m             \u001b[0;32mreturn\u001b[0m \u001b[0mself\u001b[0m\u001b[0;34m.\u001b[0m\u001b[0m_get_slice_axis\u001b[0m\u001b[0;34m(\u001b[0m\u001b[0mkey\u001b[0m\u001b[0;34m,\u001b[0m \u001b[0maxis\u001b[0m\u001b[0;34m=\u001b[0m\u001b[0maxis\u001b[0m\u001b[0;34m)\u001b[0m\u001b[0;34m\u001b[0m\u001b[0;34m\u001b[0m\u001b[0m\n\u001b[1;32m   1143\u001b[0m         \u001b[0;32melif\u001b[0m \u001b[0mcom\u001b[0m\u001b[0;34m.\u001b[0m\u001b[0mis_bool_indexer\u001b[0m\u001b[0;34m(\u001b[0m\u001b[0mkey\u001b[0m\u001b[0;34m)\u001b[0m\u001b[0;34m:\u001b[0m\u001b[0;34m\u001b[0m\u001b[0;34m\u001b[0m\u001b[0m\n\u001b[0;32m-> 1144\u001b[0;31m             \u001b[0;32mreturn\u001b[0m \u001b[0mself\u001b[0m\u001b[0;34m.\u001b[0m\u001b[0m_getbool_axis\u001b[0m\u001b[0;34m(\u001b[0m\u001b[0mkey\u001b[0m\u001b[0;34m,\u001b[0m \u001b[0maxis\u001b[0m\u001b[0;34m=\u001b[0m\u001b[0maxis\u001b[0m\u001b[0;34m)\u001b[0m\u001b[0;34m\u001b[0m\u001b[0;34m\u001b[0m\u001b[0m\n\u001b[0m\u001b[1;32m   1145\u001b[0m         \u001b[0;32melif\u001b[0m \u001b[0mis_list_like_indexer\u001b[0m\u001b[0;34m(\u001b[0m\u001b[0mkey\u001b[0m\u001b[0;34m)\u001b[0m\u001b[0;34m:\u001b[0m\u001b[0;34m\u001b[0m\u001b[0;34m\u001b[0m\u001b[0m\n\u001b[1;32m   1146\u001b[0m \u001b[0;34m\u001b[0m\u001b[0m\n",
      "\u001b[0;32m/Library/Frameworks/Python.framework/Versions/3.7/lib/python3.7/site-packages/pandas/core/indexing.py\u001b[0m in \u001b[0;36m_getbool_axis\u001b[0;34m(self, key, axis)\u001b[0m\n\u001b[1;32m    946\u001b[0m         \u001b[0;31m# caller is responsible for ensuring non-None axis\u001b[0m\u001b[0;34m\u001b[0m\u001b[0;34m\u001b[0m\u001b[0;34m\u001b[0m\u001b[0m\n\u001b[1;32m    947\u001b[0m         \u001b[0mlabels\u001b[0m \u001b[0;34m=\u001b[0m \u001b[0mself\u001b[0m\u001b[0;34m.\u001b[0m\u001b[0mobj\u001b[0m\u001b[0;34m.\u001b[0m\u001b[0m_get_axis\u001b[0m\u001b[0;34m(\u001b[0m\u001b[0maxis\u001b[0m\u001b[0;34m)\u001b[0m\u001b[0;34m\u001b[0m\u001b[0;34m\u001b[0m\u001b[0m\n\u001b[0;32m--> 948\u001b[0;31m         \u001b[0mkey\u001b[0m \u001b[0;34m=\u001b[0m \u001b[0mcheck_bool_indexer\u001b[0m\u001b[0;34m(\u001b[0m\u001b[0mlabels\u001b[0m\u001b[0;34m,\u001b[0m \u001b[0mkey\u001b[0m\u001b[0;34m)\u001b[0m\u001b[0;34m\u001b[0m\u001b[0;34m\u001b[0m\u001b[0m\n\u001b[0m\u001b[1;32m    949\u001b[0m         \u001b[0minds\u001b[0m \u001b[0;34m=\u001b[0m \u001b[0mkey\u001b[0m\u001b[0;34m.\u001b[0m\u001b[0mnonzero\u001b[0m\u001b[0;34m(\u001b[0m\u001b[0;34m)\u001b[0m\u001b[0;34m[\u001b[0m\u001b[0;36m0\u001b[0m\u001b[0;34m]\u001b[0m\u001b[0;34m\u001b[0m\u001b[0;34m\u001b[0m\u001b[0m\n\u001b[1;32m    950\u001b[0m         \u001b[0;32mreturn\u001b[0m \u001b[0mself\u001b[0m\u001b[0;34m.\u001b[0m\u001b[0mobj\u001b[0m\u001b[0;34m.\u001b[0m\u001b[0m_take_with_is_copy\u001b[0m\u001b[0;34m(\u001b[0m\u001b[0minds\u001b[0m\u001b[0;34m,\u001b[0m \u001b[0maxis\u001b[0m\u001b[0;34m=\u001b[0m\u001b[0maxis\u001b[0m\u001b[0;34m)\u001b[0m\u001b[0;34m\u001b[0m\u001b[0;34m\u001b[0m\u001b[0m\n",
      "\u001b[0;32m/Library/Frameworks/Python.framework/Versions/3.7/lib/python3.7/site-packages/pandas/core/indexing.py\u001b[0m in \u001b[0;36mcheck_bool_indexer\u001b[0;34m(index, key)\u001b[0m\n\u001b[1;32m   2383\u001b[0m     \u001b[0mresult\u001b[0m \u001b[0;34m=\u001b[0m \u001b[0mkey\u001b[0m\u001b[0;34m\u001b[0m\u001b[0;34m\u001b[0m\u001b[0m\n\u001b[1;32m   2384\u001b[0m     \u001b[0;32mif\u001b[0m \u001b[0misinstance\u001b[0m\u001b[0;34m(\u001b[0m\u001b[0mkey\u001b[0m\u001b[0;34m,\u001b[0m \u001b[0mABCSeries\u001b[0m\u001b[0;34m)\u001b[0m \u001b[0;32mand\u001b[0m \u001b[0;32mnot\u001b[0m \u001b[0mkey\u001b[0m\u001b[0;34m.\u001b[0m\u001b[0mindex\u001b[0m\u001b[0;34m.\u001b[0m\u001b[0mequals\u001b[0m\u001b[0;34m(\u001b[0m\u001b[0mindex\u001b[0m\u001b[0;34m)\u001b[0m\u001b[0;34m:\u001b[0m\u001b[0;34m\u001b[0m\u001b[0;34m\u001b[0m\u001b[0m\n\u001b[0;32m-> 2385\u001b[0;31m         \u001b[0mresult\u001b[0m \u001b[0;34m=\u001b[0m \u001b[0mresult\u001b[0m\u001b[0;34m.\u001b[0m\u001b[0mreindex\u001b[0m\u001b[0;34m(\u001b[0m\u001b[0mindex\u001b[0m\u001b[0;34m)\u001b[0m\u001b[0;34m\u001b[0m\u001b[0;34m\u001b[0m\u001b[0m\n\u001b[0m\u001b[1;32m   2386\u001b[0m         \u001b[0mmask\u001b[0m \u001b[0;34m=\u001b[0m \u001b[0misna\u001b[0m\u001b[0;34m(\u001b[0m\u001b[0mresult\u001b[0m\u001b[0;34m.\u001b[0m\u001b[0m_values\u001b[0m\u001b[0;34m)\u001b[0m\u001b[0;34m\u001b[0m\u001b[0;34m\u001b[0m\u001b[0m\n\u001b[1;32m   2387\u001b[0m         \u001b[0;32mif\u001b[0m \u001b[0mmask\u001b[0m\u001b[0;34m.\u001b[0m\u001b[0many\u001b[0m\u001b[0;34m(\u001b[0m\u001b[0;34m)\u001b[0m\u001b[0;34m:\u001b[0m\u001b[0;34m\u001b[0m\u001b[0;34m\u001b[0m\u001b[0m\n",
      "\u001b[0;32m/Library/Frameworks/Python.framework/Versions/3.7/lib/python3.7/site-packages/pandas/core/series.py\u001b[0m in \u001b[0;36mreindex\u001b[0;34m(self, index, **kwargs)\u001b[0m\n\u001b[1;32m   4578\u001b[0m     )\n\u001b[1;32m   4579\u001b[0m     \u001b[0;32mdef\u001b[0m \u001b[0mreindex\u001b[0m\u001b[0;34m(\u001b[0m\u001b[0mself\u001b[0m\u001b[0;34m,\u001b[0m \u001b[0mindex\u001b[0m\u001b[0;34m=\u001b[0m\u001b[0;32mNone\u001b[0m\u001b[0;34m,\u001b[0m \u001b[0;34m**\u001b[0m\u001b[0mkwargs\u001b[0m\u001b[0;34m)\u001b[0m\u001b[0;34m:\u001b[0m\u001b[0;34m\u001b[0m\u001b[0;34m\u001b[0m\u001b[0m\n\u001b[0;32m-> 4580\u001b[0;31m         \u001b[0;32mreturn\u001b[0m \u001b[0msuper\u001b[0m\u001b[0;34m(\u001b[0m\u001b[0;34m)\u001b[0m\u001b[0;34m.\u001b[0m\u001b[0mreindex\u001b[0m\u001b[0;34m(\u001b[0m\u001b[0mindex\u001b[0m\u001b[0;34m=\u001b[0m\u001b[0mindex\u001b[0m\u001b[0;34m,\u001b[0m \u001b[0;34m**\u001b[0m\u001b[0mkwargs\u001b[0m\u001b[0;34m)\u001b[0m\u001b[0;34m\u001b[0m\u001b[0;34m\u001b[0m\u001b[0m\n\u001b[0m\u001b[1;32m   4581\u001b[0m \u001b[0;34m\u001b[0m\u001b[0m\n\u001b[1;32m   4582\u001b[0m     \u001b[0;34m@\u001b[0m\u001b[0mdeprecate_nonkeyword_arguments\u001b[0m\u001b[0;34m(\u001b[0m\u001b[0mversion\u001b[0m\u001b[0;34m=\u001b[0m\u001b[0;32mNone\u001b[0m\u001b[0;34m,\u001b[0m \u001b[0mallowed_args\u001b[0m\u001b[0;34m=\u001b[0m\u001b[0;34m[\u001b[0m\u001b[0;34m\"self\"\u001b[0m\u001b[0;34m,\u001b[0m \u001b[0;34m\"labels\"\u001b[0m\u001b[0;34m]\u001b[0m\u001b[0;34m)\u001b[0m\u001b[0;34m\u001b[0m\u001b[0;34m\u001b[0m\u001b[0m\n",
      "\u001b[0;32m/Library/Frameworks/Python.framework/Versions/3.7/lib/python3.7/site-packages/pandas/core/generic.py\u001b[0m in \u001b[0;36mreindex\u001b[0;34m(self, *args, **kwargs)\u001b[0m\n\u001b[1;32m   4817\u001b[0m         \u001b[0;31m# perform the reindex on the axes\u001b[0m\u001b[0;34m\u001b[0m\u001b[0;34m\u001b[0m\u001b[0;34m\u001b[0m\u001b[0m\n\u001b[1;32m   4818\u001b[0m         return self._reindex_axes(\n\u001b[0;32m-> 4819\u001b[0;31m             \u001b[0maxes\u001b[0m\u001b[0;34m,\u001b[0m \u001b[0mlevel\u001b[0m\u001b[0;34m,\u001b[0m \u001b[0mlimit\u001b[0m\u001b[0;34m,\u001b[0m \u001b[0mtolerance\u001b[0m\u001b[0;34m,\u001b[0m \u001b[0mmethod\u001b[0m\u001b[0;34m,\u001b[0m \u001b[0mfill_value\u001b[0m\u001b[0;34m,\u001b[0m \u001b[0mcopy\u001b[0m\u001b[0;34m\u001b[0m\u001b[0;34m\u001b[0m\u001b[0m\n\u001b[0m\u001b[1;32m   4820\u001b[0m         ).__finalize__(self, method=\"reindex\")\n\u001b[1;32m   4821\u001b[0m \u001b[0;34m\u001b[0m\u001b[0m\n",
      "\u001b[0;32m/Library/Frameworks/Python.framework/Versions/3.7/lib/python3.7/site-packages/pandas/core/generic.py\u001b[0m in \u001b[0;36m_reindex_axes\u001b[0;34m(self, axes, level, limit, tolerance, method, fill_value, copy)\u001b[0m\n\u001b[1;32m   4841\u001b[0m                 \u001b[0mfill_value\u001b[0m\u001b[0;34m=\u001b[0m\u001b[0mfill_value\u001b[0m\u001b[0;34m,\u001b[0m\u001b[0;34m\u001b[0m\u001b[0;34m\u001b[0m\u001b[0m\n\u001b[1;32m   4842\u001b[0m                 \u001b[0mcopy\u001b[0m\u001b[0;34m=\u001b[0m\u001b[0mcopy\u001b[0m\u001b[0;34m,\u001b[0m\u001b[0;34m\u001b[0m\u001b[0;34m\u001b[0m\u001b[0m\n\u001b[0;32m-> 4843\u001b[0;31m                 \u001b[0mallow_dups\u001b[0m\u001b[0;34m=\u001b[0m\u001b[0;32mFalse\u001b[0m\u001b[0;34m,\u001b[0m\u001b[0;34m\u001b[0m\u001b[0;34m\u001b[0m\u001b[0m\n\u001b[0m\u001b[1;32m   4844\u001b[0m             )\n\u001b[1;32m   4845\u001b[0m \u001b[0;34m\u001b[0m\u001b[0m\n",
      "\u001b[0;32m/Library/Frameworks/Python.framework/Versions/3.7/lib/python3.7/site-packages/pandas/core/generic.py\u001b[0m in \u001b[0;36m_reindex_with_indexers\u001b[0;34m(self, reindexers, fill_value, copy, allow_dups)\u001b[0m\n\u001b[1;32m   4887\u001b[0m                 \u001b[0mfill_value\u001b[0m\u001b[0;34m=\u001b[0m\u001b[0mfill_value\u001b[0m\u001b[0;34m,\u001b[0m\u001b[0;34m\u001b[0m\u001b[0;34m\u001b[0m\u001b[0m\n\u001b[1;32m   4888\u001b[0m                 \u001b[0mallow_dups\u001b[0m\u001b[0;34m=\u001b[0m\u001b[0mallow_dups\u001b[0m\u001b[0;34m,\u001b[0m\u001b[0;34m\u001b[0m\u001b[0;34m\u001b[0m\u001b[0m\n\u001b[0;32m-> 4889\u001b[0;31m                 \u001b[0mcopy\u001b[0m\u001b[0;34m=\u001b[0m\u001b[0mcopy\u001b[0m\u001b[0;34m,\u001b[0m\u001b[0;34m\u001b[0m\u001b[0;34m\u001b[0m\u001b[0m\n\u001b[0m\u001b[1;32m   4890\u001b[0m             )\n\u001b[1;32m   4891\u001b[0m             \u001b[0;31m# If we've made a copy once, no need to make another one\u001b[0m\u001b[0;34m\u001b[0m\u001b[0;34m\u001b[0m\u001b[0;34m\u001b[0m\u001b[0m\n",
      "\u001b[0;32m/Library/Frameworks/Python.framework/Versions/3.7/lib/python3.7/site-packages/pandas/core/internals/managers.py\u001b[0m in \u001b[0;36mreindex_indexer\u001b[0;34m(self, new_axis, indexer, axis, fill_value, allow_dups, copy, consolidate, only_slice)\u001b[0m\n\u001b[1;32m    668\u001b[0m         \u001b[0;31m# some axes don't allow reindexing with dups\u001b[0m\u001b[0;34m\u001b[0m\u001b[0;34m\u001b[0m\u001b[0;34m\u001b[0m\u001b[0m\n\u001b[1;32m    669\u001b[0m         \u001b[0;32mif\u001b[0m \u001b[0;32mnot\u001b[0m \u001b[0mallow_dups\u001b[0m\u001b[0;34m:\u001b[0m\u001b[0;34m\u001b[0m\u001b[0;34m\u001b[0m\u001b[0m\n\u001b[0;32m--> 670\u001b[0;31m             \u001b[0mself\u001b[0m\u001b[0;34m.\u001b[0m\u001b[0maxes\u001b[0m\u001b[0;34m[\u001b[0m\u001b[0maxis\u001b[0m\u001b[0;34m]\u001b[0m\u001b[0;34m.\u001b[0m\u001b[0m_validate_can_reindex\u001b[0m\u001b[0;34m(\u001b[0m\u001b[0mindexer\u001b[0m\u001b[0;34m)\u001b[0m\u001b[0;34m\u001b[0m\u001b[0;34m\u001b[0m\u001b[0m\n\u001b[0m\u001b[1;32m    671\u001b[0m \u001b[0;34m\u001b[0m\u001b[0m\n\u001b[1;32m    672\u001b[0m         \u001b[0;32mif\u001b[0m \u001b[0maxis\u001b[0m \u001b[0;34m>=\u001b[0m \u001b[0mself\u001b[0m\u001b[0;34m.\u001b[0m\u001b[0mndim\u001b[0m\u001b[0;34m:\u001b[0m\u001b[0;34m\u001b[0m\u001b[0;34m\u001b[0m\u001b[0m\n",
      "\u001b[0;32m/Library/Frameworks/Python.framework/Versions/3.7/lib/python3.7/site-packages/pandas/core/indexes/base.py\u001b[0m in \u001b[0;36m_validate_can_reindex\u001b[0;34m(self, indexer)\u001b[0m\n\u001b[1;32m   3783\u001b[0m         \u001b[0;31m# trying to reindex on an axis with duplicates\u001b[0m\u001b[0;34m\u001b[0m\u001b[0;34m\u001b[0m\u001b[0;34m\u001b[0m\u001b[0m\n\u001b[1;32m   3784\u001b[0m         \u001b[0;32mif\u001b[0m \u001b[0;32mnot\u001b[0m \u001b[0mself\u001b[0m\u001b[0;34m.\u001b[0m\u001b[0m_index_as_unique\u001b[0m \u001b[0;32mand\u001b[0m \u001b[0mlen\u001b[0m\u001b[0;34m(\u001b[0m\u001b[0mindexer\u001b[0m\u001b[0;34m)\u001b[0m\u001b[0;34m:\u001b[0m\u001b[0;34m\u001b[0m\u001b[0;34m\u001b[0m\u001b[0m\n\u001b[0;32m-> 3785\u001b[0;31m             \u001b[0;32mraise\u001b[0m \u001b[0mValueError\u001b[0m\u001b[0;34m(\u001b[0m\u001b[0;34m\"cannot reindex from a duplicate axis\"\u001b[0m\u001b[0;34m)\u001b[0m\u001b[0;34m\u001b[0m\u001b[0;34m\u001b[0m\u001b[0m\n\u001b[0m\u001b[1;32m   3786\u001b[0m \u001b[0;34m\u001b[0m\u001b[0m\n\u001b[1;32m   3787\u001b[0m     def reindex(\n",
      "\u001b[0;31mValueError\u001b[0m: cannot reindex from a duplicate axis"
     ]
    }
   ],
   "source": [
    "values_1 = pd.DataFrame(SwedishexpressionData.loc[cleanedDf['Allergy'] == 1])\n",
    "values_1[\"category\"]  = \"allergy\"\n",
    "values_2 = pd.DataFrame(SpanishexpressionDatatest.loc[cleanedDf['Allergy'] == 1])\n",
    "values_2[\"category\"]  = \"control\"\n",
    "combined = pd.concat([values_1, values_2])\n",
    "print(len(values_1))\n",
    "print(combined)\n",
    "axis = sns.swarmplot(data=combined,x=\"category\",y=\"TC04002538.hg.1\",color = \"gray\", alpha = 0.5)\n",
    "sns.boxplot(data=combined,x=\"category\",y=\"TC04002538.hg.1\",ax = axis,)\n",
    "plt.show()\n",
    "#print(values_2)\n",
    "#sns.catplot(data=pd.DataFrame([*values_2]), kind=\"swarm\")"
   ]
  },
  {
   "cell_type": "code",
   "execution_count": null,
   "id": "5bd2afc4",
   "metadata": {},
   "outputs": [],
   "source": []
  }
 ],
 "metadata": {
  "kernelspec": {
   "display_name": "Python 3 (ipykernel)",
   "language": "python",
   "name": "python3"
  },
  "language_info": {
   "codemirror_mode": {
    "name": "ipython",
    "version": 3
   },
   "file_extension": ".py",
   "mimetype": "text/x-python",
   "name": "python",
   "nbconvert_exporter": "python",
   "pygments_lexer": "ipython3",
   "version": "3.7.6"
  }
 },
 "nbformat": 4,
 "nbformat_minor": 5
}
