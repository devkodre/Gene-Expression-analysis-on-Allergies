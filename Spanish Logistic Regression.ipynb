{
 "cells": [
  {
   "cell_type": "code",
   "execution_count": 5,
   "id": "3499cc27",
   "metadata": {},
   "outputs": [],
   "source": [
    "#Git Hub link:\n",
    "#https://github.com/christacaggiano/machine_learning_exercises/blob/main/chest_pain_prediction.ipynb\n",
    "import pandas as pd \n",
    "import sklearn \n",
    "from sklearn.model_selection import train_test_split\n",
    "from sklearn.linear_model import LogisticRegression\n",
    "from sklearn.metrics import precision_recall_fscore_support\n",
    "from sklearn.metrics import accuracy_score\n",
    "from sklearn.metrics import mean_squared_error\n",
    "from sklearn import metrics\n",
    "import matplotlib.pyplot as plt \n",
    "import seaborn as sns\n",
    "import numpy as np\n",
    "from sklearn.metrics import classification_report\n",
    "from sklearn.metrics import roc_curve, roc_auc_score\n",
    "from sklearn.feature_selection import RFE, SelectKBest, f_classif, chi2, VarianceThreshold\n",
    "from sklearn.preprocessing import normalize, MinMaxScaler\n",
    "from sklearn.decomposition import PCA\n",
    "\n"
   ]
  },
  {
   "cell_type": "code",
   "execution_count": 6,
   "id": "3b5a6a08",
   "metadata": {},
   "outputs": [],
   "source": [
    "cleanedDf = pd.read_csv(\"cleaned_SpanishData.csv\", delimiter=\",\")\n",
    "expressionData = pd.read_csv(\"cleaned_SpanishExpressionData.csv\", delimiter=\",\")\n",
    "\n",
    "cleanedDftest = pd.read_csv(\"cleaned_SwedishData.csv\", delimiter=\",\")\n",
    "expressionDatatest = pd.read_csv(\"cleaned_ExpressionData.csv\", delimiter=\",\")"
   ]
  },
  {
   "cell_type": "code",
   "execution_count": 7,
   "id": "668ca6ab",
   "metadata": {},
   "outputs": [
    {
     "data": {
      "text/html": [
       "<div>\n",
       "<style scoped>\n",
       "    .dataframe tbody tr th:only-of-type {\n",
       "        vertical-align: middle;\n",
       "    }\n",
       "\n",
       "    .dataframe tbody tr th {\n",
       "        vertical-align: top;\n",
       "    }\n",
       "\n",
       "    .dataframe thead th {\n",
       "        text-align: right;\n",
       "    }\n",
       "</style>\n",
       "<table border=\"1\" class=\"dataframe\">\n",
       "  <thead>\n",
       "    <tr style=\"text-align: right;\">\n",
       "      <th></th>\n",
       "      <th>!Sample_geo_accession</th>\n",
       "      <th>Gender</th>\n",
       "      <th>Age</th>\n",
       "      <th>Allergy</th>\n",
       "      <th>Asthma</th>\n",
       "      <th>Dermatitis</th>\n",
       "      <th>rhinitis</th>\n",
       "    </tr>\n",
       "  </thead>\n",
       "  <tbody>\n",
       "    <tr>\n",
       "      <th>0</th>\n",
       "      <td>GSM4210053</td>\n",
       "      <td>0</td>\n",
       "      <td>48.390000</td>\n",
       "      <td>0</td>\n",
       "      <td>0</td>\n",
       "      <td>0</td>\n",
       "      <td>0</td>\n",
       "    </tr>\n",
       "    <tr>\n",
       "      <th>1</th>\n",
       "      <td>GSM4210054</td>\n",
       "      <td>0</td>\n",
       "      <td>50.430000</td>\n",
       "      <td>0</td>\n",
       "      <td>0</td>\n",
       "      <td>0</td>\n",
       "      <td>0</td>\n",
       "    </tr>\n",
       "    <tr>\n",
       "      <th>2</th>\n",
       "      <td>GSM4210055</td>\n",
       "      <td>1</td>\n",
       "      <td>53.880904</td>\n",
       "      <td>0</td>\n",
       "      <td>0</td>\n",
       "      <td>0</td>\n",
       "      <td>0</td>\n",
       "    </tr>\n",
       "    <tr>\n",
       "      <th>3</th>\n",
       "      <td>GSM4210056</td>\n",
       "      <td>0</td>\n",
       "      <td>52.665298</td>\n",
       "      <td>1</td>\n",
       "      <td>1</td>\n",
       "      <td>0</td>\n",
       "      <td>0</td>\n",
       "    </tr>\n",
       "    <tr>\n",
       "      <th>4</th>\n",
       "      <td>GSM4210057</td>\n",
       "      <td>1</td>\n",
       "      <td>53.650924</td>\n",
       "      <td>0</td>\n",
       "      <td>0</td>\n",
       "      <td>0</td>\n",
       "      <td>0</td>\n",
       "    </tr>\n",
       "    <tr>\n",
       "      <th>...</th>\n",
       "      <td>...</td>\n",
       "      <td>...</td>\n",
       "      <td>...</td>\n",
       "      <td>...</td>\n",
       "      <td>...</td>\n",
       "      <td>...</td>\n",
       "      <td>...</td>\n",
       "    </tr>\n",
       "    <tr>\n",
       "      <th>196</th>\n",
       "      <td>GSM4210249</td>\n",
       "      <td>1</td>\n",
       "      <td>55.162218</td>\n",
       "      <td>1</td>\n",
       "      <td>0</td>\n",
       "      <td>1</td>\n",
       "      <td>0</td>\n",
       "    </tr>\n",
       "    <tr>\n",
       "      <th>197</th>\n",
       "      <td>GSM4210250</td>\n",
       "      <td>0</td>\n",
       "      <td>47.460000</td>\n",
       "      <td>0</td>\n",
       "      <td>0</td>\n",
       "      <td>0</td>\n",
       "      <td>0</td>\n",
       "    </tr>\n",
       "    <tr>\n",
       "      <th>198</th>\n",
       "      <td>GSM4210251</td>\n",
       "      <td>0</td>\n",
       "      <td>47.610000</td>\n",
       "      <td>1</td>\n",
       "      <td>1</td>\n",
       "      <td>1</td>\n",
       "      <td>0</td>\n",
       "    </tr>\n",
       "    <tr>\n",
       "      <th>199</th>\n",
       "      <td>GSM4210252</td>\n",
       "      <td>1</td>\n",
       "      <td>48.030000</td>\n",
       "      <td>0</td>\n",
       "      <td>0</td>\n",
       "      <td>0</td>\n",
       "      <td>0</td>\n",
       "    </tr>\n",
       "    <tr>\n",
       "      <th>200</th>\n",
       "      <td>GSM4210253</td>\n",
       "      <td>0</td>\n",
       "      <td>47.670000</td>\n",
       "      <td>1</td>\n",
       "      <td>1</td>\n",
       "      <td>0</td>\n",
       "      <td>0</td>\n",
       "    </tr>\n",
       "  </tbody>\n",
       "</table>\n",
       "<p>201 rows × 7 columns</p>\n",
       "</div>"
      ],
      "text/plain": [
       "    !Sample_geo_accession  Gender        Age  Allergy  Asthma  Dermatitis  \\\n",
       "0              GSM4210053       0  48.390000        0       0           0   \n",
       "1              GSM4210054       0  50.430000        0       0           0   \n",
       "2              GSM4210055       1  53.880904        0       0           0   \n",
       "3              GSM4210056       0  52.665298        1       1           0   \n",
       "4              GSM4210057       1  53.650924        0       0           0   \n",
       "..                    ...     ...        ...      ...     ...         ...   \n",
       "196            GSM4210249       1  55.162218        1       0           1   \n",
       "197            GSM4210250       0  47.460000        0       0           0   \n",
       "198            GSM4210251       0  47.610000        1       1           1   \n",
       "199            GSM4210252       1  48.030000        0       0           0   \n",
       "200            GSM4210253       0  47.670000        1       1           0   \n",
       "\n",
       "     rhinitis  \n",
       "0           0  \n",
       "1           0  \n",
       "2           0  \n",
       "3           0  \n",
       "4           0  \n",
       "..        ...  \n",
       "196         0  \n",
       "197         0  \n",
       "198         0  \n",
       "199         0  \n",
       "200         0  \n",
       "\n",
       "[201 rows x 7 columns]"
      ]
     },
     "execution_count": 7,
     "metadata": {},
     "output_type": "execute_result"
    }
   ],
   "source": [
    "cleanedDf"
   ]
  },
  {
   "cell_type": "code",
   "execution_count": 8,
   "id": "2677b544",
   "metadata": {},
   "outputs": [
    {
     "data": {
      "text/html": [
       "<div>\n",
       "<style scoped>\n",
       "    .dataframe tbody tr th:only-of-type {\n",
       "        vertical-align: middle;\n",
       "    }\n",
       "\n",
       "    .dataframe tbody tr th {\n",
       "        vertical-align: top;\n",
       "    }\n",
       "\n",
       "    .dataframe thead th {\n",
       "        text-align: right;\n",
       "    }\n",
       "</style>\n",
       "<table border=\"1\" class=\"dataframe\">\n",
       "  <thead>\n",
       "    <tr style=\"text-align: right;\">\n",
       "      <th></th>\n",
       "      <th>TC01000001.hg.1</th>\n",
       "      <th>TC01000002.hg.1</th>\n",
       "      <th>TC01000003.hg.1</th>\n",
       "      <th>TC01000004.hg.1</th>\n",
       "      <th>TC01000005.hg.1</th>\n",
       "      <th>TC01000006.hg.1</th>\n",
       "      <th>TC01000007.hg.1</th>\n",
       "      <th>TC01000008.hg.1</th>\n",
       "      <th>TC01000009.hg.1</th>\n",
       "      <th>TC01000010.hg.1</th>\n",
       "      <th>...</th>\n",
       "      <th>TCUn_gl000228000012.hg.1</th>\n",
       "      <th>TCUn_gl000228000013.hg.1</th>\n",
       "      <th>TCUn_gl000228000014.hg.1</th>\n",
       "      <th>TCUn_gl000237000001.hg.1</th>\n",
       "      <th>TCUn_gl000237000002.hg.1</th>\n",
       "      <th>TCUn_gl000241000001.hg.1</th>\n",
       "      <th>TCUn_gl000241000002.hg.1</th>\n",
       "      <th>TCUn_gl000243000001.hg.1</th>\n",
       "      <th>TCUn_gl000243000002.hg.1</th>\n",
       "      <th>TCUn_gl000247000001.hg.1</th>\n",
       "    </tr>\n",
       "  </thead>\n",
       "  <tbody>\n",
       "    <tr>\n",
       "      <th>0</th>\n",
       "      <td>7.306521</td>\n",
       "      <td>3.872354</td>\n",
       "      <td>2.316856</td>\n",
       "      <td>5.257580</td>\n",
       "      <td>10.443235</td>\n",
       "      <td>12.400564</td>\n",
       "      <td>12.726936</td>\n",
       "      <td>8.267809</td>\n",
       "      <td>1.364667</td>\n",
       "      <td>2.774485</td>\n",
       "      <td>...</td>\n",
       "      <td>2.472133</td>\n",
       "      <td>5.958601</td>\n",
       "      <td>5.052269</td>\n",
       "      <td>5.708536</td>\n",
       "      <td>5.656193</td>\n",
       "      <td>5.698558</td>\n",
       "      <td>5.689048</td>\n",
       "      <td>6.115806</td>\n",
       "      <td>6.715135</td>\n",
       "      <td>6.115806</td>\n",
       "    </tr>\n",
       "    <tr>\n",
       "      <th>1</th>\n",
       "      <td>6.447310</td>\n",
       "      <td>4.230636</td>\n",
       "      <td>2.351660</td>\n",
       "      <td>4.136642</td>\n",
       "      <td>9.698942</td>\n",
       "      <td>12.010571</td>\n",
       "      <td>12.260004</td>\n",
       "      <td>7.199457</td>\n",
       "      <td>1.596095</td>\n",
       "      <td>3.157192</td>\n",
       "      <td>...</td>\n",
       "      <td>2.870586</td>\n",
       "      <td>6.009917</td>\n",
       "      <td>4.741401</td>\n",
       "      <td>5.771277</td>\n",
       "      <td>5.700213</td>\n",
       "      <td>5.641142</td>\n",
       "      <td>5.666386</td>\n",
       "      <td>4.556088</td>\n",
       "      <td>6.392481</td>\n",
       "      <td>4.556088</td>\n",
       "    </tr>\n",
       "    <tr>\n",
       "      <th>2</th>\n",
       "      <td>5.174195</td>\n",
       "      <td>4.093883</td>\n",
       "      <td>2.023151</td>\n",
       "      <td>4.514760</td>\n",
       "      <td>9.829755</td>\n",
       "      <td>12.060998</td>\n",
       "      <td>12.398072</td>\n",
       "      <td>7.549971</td>\n",
       "      <td>1.731998</td>\n",
       "      <td>2.496039</td>\n",
       "      <td>...</td>\n",
       "      <td>2.375494</td>\n",
       "      <td>6.088588</td>\n",
       "      <td>4.757923</td>\n",
       "      <td>5.629518</td>\n",
       "      <td>5.499724</td>\n",
       "      <td>5.615692</td>\n",
       "      <td>5.642813</td>\n",
       "      <td>6.957816</td>\n",
       "      <td>6.727878</td>\n",
       "      <td>6.957816</td>\n",
       "    </tr>\n",
       "    <tr>\n",
       "      <th>3</th>\n",
       "      <td>6.471684</td>\n",
       "      <td>4.100412</td>\n",
       "      <td>2.234162</td>\n",
       "      <td>5.362035</td>\n",
       "      <td>10.213408</td>\n",
       "      <td>12.201899</td>\n",
       "      <td>12.481544</td>\n",
       "      <td>7.548271</td>\n",
       "      <td>1.434883</td>\n",
       "      <td>2.553943</td>\n",
       "      <td>...</td>\n",
       "      <td>2.596263</td>\n",
       "      <td>6.022447</td>\n",
       "      <td>5.058751</td>\n",
       "      <td>5.847535</td>\n",
       "      <td>5.838800</td>\n",
       "      <td>6.004944</td>\n",
       "      <td>6.079604</td>\n",
       "      <td>4.610122</td>\n",
       "      <td>6.656566</td>\n",
       "      <td>4.610122</td>\n",
       "    </tr>\n",
       "    <tr>\n",
       "      <th>4</th>\n",
       "      <td>5.607725</td>\n",
       "      <td>4.163153</td>\n",
       "      <td>2.006832</td>\n",
       "      <td>5.256249</td>\n",
       "      <td>10.372409</td>\n",
       "      <td>12.249870</td>\n",
       "      <td>12.609717</td>\n",
       "      <td>7.864405</td>\n",
       "      <td>1.705209</td>\n",
       "      <td>3.103833</td>\n",
       "      <td>...</td>\n",
       "      <td>2.688786</td>\n",
       "      <td>6.212327</td>\n",
       "      <td>5.410218</td>\n",
       "      <td>5.977947</td>\n",
       "      <td>5.835658</td>\n",
       "      <td>5.946795</td>\n",
       "      <td>5.934129</td>\n",
       "      <td>5.393630</td>\n",
       "      <td>6.797457</td>\n",
       "      <td>5.393630</td>\n",
       "    </tr>\n",
       "  </tbody>\n",
       "</table>\n",
       "<p>5 rows × 67528 columns</p>\n",
       "</div>"
      ],
      "text/plain": [
       "   TC01000001.hg.1  TC01000002.hg.1  TC01000003.hg.1  TC01000004.hg.1  \\\n",
       "0         7.306521         3.872354         2.316856         5.257580   \n",
       "1         6.447310         4.230636         2.351660         4.136642   \n",
       "2         5.174195         4.093883         2.023151         4.514760   \n",
       "3         6.471684         4.100412         2.234162         5.362035   \n",
       "4         5.607725         4.163153         2.006832         5.256249   \n",
       "\n",
       "   TC01000005.hg.1  TC01000006.hg.1  TC01000007.hg.1  TC01000008.hg.1  \\\n",
       "0        10.443235        12.400564        12.726936         8.267809   \n",
       "1         9.698942        12.010571        12.260004         7.199457   \n",
       "2         9.829755        12.060998        12.398072         7.549971   \n",
       "3        10.213408        12.201899        12.481544         7.548271   \n",
       "4        10.372409        12.249870        12.609717         7.864405   \n",
       "\n",
       "   TC01000009.hg.1  TC01000010.hg.1  ...  TCUn_gl000228000012.hg.1  \\\n",
       "0         1.364667         2.774485  ...                  2.472133   \n",
       "1         1.596095         3.157192  ...                  2.870586   \n",
       "2         1.731998         2.496039  ...                  2.375494   \n",
       "3         1.434883         2.553943  ...                  2.596263   \n",
       "4         1.705209         3.103833  ...                  2.688786   \n",
       "\n",
       "   TCUn_gl000228000013.hg.1  TCUn_gl000228000014.hg.1  \\\n",
       "0                  5.958601                  5.052269   \n",
       "1                  6.009917                  4.741401   \n",
       "2                  6.088588                  4.757923   \n",
       "3                  6.022447                  5.058751   \n",
       "4                  6.212327                  5.410218   \n",
       "\n",
       "   TCUn_gl000237000001.hg.1  TCUn_gl000237000002.hg.1  \\\n",
       "0                  5.708536                  5.656193   \n",
       "1                  5.771277                  5.700213   \n",
       "2                  5.629518                  5.499724   \n",
       "3                  5.847535                  5.838800   \n",
       "4                  5.977947                  5.835658   \n",
       "\n",
       "   TCUn_gl000241000001.hg.1  TCUn_gl000241000002.hg.1  \\\n",
       "0                  5.698558                  5.689048   \n",
       "1                  5.641142                  5.666386   \n",
       "2                  5.615692                  5.642813   \n",
       "3                  6.004944                  6.079604   \n",
       "4                  5.946795                  5.934129   \n",
       "\n",
       "   TCUn_gl000243000001.hg.1  TCUn_gl000243000002.hg.1  \\\n",
       "0                  6.115806                  6.715135   \n",
       "1                  4.556088                  6.392481   \n",
       "2                  6.957816                  6.727878   \n",
       "3                  4.610122                  6.656566   \n",
       "4                  5.393630                  6.797457   \n",
       "\n",
       "   TCUn_gl000247000001.hg.1  \n",
       "0                  6.115806  \n",
       "1                  4.556088  \n",
       "2                  6.957816  \n",
       "3                  4.610122  \n",
       "4                  5.393630  \n",
       "\n",
       "[5 rows x 67528 columns]"
      ]
     },
     "execution_count": 8,
     "metadata": {},
     "output_type": "execute_result"
    }
   ],
   "source": [
    "expressionData.head()"
   ]
  },
  {
   "cell_type": "code",
   "execution_count": 9,
   "id": "866492e0",
   "metadata": {},
   "outputs": [],
   "source": [
    "y = cleanedDf[\"Allergy\"].values\n",
    "x = expressionData.values\n",
    "\n",
    "y2 = cleanedDftest[\"Allergy\"].values\n",
    "x2 = expressionDatatest.values\n",
    "\n",
    "gene_ids = list(expressionData)"
   ]
  },
  {
   "cell_type": "code",
   "execution_count": 10,
   "id": "2cc4325b",
   "metadata": {},
   "outputs": [
    {
     "data": {
      "text/plain": [
       "array([[0.72541757, 0.19579843, 0.40418466, ..., 0.76859373, 0.85795678,\n",
       "        0.76859373],\n",
       "       [0.46783723, 0.62104   , 0.42668746, ..., 0.40029549, 0.73077627,\n",
       "        0.40029549],\n",
       "       [0.08617399, 0.45872886, 0.21428629, ..., 0.96741845, 0.86297977,\n",
       "        0.96741845],\n",
       "       ...,\n",
       "       [0.39381965, 0.36003164, 0.25180164, ..., 0.68584128, 0.77647149,\n",
       "        0.68584128],\n",
       "       [0.26573576, 0.48698985, 0.1832308 , ..., 0.76289446, 0.62033128,\n",
       "        0.76289446],\n",
       "       [0.31085538, 0.35158934, 0.48157804, ..., 0.59349821, 0.72588236,\n",
       "        0.59349821]])"
      ]
     },
     "execution_count": 10,
     "metadata": {},
     "output_type": "execute_result"
    }
   ],
   "source": [
    "scaler = MinMaxScaler()\n",
    "scaler.fit(x)\n",
    "x = scaler.transform(x)\n",
    "x"
   ]
  },
  {
   "cell_type": "code",
   "execution_count": 11,
   "id": "ca23ebf4",
   "metadata": {},
   "outputs": [],
   "source": [
    "scaler = MinMaxScaler()\n",
    "scaler.fit(x2)\n",
    "x2 = scaler.transform(x2)"
   ]
  },
  {
   "cell_type": "code",
   "execution_count": 12,
   "id": "cfb0b262",
   "metadata": {},
   "outputs": [],
   "source": [
    "#KBest\n",
    "selector = SelectKBest(f_classif, k=100)\n",
    "x_new = selector.fit_transform(x, y)\n",
    "index_list = selector.get_support(indices=True)\n",
    "index_list\n",
    "gene_ids = list(expressionData)\n",
    "gene_names = [gene_ids[i] for i in index_list]"
   ]
  },
  {
   "cell_type": "code",
   "execution_count": 13,
   "id": "c6e2a51a",
   "metadata": {},
   "outputs": [
    {
     "data": {
      "text/plain": [
       "['TC01000501.hg.1',\n",
       " 'TC01002297.hg.1',\n",
       " 'TC01004432.hg.1',\n",
       " 'TC01004544.hg.1',\n",
       " 'TC01005105.hg.1',\n",
       " 'TC01005117.hg.1',\n",
       " 'TC02002280.hg.1',\n",
       " 'TC02004272.hg.1',\n",
       " 'TC03001780.hg.1',\n",
       " 'TC03002917.hg.1',\n",
       " 'TC04000712.hg.1',\n",
       " 'TC04000880.hg.1',\n",
       " 'TC05000027.hg.1',\n",
       " 'TC05001611.hg.1',\n",
       " 'TC05002298.hg.1',\n",
       " 'TC05003133.hg.1',\n",
       " 'TC05003356.hg.1',\n",
       " 'TC06000234.hg.1',\n",
       " 'TC06000476.hg.1',\n",
       " 'TC06000622.hg.1',\n",
       " 'TC06001863.hg.1',\n",
       " 'TC06002618.hg.1',\n",
       " 'TC06002630.hg.1',\n",
       " 'TC06002663.hg.1',\n",
       " 'TC06003488.hg.1',\n",
       " 'TC07000165.hg.1',\n",
       " 'TC07000861.hg.1',\n",
       " 'TC07001136.hg.1',\n",
       " 'TC07001970.hg.1',\n",
       " 'TC07002209.hg.1',\n",
       " 'TC07003000.hg.1',\n",
       " 'TC07003293.hg.1',\n",
       " 'TC08000076.hg.1',\n",
       " 'TC08000274.hg.1',\n",
       " 'TC08001048.hg.1',\n",
       " 'TC08001438.hg.1',\n",
       " 'TC08001689.hg.1',\n",
       " 'TC09000635.hg.1',\n",
       " 'TC09001322.hg.1',\n",
       " 'TC09001437.hg.1',\n",
       " 'TC09001698.hg.1',\n",
       " 'TC09002465.hg.1',\n",
       " 'TC09002491.hg.1',\n",
       " 'TC0X000232.hg.1',\n",
       " 'TC10000510.hg.1',\n",
       " 'TC10000524.hg.1',\n",
       " 'TC10001593.hg.1',\n",
       " 'TC11000127.hg.1',\n",
       " 'TC11001333.hg.1',\n",
       " 'TC11001353.hg.1',\n",
       " 'TC11003304.hg.1',\n",
       " 'TC12001015.hg.1',\n",
       " 'TC12001818.hg.1',\n",
       " 'TC12001945.hg.1',\n",
       " 'TC12001983.hg.1',\n",
       " 'TC12002507.hg.1',\n",
       " 'TC12002622.hg.1',\n",
       " 'TC12002965.hg.1',\n",
       " 'TC12003159.hg.1',\n",
       " 'TC12003169.hg.1',\n",
       " 'TC13000345.hg.1',\n",
       " 'TC13000722.hg.1',\n",
       " 'TC13000912.hg.1',\n",
       " 'TC14000950.hg.1',\n",
       " 'TC14001321.hg.1',\n",
       " 'TC14001383.hg.1',\n",
       " 'TC15000490.hg.1',\n",
       " 'TC15000569.hg.1',\n",
       " 'TC15000737.hg.1',\n",
       " 'TC15001490.hg.1',\n",
       " 'TC15001584.hg.1',\n",
       " 'TC15001840.hg.1',\n",
       " 'TC15002002.hg.1',\n",
       " 'TC15002308.hg.1',\n",
       " 'TC15002649.hg.1',\n",
       " 'TC16000123.hg.1',\n",
       " 'TC16000148.hg.1',\n",
       " 'TC16000423.hg.1',\n",
       " 'TC16000512.hg.1',\n",
       " 'TC16001409.hg.1',\n",
       " 'TC16001441.hg.1',\n",
       " 'TC16001591.hg.1',\n",
       " 'TC16001927.hg.1',\n",
       " 'TC17000730.hg.1',\n",
       " 'TC17001027.hg.1',\n",
       " 'TC17002001.hg.1',\n",
       " 'TC17002552.hg.1',\n",
       " 'TC17002808.hg.1',\n",
       " 'TC19000275.hg.1',\n",
       " 'TC19001404.hg.1',\n",
       " 'TC20000266.hg.1',\n",
       " 'TC20001512.hg.1',\n",
       " 'TC21000056.hg.1',\n",
       " 'TC21000446.hg.1',\n",
       " 'TC22000247.hg.1',\n",
       " 'TC22000514.hg.1',\n",
       " 'TC22001139.hg.1',\n",
       " 'TC6_qbl_hap6000135.hg.1',\n",
       " 'TC6_qbl_hap6000140.hg.1',\n",
       " 'TC6_ssto_hap7000178.hg.1']"
      ]
     },
     "execution_count": 13,
     "metadata": {},
     "output_type": "execute_result"
    }
   ],
   "source": [
    "#KBest\n",
    "selector = SelectKBest(f_classif, k=100)\n",
    "x2_new = selector.fit_transform(x2, y2)\n",
    "index_list2 = selector.get_support(indices=True)\n",
    "index_list2\n",
    "gene_ids2 = list(expressionDatatest)\n",
    "gene_names2 = [gene_ids2[i] for i in index_list2]\n",
    "gene_names"
   ]
  },
  {
   "cell_type": "code",
   "execution_count": 221,
   "id": "8ba3c710",
   "metadata": {},
   "outputs": [
    {
     "data": {
      "text/plain": [
       "(201, 300)"
      ]
     },
     "execution_count": 221,
     "metadata": {},
     "output_type": "execute_result"
    }
   ],
   "source": [
    "#chi squared\n",
    "selector = SelectKBest(chi2, k=300)\n",
    "x_new = selector.fit_transform(x, y)\n",
    "\n",
    "x_new.shape"
   ]
  },
  {
   "cell_type": "code",
   "execution_count": 8,
   "id": "c55f42fe",
   "metadata": {},
   "outputs": [
    {
     "data": {
      "text/plain": [
       "(201, 435)"
      ]
     },
     "execution_count": 8,
     "metadata": {},
     "output_type": "execute_result"
    }
   ],
   "source": [
    "#Variance\n",
    "selector = VarianceThreshold(0.459)\n",
    "x_new = selector.fit_transform(x)\n",
    "\n",
    "x_new.shape"
   ]
  },
  {
   "cell_type": "code",
   "execution_count": 12,
   "id": "9e1d589a",
   "metadata": {},
   "outputs": [],
   "source": [
    "pca = PCA(n_components=201)\n",
    "x_new = pca.fit_transform(x)"
   ]
  },
  {
   "cell_type": "code",
   "execution_count": 210,
   "id": "f797ce3b",
   "metadata": {},
   "outputs": [
    {
     "data": {
      "text/plain": [
       "(201, 475)"
      ]
     },
     "execution_count": 210,
     "metadata": {},
     "output_type": "execute_result"
    }
   ],
   "source": [
    "#Std\n",
    "stds = []\n",
    "for f in range(67528):\n",
    "    column = x[:,f]\n",
    "    #print(column.std(), f)\n",
    "    stds.append((column.std(),f))\n",
    "stds.sort(reverse=True)\n",
    "stds = [t[1] for t in stds]\n",
    "x_new = x[:,stds]\n",
    "x_new = x_new[:,:475]\n",
    "\n",
    "x_new.shape\n",
    "\n",
    "\n",
    "\n",
    "    \n",
    "\n",
    "#x_new = x[threshold]"
   ]
  },
  {
   "cell_type": "code",
   "execution_count": null,
   "id": "279df797",
   "metadata": {},
   "outputs": [],
   "source": []
  },
  {
   "cell_type": "code",
   "execution_count": 13,
   "id": "669eebc7",
   "metadata": {},
   "outputs": [],
   "source": [
    "x_train, x_test, y_train, y_test = sklearn.model_selection.train_test_split(x_new, y, test_size=0.3, random_state=0)"
   ]
  },
  {
   "cell_type": "code",
   "execution_count": 14,
   "id": "55663793",
   "metadata": {},
   "outputs": [
    {
     "name": "stdout",
     "output_type": "stream",
     "text": [
      "[[-9.35981893e+00  2.46683290e+01  1.23676741e+01 ...  1.76672363e-01\n",
      "   3.85414661e-02  1.21484956e-14]\n",
      " [ 5.64741147e+00  4.18172272e+00 -8.73699306e+00 ... -9.81984346e-01\n",
      "   2.00739232e-02  1.21484956e-14]\n",
      " [-3.53602240e+01 -2.58751388e+00 -6.84613649e+00 ...  6.12866652e-01\n",
      "   2.80390448e-01  1.21484956e-14]\n",
      " ...\n",
      " [-1.11553306e+01 -8.14907108e-01 -4.70718343e-01 ...  4.22360004e-01\n",
      "  -1.55993651e-01  1.21484956e-14]\n",
      " [ 1.79533700e+01 -1.38180647e+01 -6.26853772e+00 ... -2.21420024e+00\n",
      "   8.41207751e-01  1.21484956e-14]\n",
      " [-1.13257216e+01  7.20518291e+00 -4.93894410e+00 ...  2.44786280e-01\n",
      "  -5.01961594e-01  1.21484956e-14]]\n"
     ]
    },
    {
     "data": {
      "image/png": "[encoded data removed]",
      "text/plain": [
       "<Figure size 432x288 with 1 Axes>"
      ]
     },
     "metadata": {
      "needs_background": "light"
     },
     "output_type": "display_data"
    }
   ],
   "source": [
    "#plot training and testing data\n",
    "sns.barplot(x=[\"x_train\", \"x_test\", \"y_train\", \"y_test\"], \n",
    "            y=[len(x_train), len(x_test), len(y_train), len(y_test)],\n",
    "           color=\"lightblue\")\n",
    "plt.ylabel(\"count\")\n",
    "print(x_train)\n",
    "plt.show()"
   ]
  },
  {
   "cell_type": "code",
   "execution_count": 15,
   "id": "6e88f199",
   "metadata": {},
   "outputs": [],
   "source": [
    "lr = LogisticRegression(max_iter=1000)"
   ]
  },
  {
   "cell_type": "code",
   "execution_count": 16,
   "id": "14c5bc7d",
   "metadata": {},
   "outputs": [
    {
     "data": {
      "text/plain": [
       "LogisticRegression(max_iter=1000)"
      ]
     },
     "execution_count": 16,
     "metadata": {},
     "output_type": "execute_result"
    }
   ],
   "source": [
    "lr.fit(x_train,y_train)\n",
    "\n"
   ]
  },
  {
   "cell_type": "code",
   "execution_count": 17,
   "id": "3028c6f7",
   "metadata": {},
   "outputs": [
    {
     "data": {
      "text/plain": [
       "(140, 201)"
      ]
     },
     "execution_count": 17,
     "metadata": {},
     "output_type": "execute_result"
    }
   ],
   "source": [
    "x_train.shape"
   ]
  },
  {
   "cell_type": "code",
   "execution_count": 18,
   "id": "8bd9cd17",
   "metadata": {},
   "outputs": [
    {
     "data": {
      "text/plain": [
       "(140,)"
      ]
     },
     "execution_count": 18,
     "metadata": {},
     "output_type": "execute_result"
    }
   ],
   "source": [
    "y_train.shape"
   ]
  },
  {
   "cell_type": "code",
   "execution_count": 19,
   "id": "2a84755e",
   "metadata": {},
   "outputs": [
    {
     "data": {
      "text/plain": [
       "array([1, 0, 1, 1, 0, 1, 0, 0, 0, 0, 0, 0, 0, 0, 0, 0, 1, 0, 1, 1, 0, 0,\n",
       "       0, 0, 1, 1, 1, 1, 0, 0, 0, 1, 0, 0, 0, 0, 0, 1, 0, 0, 0, 0, 1, 0,\n",
       "       0, 0, 0, 1, 0, 0, 0, 1, 0, 0, 0, 0, 1, 0, 0, 0, 1])"
      ]
     },
     "execution_count": 19,
     "metadata": {},
     "output_type": "execute_result"
    }
   ],
   "source": [
    "y_pred = lr.predict(x_test)\n",
    "y_pred"
   ]
  },
  {
   "cell_type": "code",
   "execution_count": 20,
   "id": "f055dce7",
   "metadata": {},
   "outputs": [
    {
     "data": {
      "image/png": "[encoded data removed]",
      "text/plain": [
       "<Figure size 432x288 with 2 Axes>"
      ]
     },
     "metadata": {
      "needs_background": "light"
     },
     "output_type": "display_data"
    }
   ],
   "source": [
    "cnf_matrix = metrics.confusion_matrix(y_test, y_pred) \n",
    "sns.heatmap(pd.DataFrame(cnf_matrix), annot=True, cmap=\"YlGnBu\")\n",
    "plt.xlabel(\"model prediction\")\n",
    "plt.ylabel(\"truth\")\n",
    "plt.show() "
   ]
  },
  {
   "cell_type": "code",
   "execution_count": 22,
   "id": "5aef7c97",
   "metadata": {},
   "outputs": [
    {
     "data": {
      "text/plain": [
       "array([1, 0, 1, 1, 0, 1, 0, 0, 0, 0, 0, 0, 0, 0, 0, 0, 1, 0, 1, 1, 0, 0,\n",
       "       0, 0, 1, 1, 1, 1, 0, 0, 0, 1, 0, 0, 0, 0, 0, 1, 0, 0, 0, 0, 1, 0,\n",
       "       0, 0, 0, 1, 0, 0, 0, 1, 0, 0, 0, 0, 1, 0, 0, 0, 1])"
      ]
     },
     "execution_count": 22,
     "metadata": {},
     "output_type": "execute_result"
    }
   ],
   "source": [
    "# test on spanish data\n",
    "y_pred2 = lr.predict(x_test)\n",
    "y_pred2\n"
   ]
  },
  {
   "cell_type": "code",
   "execution_count": 24,
   "id": "72603d1f",
   "metadata": {},
   "outputs": [
    {
     "data": {
      "image/png": "[encoded data removed]",
      "text/plain": [
       "<Figure size 432x288 with 2 Axes>"
      ]
     },
     "metadata": {
      "needs_background": "light"
     },
     "output_type": "display_data"
    }
   ],
   "source": [
    "cnf_matrix = metrics.confusion_matrix(y_test, y_pred2) \n",
    "sns.heatmap(pd.DataFrame(cnf_matrix), annot=True, cmap=\"YlGnBu\")\n",
    "plt.xlabel(\"model prediction\")\n",
    "plt.ylabel(\"truth\")\n",
    "plt.show() "
   ]
  },
  {
   "cell_type": "code",
   "execution_count": 25,
   "id": "778a11c3",
   "metadata": {},
   "outputs": [
    {
     "name": "stdout",
     "output_type": "stream",
     "text": [
      "              precision    recall  f1-score   support\n",
      "\n",
      "           0       0.79      0.60      0.68        43\n",
      "           1       0.39      0.61      0.48        18\n",
      "\n",
      "    accuracy                           0.61        61\n",
      "   macro avg       0.59      0.61      0.58        61\n",
      "weighted avg       0.67      0.61      0.62        61\n",
      "\n"
     ]
    }
   ],
   "source": [
    "print(classification_report(y_pred, y_test))"
   ]
  },
  {
   "cell_type": "code",
   "execution_count": 26,
   "id": "0f563ff0",
   "metadata": {},
   "outputs": [
    {
     "data": {
      "image/png": "[encoded data removed]",
      "text/plain": [
       "<Figure size 432x288 with 1 Axes>"
      ]
     },
     "metadata": {
      "needs_background": "light"
     },
     "output_type": "display_data"
    }
   ],
   "source": [
    "fpr, tpr, _ = roc_curve(y_test,  np.rint(y_pred))\n",
    "\n",
    "plt.plot(fpr,tpr)\n",
    "plt.plot([0, 1], [0, 1], linestyle=\"dashed\")\n",
    "plt.ylabel('True Positive Rate')\n",
    "plt.xlabel('False Positive Rate')\n",
    "plt.show()"
   ]
  },
  {
   "cell_type": "code",
   "execution_count": 27,
   "id": "14047662",
   "metadata": {},
   "outputs": [
    {
     "data": {
      "text/plain": [
       "0.5903679653679653"
      ]
     },
     "execution_count": 27,
     "metadata": {},
     "output_type": "execute_result"
    }
   ],
   "source": [
    "roc_auc_score(y_test, np.rint(y_pred))"
   ]
  },
  {
   "cell_type": "code",
   "execution_count": 27,
   "id": "121d61e0",
   "metadata": {},
   "outputs": [
    {
     "data": {
      "image/png": "[encoded data removed]",
      "text/plain": [
       "<Figure size 640x480 with 2 Axes>"
      ]
     },
     "metadata": {},
     "output_type": "display_data"
    }
   ],
   "source": [
    "# test on spanish data\n",
    "y_pred2 = lr.predict(x2_new)\n",
    "y_pred2\n",
    "\n",
    "cnf_matrix = metrics.confusion_matrix(y2, y_pred2) \n",
    "sns.heatmap(pd.DataFrame(cnf_matrix), annot=True, cmap=\"YlGnBu\")\n",
    "plt.xlabel(\"model prediction\")\n",
    "plt.ylabel(\"truth\")\n",
    "plt.show() \n"
   ]
  },
  {
   "cell_type": "code",
   "execution_count": 28,
   "id": "e157b704",
   "metadata": {},
   "outputs": [
    {
     "data": {
      "image/png": "[encoded data removed]",
      "text/plain": [
       "<Figure size 640x480 with 1 Axes>"
      ]
     },
     "metadata": {},
     "output_type": "display_data"
    }
   ],
   "source": [
    "fpr, tpr, _ = roc_curve(y2,  np.rint(y_pred2))\n",
    "\n",
    "plt.plot(fpr,tpr)\n",
    "plt.plot([0, 1], [0, 1], linestyle=\"dashed\")\n",
    "plt.ylabel('True Positive Rate')\n",
    "plt.xlabel('False Positive Rate')\n",
    "plt.show()"
   ]
  },
  {
   "cell_type": "code",
   "execution_count": 31,
   "id": "93ed6e75",
   "metadata": {},
   "outputs": [
    {
     "data": {
      "text/plain": [
       "0.5480769230769231"
      ]
     },
     "execution_count": 31,
     "metadata": {},
     "output_type": "execute_result"
    }
   ],
   "source": [
    "roc_auc_score(y2, np.rint(y_pred2))"
   ]
  },
  {
   "cell_type": "code",
   "execution_count": 20,
   "id": "b3dd1342",
   "metadata": {},
   "outputs": [
    {
     "data": {
      "text/plain": [
       "array([[ 0.71820257,  0.14053081,  0.63944941,  0.44087968, -0.65922089,\n",
       "         0.22974114, -0.11449442,  0.07375531,  0.48069406,  0.11260304,\n",
       "        -0.73360602,  0.39287472, -0.89927747, -0.74435186, -1.19084681,\n",
       "         1.01878723,  0.90813166,  0.34629832, -0.41820883,  0.3399392 ,\n",
       "         0.18056313,  0.30719972, -0.38297451, -0.82841775,  0.18611714,\n",
       "         0.46322538, -0.44574644, -0.84888746,  0.44606407,  0.3301487 ,\n",
       "        -0.29073489,  0.13771945,  0.81633958,  0.35408465,  0.77333197,\n",
       "         0.59605979,  0.2648013 ,  0.75908111,  0.46734464,  0.37282345,\n",
       "         0.7536229 ,  0.51052087,  0.50379175, -0.59884238, -0.82049248,\n",
       "         0.28474557,  0.68566172,  0.26954547, -0.69399672,  0.3151915 ,\n",
       "        -0.89026085,  0.14583129, -0.68335232,  0.04864573,  0.44502406,\n",
       "        -0.40527076,  0.44683133, -0.08487497,  0.16985072, -0.12212849,\n",
       "        -1.00010466,  0.30973703,  0.44647642, -0.01182829, -0.2569121 ,\n",
       "        -1.03255077, -0.51565003, -1.15506803,  0.49299298,  0.29045515,\n",
       "         0.6429463 ,  0.85895149,  0.34714242, -0.63892006, -0.05392944,\n",
       "         0.22929891,  0.37037595,  0.11518993,  0.5549071 ,  0.43866046,\n",
       "         0.9165123 ,  0.58064219,  0.09967705,  0.46899361,  0.15128467,\n",
       "         0.41368522,  0.22511605, -0.20572801,  0.02633457, -0.88147659,\n",
       "         0.4100195 ,  0.4110011 ,  0.16222921,  0.49962996,  0.58613017,\n",
       "         0.06799584, -0.09397701,  0.5128901 ,  0.36953987, -0.91120019]])"
      ]
     },
     "execution_count": 20,
     "metadata": {},
     "output_type": "execute_result"
    }
   ],
   "source": [
    "# model weights\n",
    "# exponent of each weight tells the importance \n",
    "lr.coef_"
   ]
  },
  {
   "cell_type": "code",
   "execution_count": 25,
   "id": "46959955",
   "metadata": {},
   "outputs": [],
   "source": [
    "lst = list(np.exp(lr.coef_[0]))\n",
    "lst = [(lst[i],i) for i in range(len(lst))]"
   ]
  },
  {
   "cell_type": "code",
   "execution_count": 26,
   "id": "990e4c9c",
   "metadata": {},
   "outputs": [
    {
     "name": "stdout",
     "output_type": "stream",
     "text": [
      "2.7698335635277505  20732  TC05003133.hg.1\n",
      "2.5005539759311697  54512  TC16001441.hg.1\n",
      "2.4796853113194217  20955  TC05003356.hg.1\n",
      "2.360684186950633  52136  TC15001840.hg.1\n",
      "2.262204053144932  28560  TC08000076.hg.1\n",
      "2.166974526760178  29514  TC08001048.hg.1\n",
      "2.1363122885274426  31713  TC09000635.hg.1\n",
      "2.1246836018455952  32752  TC09001698.hg.1\n",
      "2.0507438353028564  492  TC01000501.hg.1\n",
      "1.985084979652118  38253  TC10001593.hg.1\n"
     ]
    }
   ],
   "source": [
    "lst.sort(reverse = True)\n",
    "count = 0\n",
    "for e in lst:\n",
    "    if count< 10:\n",
    "        print(str(e[0]) + \"  \" + str(index_list[e[1]]) +\"  \"+ str(gene_names[e[1]]))\n",
    "        \n",
    "    count+=1"
   ]
  },
  {
   "cell_type": "code",
   "execution_count": null,
   "id": "2368fc46",
   "metadata": {},
   "outputs": [],
   "source": []
  }
 ],
 "metadata": {
  "kernelspec": {
   "display_name": "Python 3 (ipykernel)",
   "language": "python",
   "name": "python3"
  },
  "language_info": {
   "codemirror_mode": {
    "name": "ipython",
    "version": 3
   },
   "file_extension": ".py",
   "mimetype": "text/x-python",
   "name": "python",
   "nbconvert_exporter": "python",
   "pygments_lexer": "ipython3",
   "version": "3.7.6"
  }
 },
 "nbformat": 4,
 "nbformat_minor": 5
}
