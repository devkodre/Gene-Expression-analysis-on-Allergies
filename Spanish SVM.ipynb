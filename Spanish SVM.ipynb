{
 "cells": [
  {
   "cell_type": "code",
   "execution_count": 3,
   "id": "3499cc27",
   "metadata": {},
   "outputs": [],
   "source": [
    "#Git Hub link:\n",
    "#https://github.com/christacaggiano/machine_learning_exercises/blob/main/chest_pain_prediction.ipynb\n",
    "\n",
    "import pandas as pd \n",
    "import sklearn \n",
    "from sklearn.model_selection import train_test_split\n",
    "from sklearn.linear_model import LogisticRegression\n",
    "from sklearn.metrics import precision_recall_fscore_support\n",
    "from sklearn.metrics import accuracy_score\n",
    "from sklearn.metrics import mean_squared_error\n",
    "from sklearn import metrics\n",
    "import matplotlib.pyplot as plt \n",
    "import seaborn as sns\n",
    "import numpy as np\n",
    "from sklearn.metrics import classification_report\n",
    "from sklearn.metrics import roc_curve, roc_auc_score\n",
    "from sklearn.feature_selection import RFE, SelectKBest, f_classif, chi2, VarianceThreshold\n",
    "from sklearn.preprocessing import normalize, MinMaxScaler\n",
    "from sklearn import svm\n",
    "from sklearn.svm import SVC\n",
    "#import tensorflow as tf\n",
    "#from tensorflow import keras\n",
    "#from tensorflow.keras import layers\n",
    "\n",
    "\n"
   ]
  },
  {
   "cell_type": "code",
   "execution_count": 4,
   "id": "3b5a6a08",
   "metadata": {},
   "outputs": [],
   "source": [
    "cleanedDf = pd.read_csv(\"cleaned_SpanishData.csv\", delimiter=\",\")\n",
    "expressionData = pd.read_csv(\"cleaned_SpanishExpressionData.csv\", delimiter=\",\")"
   ]
  },
  {
   "cell_type": "code",
   "execution_count": 3,
   "id": "668ca6ab",
   "metadata": {},
   "outputs": [
    {
     "data": {
      "text/html": [
       "<div>\n",
       "<style scoped>\n",
       "    .dataframe tbody tr th:only-of-type {\n",
       "        vertical-align: middle;\n",
       "    }\n",
       "\n",
       "    .dataframe tbody tr th {\n",
       "        vertical-align: top;\n",
       "    }\n",
       "\n",
       "    .dataframe thead th {\n",
       "        text-align: right;\n",
       "    }\n",
       "</style>\n",
       "<table border=\"1\" class=\"dataframe\">\n",
       "  <thead>\n",
       "    <tr style=\"text-align: right;\">\n",
       "      <th></th>\n",
       "      <th>!Sample_geo_accession</th>\n",
       "      <th>Gender</th>\n",
       "      <th>Age</th>\n",
       "      <th>Allergy</th>\n",
       "      <th>Asthma</th>\n",
       "      <th>Dermatitis</th>\n",
       "      <th>rhinitis</th>\n",
       "    </tr>\n",
       "  </thead>\n",
       "  <tbody>\n",
       "    <tr>\n",
       "      <th>0</th>\n",
       "      <td>GSM4210053</td>\n",
       "      <td>0</td>\n",
       "      <td>48.390000</td>\n",
       "      <td>0</td>\n",
       "      <td>0</td>\n",
       "      <td>0</td>\n",
       "      <td>0</td>\n",
       "    </tr>\n",
       "    <tr>\n",
       "      <th>1</th>\n",
       "      <td>GSM4210054</td>\n",
       "      <td>0</td>\n",
       "      <td>50.430000</td>\n",
       "      <td>0</td>\n",
       "      <td>0</td>\n",
       "      <td>0</td>\n",
       "      <td>0</td>\n",
       "    </tr>\n",
       "    <tr>\n",
       "      <th>2</th>\n",
       "      <td>GSM4210055</td>\n",
       "      <td>1</td>\n",
       "      <td>53.880904</td>\n",
       "      <td>0</td>\n",
       "      <td>0</td>\n",
       "      <td>0</td>\n",
       "      <td>0</td>\n",
       "    </tr>\n",
       "    <tr>\n",
       "      <th>3</th>\n",
       "      <td>GSM4210056</td>\n",
       "      <td>0</td>\n",
       "      <td>52.665298</td>\n",
       "      <td>1</td>\n",
       "      <td>1</td>\n",
       "      <td>0</td>\n",
       "      <td>0</td>\n",
       "    </tr>\n",
       "    <tr>\n",
       "      <th>4</th>\n",
       "      <td>GSM4210057</td>\n",
       "      <td>1</td>\n",
       "      <td>53.650924</td>\n",
       "      <td>0</td>\n",
       "      <td>0</td>\n",
       "      <td>0</td>\n",
       "      <td>0</td>\n",
       "    </tr>\n",
       "    <tr>\n",
       "      <th>...</th>\n",
       "      <td>...</td>\n",
       "      <td>...</td>\n",
       "      <td>...</td>\n",
       "      <td>...</td>\n",
       "      <td>...</td>\n",
       "      <td>...</td>\n",
       "      <td>...</td>\n",
       "    </tr>\n",
       "    <tr>\n",
       "      <th>196</th>\n",
       "      <td>GSM4210249</td>\n",
       "      <td>1</td>\n",
       "      <td>55.162218</td>\n",
       "      <td>1</td>\n",
       "      <td>0</td>\n",
       "      <td>1</td>\n",
       "      <td>0</td>\n",
       "    </tr>\n",
       "    <tr>\n",
       "      <th>197</th>\n",
       "      <td>GSM4210250</td>\n",
       "      <td>0</td>\n",
       "      <td>47.460000</td>\n",
       "      <td>0</td>\n",
       "      <td>0</td>\n",
       "      <td>0</td>\n",
       "      <td>0</td>\n",
       "    </tr>\n",
       "    <tr>\n",
       "      <th>198</th>\n",
       "      <td>GSM4210251</td>\n",
       "      <td>0</td>\n",
       "      <td>47.610000</td>\n",
       "      <td>1</td>\n",
       "      <td>1</td>\n",
       "      <td>1</td>\n",
       "      <td>0</td>\n",
       "    </tr>\n",
       "    <tr>\n",
       "      <th>199</th>\n",
       "      <td>GSM4210252</td>\n",
       "      <td>1</td>\n",
       "      <td>48.030000</td>\n",
       "      <td>0</td>\n",
       "      <td>0</td>\n",
       "      <td>0</td>\n",
       "      <td>0</td>\n",
       "    </tr>\n",
       "    <tr>\n",
       "      <th>200</th>\n",
       "      <td>GSM4210253</td>\n",
       "      <td>0</td>\n",
       "      <td>47.670000</td>\n",
       "      <td>1</td>\n",
       "      <td>1</td>\n",
       "      <td>0</td>\n",
       "      <td>0</td>\n",
       "    </tr>\n",
       "  </tbody>\n",
       "</table>\n",
       "<p>201 rows × 7 columns</p>\n",
       "</div>"
      ],
      "text/plain": [
       "    !Sample_geo_accession  Gender        Age  Allergy  Asthma  Dermatitis  \\\n",
       "0              GSM4210053       0  48.390000        0       0           0   \n",
       "1              GSM4210054       0  50.430000        0       0           0   \n",
       "2              GSM4210055       1  53.880904        0       0           0   \n",
       "3              GSM4210056       0  52.665298        1       1           0   \n",
       "4              GSM4210057       1  53.650924        0       0           0   \n",
       "..                    ...     ...        ...      ...     ...         ...   \n",
       "196            GSM4210249       1  55.162218        1       0           1   \n",
       "197            GSM4210250       0  47.460000        0       0           0   \n",
       "198            GSM4210251       0  47.610000        1       1           1   \n",
       "199            GSM4210252       1  48.030000        0       0           0   \n",
       "200            GSM4210253       0  47.670000        1       1           0   \n",
       "\n",
       "     rhinitis  \n",
       "0           0  \n",
       "1           0  \n",
       "2           0  \n",
       "3           0  \n",
       "4           0  \n",
       "..        ...  \n",
       "196         0  \n",
       "197         0  \n",
       "198         0  \n",
       "199         0  \n",
       "200         0  \n",
       "\n",
       "[201 rows x 7 columns]"
      ]
     },
     "execution_count": 3,
     "metadata": {},
     "output_type": "execute_result"
    }
   ],
   "source": [
    "cleanedDf"
   ]
  },
  {
   "cell_type": "code",
   "execution_count": 4,
   "id": "2677b544",
   "metadata": {},
   "outputs": [
    {
     "data": {
      "text/html": [
       "<div>\n",
       "<style scoped>\n",
       "    .dataframe tbody tr th:only-of-type {\n",
       "        vertical-align: middle;\n",
       "    }\n",
       "\n",
       "    .dataframe tbody tr th {\n",
       "        vertical-align: top;\n",
       "    }\n",
       "\n",
       "    .dataframe thead th {\n",
       "        text-align: right;\n",
       "    }\n",
       "</style>\n",
       "<table border=\"1\" class=\"dataframe\">\n",
       "  <thead>\n",
       "    <tr style=\"text-align: right;\">\n",
       "      <th></th>\n",
       "      <th>TC01000001.hg.1</th>\n",
       "      <th>TC01000002.hg.1</th>\n",
       "      <th>TC01000003.hg.1</th>\n",
       "      <th>TC01000004.hg.1</th>\n",
       "      <th>TC01000005.hg.1</th>\n",
       "      <th>TC01000006.hg.1</th>\n",
       "      <th>TC01000007.hg.1</th>\n",
       "      <th>TC01000008.hg.1</th>\n",
       "      <th>TC01000009.hg.1</th>\n",
       "      <th>TC01000010.hg.1</th>\n",
       "      <th>...</th>\n",
       "      <th>TCUn_gl000228000012.hg.1</th>\n",
       "      <th>TCUn_gl000228000013.hg.1</th>\n",
       "      <th>TCUn_gl000228000014.hg.1</th>\n",
       "      <th>TCUn_gl000237000001.hg.1</th>\n",
       "      <th>TCUn_gl000237000002.hg.1</th>\n",
       "      <th>TCUn_gl000241000001.hg.1</th>\n",
       "      <th>TCUn_gl000241000002.hg.1</th>\n",
       "      <th>TCUn_gl000243000001.hg.1</th>\n",
       "      <th>TCUn_gl000243000002.hg.1</th>\n",
       "      <th>TCUn_gl000247000001.hg.1</th>\n",
       "    </tr>\n",
       "  </thead>\n",
       "  <tbody>\n",
       "    <tr>\n",
       "      <th>0</th>\n",
       "      <td>7.306521</td>\n",
       "      <td>3.872354</td>\n",
       "      <td>2.316856</td>\n",
       "      <td>5.257580</td>\n",
       "      <td>10.443235</td>\n",
       "      <td>12.400564</td>\n",
       "      <td>12.726936</td>\n",
       "      <td>8.267809</td>\n",
       "      <td>1.364667</td>\n",
       "      <td>2.774485</td>\n",
       "      <td>...</td>\n",
       "      <td>2.472133</td>\n",
       "      <td>5.958601</td>\n",
       "      <td>5.052269</td>\n",
       "      <td>5.708536</td>\n",
       "      <td>5.656193</td>\n",
       "      <td>5.698558</td>\n",
       "      <td>5.689048</td>\n",
       "      <td>6.115806</td>\n",
       "      <td>6.715135</td>\n",
       "      <td>6.115806</td>\n",
       "    </tr>\n",
       "    <tr>\n",
       "      <th>1</th>\n",
       "      <td>6.447310</td>\n",
       "      <td>4.230636</td>\n",
       "      <td>2.351660</td>\n",
       "      <td>4.136642</td>\n",
       "      <td>9.698942</td>\n",
       "      <td>12.010571</td>\n",
       "      <td>12.260004</td>\n",
       "      <td>7.199457</td>\n",
       "      <td>1.596095</td>\n",
       "      <td>3.157192</td>\n",
       "      <td>...</td>\n",
       "      <td>2.870586</td>\n",
       "      <td>6.009917</td>\n",
       "      <td>4.741401</td>\n",
       "      <td>5.771277</td>\n",
       "      <td>5.700213</td>\n",
       "      <td>5.641142</td>\n",
       "      <td>5.666386</td>\n",
       "      <td>4.556088</td>\n",
       "      <td>6.392481</td>\n",
       "      <td>4.556088</td>\n",
       "    </tr>\n",
       "    <tr>\n",
       "      <th>2</th>\n",
       "      <td>5.174195</td>\n",
       "      <td>4.093883</td>\n",
       "      <td>2.023151</td>\n",
       "      <td>4.514760</td>\n",
       "      <td>9.829755</td>\n",
       "      <td>12.060998</td>\n",
       "      <td>12.398072</td>\n",
       "      <td>7.549971</td>\n",
       "      <td>1.731998</td>\n",
       "      <td>2.496039</td>\n",
       "      <td>...</td>\n",
       "      <td>2.375494</td>\n",
       "      <td>6.088588</td>\n",
       "      <td>4.757923</td>\n",
       "      <td>5.629518</td>\n",
       "      <td>5.499724</td>\n",
       "      <td>5.615692</td>\n",
       "      <td>5.642813</td>\n",
       "      <td>6.957816</td>\n",
       "      <td>6.727878</td>\n",
       "      <td>6.957816</td>\n",
       "    </tr>\n",
       "    <tr>\n",
       "      <th>3</th>\n",
       "      <td>6.471684</td>\n",
       "      <td>4.100412</td>\n",
       "      <td>2.234162</td>\n",
       "      <td>5.362035</td>\n",
       "      <td>10.213408</td>\n",
       "      <td>12.201899</td>\n",
       "      <td>12.481544</td>\n",
       "      <td>7.548271</td>\n",
       "      <td>1.434883</td>\n",
       "      <td>2.553943</td>\n",
       "      <td>...</td>\n",
       "      <td>2.596263</td>\n",
       "      <td>6.022447</td>\n",
       "      <td>5.058751</td>\n",
       "      <td>5.847535</td>\n",
       "      <td>5.838800</td>\n",
       "      <td>6.004944</td>\n",
       "      <td>6.079604</td>\n",
       "      <td>4.610122</td>\n",
       "      <td>6.656566</td>\n",
       "      <td>4.610122</td>\n",
       "    </tr>\n",
       "    <tr>\n",
       "      <th>4</th>\n",
       "      <td>5.607725</td>\n",
       "      <td>4.163153</td>\n",
       "      <td>2.006832</td>\n",
       "      <td>5.256249</td>\n",
       "      <td>10.372409</td>\n",
       "      <td>12.249870</td>\n",
       "      <td>12.609717</td>\n",
       "      <td>7.864405</td>\n",
       "      <td>1.705209</td>\n",
       "      <td>3.103833</td>\n",
       "      <td>...</td>\n",
       "      <td>2.688786</td>\n",
       "      <td>6.212327</td>\n",
       "      <td>5.410218</td>\n",
       "      <td>5.977947</td>\n",
       "      <td>5.835658</td>\n",
       "      <td>5.946795</td>\n",
       "      <td>5.934129</td>\n",
       "      <td>5.393630</td>\n",
       "      <td>6.797457</td>\n",
       "      <td>5.393630</td>\n",
       "    </tr>\n",
       "  </tbody>\n",
       "</table>\n",
       "<p>5 rows × 67528 columns</p>\n",
       "</div>"
      ],
      "text/plain": [
       "   TC01000001.hg.1  TC01000002.hg.1  TC01000003.hg.1  TC01000004.hg.1  \\\n",
       "0         7.306521         3.872354         2.316856         5.257580   \n",
       "1         6.447310         4.230636         2.351660         4.136642   \n",
       "2         5.174195         4.093883         2.023151         4.514760   \n",
       "3         6.471684         4.100412         2.234162         5.362035   \n",
       "4         5.607725         4.163153         2.006832         5.256249   \n",
       "\n",
       "   TC01000005.hg.1  TC01000006.hg.1  TC01000007.hg.1  TC01000008.hg.1  \\\n",
       "0        10.443235        12.400564        12.726936         8.267809   \n",
       "1         9.698942        12.010571        12.260004         7.199457   \n",
       "2         9.829755        12.060998        12.398072         7.549971   \n",
       "3        10.213408        12.201899        12.481544         7.548271   \n",
       "4        10.372409        12.249870        12.609717         7.864405   \n",
       "\n",
       "   TC01000009.hg.1  TC01000010.hg.1  ...  TCUn_gl000228000012.hg.1  \\\n",
       "0         1.364667         2.774485  ...                  2.472133   \n",
       "1         1.596095         3.157192  ...                  2.870586   \n",
       "2         1.731998         2.496039  ...                  2.375494   \n",
       "3         1.434883         2.553943  ...                  2.596263   \n",
       "4         1.705209         3.103833  ...                  2.688786   \n",
       "\n",
       "   TCUn_gl000228000013.hg.1  TCUn_gl000228000014.hg.1  \\\n",
       "0                  5.958601                  5.052269   \n",
       "1                  6.009917                  4.741401   \n",
       "2                  6.088588                  4.757923   \n",
       "3                  6.022447                  5.058751   \n",
       "4                  6.212327                  5.410218   \n",
       "\n",
       "   TCUn_gl000237000001.hg.1  TCUn_gl000237000002.hg.1  \\\n",
       "0                  5.708536                  5.656193   \n",
       "1                  5.771277                  5.700213   \n",
       "2                  5.629518                  5.499724   \n",
       "3                  5.847535                  5.838800   \n",
       "4                  5.977947                  5.835658   \n",
       "\n",
       "   TCUn_gl000241000001.hg.1  TCUn_gl000241000002.hg.1  \\\n",
       "0                  5.698558                  5.689048   \n",
       "1                  5.641142                  5.666386   \n",
       "2                  5.615692                  5.642813   \n",
       "3                  6.004944                  6.079604   \n",
       "4                  5.946795                  5.934129   \n",
       "\n",
       "   TCUn_gl000243000001.hg.1  TCUn_gl000243000002.hg.1  \\\n",
       "0                  6.115806                  6.715135   \n",
       "1                  4.556088                  6.392481   \n",
       "2                  6.957816                  6.727878   \n",
       "3                  4.610122                  6.656566   \n",
       "4                  5.393630                  6.797457   \n",
       "\n",
       "   TCUn_gl000247000001.hg.1  \n",
       "0                  6.115806  \n",
       "1                  4.556088  \n",
       "2                  6.957816  \n",
       "3                  4.610122  \n",
       "4                  5.393630  \n",
       "\n",
       "[5 rows x 67528 columns]"
      ]
     },
     "execution_count": 4,
     "metadata": {},
     "output_type": "execute_result"
    }
   ],
   "source": [
    "expressionData.head()"
   ]
  },
  {
   "cell_type": "code",
   "execution_count": 18,
   "id": "866492e0",
   "metadata": {},
   "outputs": [],
   "source": [
    "y = cleanedDf[\"Allergy\"].values\n",
    "x = expressionData.values"
   ]
  },
  {
   "cell_type": "code",
   "execution_count": 19,
   "id": "bfce150f",
   "metadata": {},
   "outputs": [
    {
     "data": {
      "text/plain": [
       "(201, 67528)"
      ]
     },
     "execution_count": 19,
     "metadata": {},
     "output_type": "execute_result"
    }
   ],
   "source": [
    "scaler = MinMaxScaler()\n",
    "scaler.fit(x)\n",
    "x = scaler.transform(x)\n",
    "x.shape"
   ]
  },
  {
   "cell_type": "code",
   "execution_count": 20,
   "id": "04752837",
   "metadata": {},
   "outputs": [],
   "source": [
    "#KBest\n",
    "selector = SelectKBest(f_classif, k=100)\n",
    "x_new = selector.fit_transform(x, y)\n",
    "index_list = selector.get_support(indices=True)\n",
    "index_list\n",
    "gene_ids = list(expressionData)\n",
    "gene_names = [gene_ids[i] for i in index_list]"
   ]
  },
  {
   "cell_type": "code",
   "execution_count": 21,
   "id": "669eebc7",
   "metadata": {},
   "outputs": [],
   "source": [
    "x_train, x_test, y_train, y_test = sklearn.model_selection.train_test_split(x, y, test_size=0.3, random_state=0)"
   ]
  },
  {
   "cell_type": "code",
   "execution_count": 22,
   "id": "55663793",
   "metadata": {},
   "outputs": [
    {
     "name": "stdout",
     "output_type": "stream",
     "text": [
      "[[0.46595102 0.47003218 0.26060814 ... 0.62989784 0.45373763 0.62989784]\n",
      " [0.35375325 0.49373186 0.52134879 ... 0.5800738  0.55200414 0.5800738 ]\n",
      " [0.08290661 0.57023707 0.33721669 ... 0.74517095 0.7313517  0.74517095]\n",
      " ...\n",
      " [0.30606922 0.34987111 0.29479869 ... 0.52564343 0.44596063 0.52564343]\n",
      " [0.49003642 0.47804604 0.57929422 ... 0.7404603  0.73018523 0.7404603 ]\n",
      " [0.17476691 0.38952279 0.10350054 ... 0.80815884 0.50147983 0.80815884]]\n"
     ]
    },
    {
     "data": {
      "image/png": "[encoded data removed]",
      "text/plain": [
       "<Figure size 432x288 with 1 Axes>"
      ]
     },
     "metadata": {
      "needs_background": "light"
     },
     "output_type": "display_data"
    }
   ],
   "source": [
    "#plot training and testing data\n",
    "sns.barplot(x=[\"x_train\", \"x_test\", \"y_train\", \"y_test\"], \n",
    "            y=[len(x_train), len(x_test), len(y_train), len(y_test)],\n",
    "           color=\"lightblue\")\n",
    "plt.ylabel(\"count\")\n",
    "print(x_train)\n",
    "plt.show()\n"
   ]
  },
  {
   "cell_type": "code",
   "execution_count": 8,
   "id": "6e88f199",
   "metadata": {},
   "outputs": [
    {
     "name": "stdout",
     "output_type": "stream",
     "text": [
      "{'C': 0.1, 'gamma': 0.001, 'kernel': 'rbf'}\n"
     ]
    }
   ],
   "source": [
    "# define the parameter grid\n",
    "\n",
    "\"\"\"scaler = StandardScaler()\n",
    "\n",
    "x_train = scaler.fit_transform(x_train)\n",
    "\n",
    "x_test = scaler.transform(x_test)\n",
    "\n",
    "param_grid = {'C': [0.1, 1, 10, 100,1000],\n",
    "              'kernel': ['linear', 'poly', 'rbf','sigmoid'],\n",
    "              'gamma': [0.001,0.01,0.1, 1, 10, 100]}\"\"\"\n",
    "\n",
    "# create the SVM model\n",
    "model = SVC()\n",
    "\n",
    "# create the grid search object\n",
    "grid_search = GridSearchCV(estimator=model, param_grid=param_grid, cv=5)\n",
    "\n",
    "# fit the grid search to the data\n",
    "grid_search.fit(x_train, y_train)\n",
    "\n",
    "# print the best parameters\n",
    "print(grid_search.best_params_)"
   ]
  },
  {
   "cell_type": "code",
   "execution_count": 16,
   "id": "2b0f9fd6",
   "metadata": {},
   "outputs": [],
   "source": [
    "x_test.shape\n",
    "\n",
    "scaler = StandardScaler()\n",
    "\n",
    "x_train = scaler.fit_transform(x_train)\n",
    "\n",
    "x_test = scaler.transform(x_test)"
   ]
  },
  {
   "cell_type": "code",
   "execution_count": 31,
   "id": "96ec2230",
   "metadata": {},
   "outputs": [
    {
     "data": {
      "text/plain": [
       "numpy.int64"
      ]
     },
     "execution_count": 31,
     "metadata": {},
     "output_type": "execute_result"
    }
   ],
   "source": [
    "type(y_train[0])"
   ]
  },
  {
   "cell_type": "code",
   "execution_count": 32,
   "id": "14c5bc7d",
   "metadata": {},
   "outputs": [],
   "source": [
    "clf = svm.SVC()#C=0.1, gamma = 0.1, kernel = 'rbf')\n",
    "\n"
   ]
  },
  {
   "cell_type": "code",
   "execution_count": 33,
   "id": "17ec5733",
   "metadata": {},
   "outputs": [
    {
     "data": {
      "text/plain": [
       "SVC()"
      ]
     },
     "execution_count": 33,
     "metadata": {},
     "output_type": "execute_result"
    }
   ],
   "source": [
    "clf.fit(x_train,y_train)"
   ]
  },
  {
   "cell_type": "code",
   "execution_count": 34,
   "id": "3028c6f7",
   "metadata": {},
   "outputs": [
    {
     "data": {
      "text/plain": [
       "array([[0.46595102, 0.47003218, 0.26060814, ..., 0.62989784, 0.45373763,\n",
       "        0.62989784],\n",
       "       [0.35375325, 0.49373186, 0.52134879, ..., 0.5800738 , 0.55200414,\n",
       "        0.5800738 ],\n",
       "       [0.08290661, 0.57023707, 0.33721669, ..., 0.74517095, 0.7313517 ,\n",
       "        0.74517095],\n",
       "       ...,\n",
       "       [0.30606922, 0.34987111, 0.29479869, ..., 0.52564343, 0.44596063,\n",
       "        0.52564343],\n",
       "       [0.49003642, 0.47804604, 0.57929422, ..., 0.7404603 , 0.73018523,\n",
       "        0.7404603 ],\n",
       "       [0.17476691, 0.38952279, 0.10350054, ..., 0.80815884, 0.50147983,\n",
       "        0.80815884]])"
      ]
     },
     "execution_count": 34,
     "metadata": {},
     "output_type": "execute_result"
    }
   ],
   "source": [
    "x_train"
   ]
  },
  {
   "cell_type": "code",
   "execution_count": 35,
   "id": "8bd9cd17",
   "metadata": {},
   "outputs": [
    {
     "data": {
      "text/plain": [
       "array([0, 0, 1, 1, 0, 1, 1, 1, 1, 0, 1, 0, 0, 1, 1, 1, 1, 1, 1, 0, 0, 0,\n",
       "       1, 0, 1, 1, 0, 0, 0, 1, 0, 0, 0, 0, 1, 0, 0, 0, 0, 1, 0, 0, 1, 0,\n",
       "       1, 0, 1, 0, 0, 0, 0, 1, 0, 0, 1, 1, 1, 0, 0, 1, 1])"
      ]
     },
     "execution_count": 35,
     "metadata": {},
     "output_type": "execute_result"
    }
   ],
   "source": [
    "y_test"
   ]
  },
  {
   "cell_type": "code",
   "execution_count": 36,
   "id": "2a84755e",
   "metadata": {},
   "outputs": [
    {
     "data": {
      "text/plain": [
       "array([0, 0, 0, 0, 0, 0, 0, 0, 0, 0, 0, 0, 0, 0, 0, 0, 0, 0, 0, 0, 0, 0,\n",
       "       0, 0, 0, 0, 0, 0, 0, 0, 0, 0, 0, 0, 0, 0, 0, 0, 0, 0, 0, 0, 0, 0,\n",
       "       0, 0, 0, 0, 0, 0, 0, 0, 0, 0, 0, 0, 0, 0, 0, 0, 0])"
      ]
     },
     "execution_count": 36,
     "metadata": {},
     "output_type": "execute_result"
    }
   ],
   "source": [
    "y_pred = clf.predict(x_test)\n",
    "y_pred"
   ]
  },
  {
   "cell_type": "code",
   "execution_count": 37,
   "id": "f055dce7",
   "metadata": {},
   "outputs": [
    {
     "data": {
      "image/png": "[encoded data removed]",
      "text/plain": [
       "<Figure size 432x288 with 2 Axes>"
      ]
     },
     "metadata": {
      "needs_background": "light"
     },
     "output_type": "display_data"
    }
   ],
   "source": [
    "cnf_matrix = metrics.confusion_matrix(y_test, y_pred) \n",
    "sns.heatmap(pd.DataFrame(cnf_matrix), annot=True, cmap=\"YlGnBu\")\n",
    "plt.xlabel(\"model prediction\")\n",
    "plt.ylabel(\"truth\")\n",
    "plt.show() "
   ]
  },
  {
   "cell_type": "code",
   "execution_count": 38,
   "id": "778a11c3",
   "metadata": {},
   "outputs": [
    {
     "data": {
      "image/png": "[encoded data removed]",
      "text/plain": [
       "<Figure size 432x288 with 1 Axes>"
      ]
     },
     "metadata": {
      "needs_background": "light"
     },
     "output_type": "display_data"
    }
   ],
   "source": [
    "fpr, tpr, _ = roc_curve(y_test,  y_pred, pos_label=0)\n",
    "\n",
    "plt.plot(fpr,tpr)\n",
    "plt.ylabel('True Positive Rate')\n",
    "plt.xlabel('False Positive Rate')\n",
    "plt.show()"
   ]
  },
  {
   "cell_type": "code",
   "execution_count": 39,
   "id": "04826a41",
   "metadata": {},
   "outputs": [
    {
     "name": "stdout",
     "output_type": "stream",
     "text": [
      "              precision    recall  f1-score   support\n",
      "\n",
      "           0       1.00      0.54      0.70        61\n",
      "           1       0.00      0.00      0.00         0\n",
      "\n",
      "    accuracy                           0.54        61\n",
      "   macro avg       0.50      0.27      0.35        61\n",
      "weighted avg       1.00      0.54      0.70        61\n",
      "\n"
     ]
    },
    {
     "name": "stderr",
     "output_type": "stream",
     "text": [
      "/Library/Frameworks/Python.framework/Versions/3.7/lib/python3.7/site-packages/sklearn/metrics/_classification.py:1318: UndefinedMetricWarning: Recall and F-score are ill-defined and being set to 0.0 in labels with no true samples. Use `zero_division` parameter to control this behavior.\n",
      "  _warn_prf(average, modifier, msg_start, len(result))\n",
      "/Library/Frameworks/Python.framework/Versions/3.7/lib/python3.7/site-packages/sklearn/metrics/_classification.py:1318: UndefinedMetricWarning: Recall and F-score are ill-defined and being set to 0.0 in labels with no true samples. Use `zero_division` parameter to control this behavior.\n",
      "  _warn_prf(average, modifier, msg_start, len(result))\n",
      "/Library/Frameworks/Python.framework/Versions/3.7/lib/python3.7/site-packages/sklearn/metrics/_classification.py:1318: UndefinedMetricWarning: Recall and F-score are ill-defined and being set to 0.0 in labels with no true samples. Use `zero_division` parameter to control this behavior.\n",
      "  _warn_prf(average, modifier, msg_start, len(result))\n"
     ]
    }
   ],
   "source": [
    "print(classification_report(y_pred, y_test))"
   ]
  },
  {
   "cell_type": "code",
   "execution_count": 31,
   "id": "6e42690f",
   "metadata": {},
   "outputs": [
    {
     "data": {
      "text/plain": [
       "0.5"
      ]
     },
     "execution_count": 31,
     "metadata": {},
     "output_type": "execute_result"
    }
   ],
   "source": [
    "roc_auc_score(y_test, y_pred)"
   ]
  },
  {
   "cell_type": "code",
   "execution_count": null,
   "id": "e5697634",
   "metadata": {},
   "outputs": [],
   "source": []
  }
 ],
 "metadata": {
  "kernelspec": {
   "display_name": "Python 3 (ipykernel)",
   "language": "python",
   "name": "python3"
  },
  "language_info": {
   "codemirror_mode": {
    "name": "ipython",
    "version": 3
   },
   "file_extension": ".py",
   "mimetype": "text/x-python",
   "name": "python",
   "nbconvert_exporter": "python",
   "pygments_lexer": "ipython3",
   "version": "3.7.6"
  }
 },
 "nbformat": 4,
 "nbformat_minor": 5
}
