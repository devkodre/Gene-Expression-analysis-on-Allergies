{
 "cells": [
  {
   "cell_type": "code",
   "execution_count": 21,
   "id": "3499cc27",
   "metadata": {},
   "outputs": [],
   "source": [
    "#Git Hub link:\n",
    "#https://github.com/christacaggiano/machine_learning_exercises/blob/main/chest_pain_prediction.ipynb\n",
    "import pandas as pd \n",
    "import sklearn \n",
    "from sklearn.model_selection import train_test_split, KFold, cross_val_score\n",
    "from sklearn.linear_model import LogisticRegression\n",
    "from sklearn.metrics import precision_recall_fscore_support\n",
    "from sklearn.metrics import accuracy_score\n",
    "from sklearn.metrics import mean_squared_error\n",
    "from sklearn.ensemble import RandomForestClassifier\n",
    "from sklearn import metrics\n",
    "import matplotlib.pyplot as plt\n",
    "import seaborn as sns\n",
    "import numpy as np\n",
    "from sklearn.metrics import classification_report\n",
    "from sklearn.metrics import roc_curve, roc_auc_score\n",
    "from sklearn.preprocessing import StandardScaler, MinMaxScaler, normalize\n",
    "from sklearn.decomposition import PCA\n",
    "from sklearn.feature_selection import RFE, SelectKBest, f_classif, chi2, VarianceThreshold\n",
    "from sklearn.pipeline import make_pipeline\n",
    "\n"
   ]
  },
  {
   "cell_type": "code",
   "execution_count": 71,
   "id": "3b5a6a08",
   "metadata": {},
   "outputs": [],
   "source": [
    "cleanedDf = pd.read_csv(\"cleaned_SwedishData.csv\", delimiter=\",\")\n",
    "expressionData = pd.read_csv(\"cleaned_ExpressionData.csv\", delimiter=\",\")\n",
    "\n",
    "cleanedDftest = pd.read_csv(\"cleaned_SpanishData.csv\", delimiter=\",\")\n",
    "expressionDatatest = pd.read_csv(\"cleaned_SpanishExpressionData.csv\", delimiter=\",\")"
   ]
  },
  {
   "cell_type": "code",
   "execution_count": 40,
   "id": "668ca6ab",
   "metadata": {},
   "outputs": [
    {
     "data": {
      "text/html": [
       "<div>\n",
       "<style scoped>\n",
       "    .dataframe tbody tr th:only-of-type {\n",
       "        vertical-align: middle;\n",
       "    }\n",
       "\n",
       "    .dataframe tbody tr th {\n",
       "        vertical-align: top;\n",
       "    }\n",
       "\n",
       "    .dataframe thead th {\n",
       "        text-align: right;\n",
       "    }\n",
       "</style>\n",
       "<table border=\"1\" class=\"dataframe\">\n",
       "  <thead>\n",
       "    <tr style=\"text-align: right;\">\n",
       "      <th></th>\n",
       "      <th>!Sample_geo_accession</th>\n",
       "      <th>Gender</th>\n",
       "      <th>Age</th>\n",
       "      <th>Allergy</th>\n",
       "      <th>Asthma</th>\n",
       "      <th>Dermatitis</th>\n",
       "      <th>rhinitis</th>\n",
       "    </tr>\n",
       "  </thead>\n",
       "  <tbody>\n",
       "    <tr>\n",
       "      <th>0</th>\n",
       "      <td>GSM4209620</td>\n",
       "      <td>1</td>\n",
       "      <td>195.5592</td>\n",
       "      <td>1</td>\n",
       "      <td>0</td>\n",
       "      <td>1</td>\n",
       "      <td>0</td>\n",
       "    </tr>\n",
       "    <tr>\n",
       "      <th>1</th>\n",
       "      <td>GSM4209621</td>\n",
       "      <td>1</td>\n",
       "      <td>204.0461</td>\n",
       "      <td>0</td>\n",
       "      <td>0</td>\n",
       "      <td>0</td>\n",
       "      <td>0</td>\n",
       "    </tr>\n",
       "    <tr>\n",
       "      <th>2</th>\n",
       "      <td>GSM4209622</td>\n",
       "      <td>0</td>\n",
       "      <td>201.6776</td>\n",
       "      <td>1</td>\n",
       "      <td>1</td>\n",
       "      <td>1</td>\n",
       "      <td>0</td>\n",
       "    </tr>\n",
       "    <tr>\n",
       "      <th>3</th>\n",
       "      <td>GSM4209623</td>\n",
       "      <td>1</td>\n",
       "      <td>205.6250</td>\n",
       "      <td>1</td>\n",
       "      <td>1</td>\n",
       "      <td>0</td>\n",
       "      <td>0</td>\n",
       "    </tr>\n",
       "    <tr>\n",
       "      <th>4</th>\n",
       "      <td>GSM4209624</td>\n",
       "      <td>0</td>\n",
       "      <td>202.8947</td>\n",
       "      <td>0</td>\n",
       "      <td>0</td>\n",
       "      <td>0</td>\n",
       "      <td>0</td>\n",
       "    </tr>\n",
       "    <tr>\n",
       "      <th>...</th>\n",
       "      <td>...</td>\n",
       "      <td>...</td>\n",
       "      <td>...</td>\n",
       "      <td>...</td>\n",
       "      <td>...</td>\n",
       "      <td>...</td>\n",
       "      <td>...</td>\n",
       "    </tr>\n",
       "    <tr>\n",
       "      <th>251</th>\n",
       "      <td>GSM4209871</td>\n",
       "      <td>1</td>\n",
       "      <td>201.7105</td>\n",
       "      <td>0</td>\n",
       "      <td>0</td>\n",
       "      <td>0</td>\n",
       "      <td>0</td>\n",
       "    </tr>\n",
       "    <tr>\n",
       "      <th>252</th>\n",
       "      <td>GSM4209872</td>\n",
       "      <td>1</td>\n",
       "      <td>201.5461</td>\n",
       "      <td>1</td>\n",
       "      <td>1</td>\n",
       "      <td>0</td>\n",
       "      <td>1</td>\n",
       "    </tr>\n",
       "    <tr>\n",
       "      <th>253</th>\n",
       "      <td>GSM4209873</td>\n",
       "      <td>0</td>\n",
       "      <td>202.7631</td>\n",
       "      <td>0</td>\n",
       "      <td>0</td>\n",
       "      <td>0</td>\n",
       "      <td>0</td>\n",
       "    </tr>\n",
       "    <tr>\n",
       "      <th>254</th>\n",
       "      <td>GSM4209874</td>\n",
       "      <td>1</td>\n",
       "      <td>203.2237</td>\n",
       "      <td>0</td>\n",
       "      <td>0</td>\n",
       "      <td>0</td>\n",
       "      <td>0</td>\n",
       "    </tr>\n",
       "    <tr>\n",
       "      <th>255</th>\n",
       "      <td>GSM4209875</td>\n",
       "      <td>0</td>\n",
       "      <td>202.4342</td>\n",
       "      <td>1</td>\n",
       "      <td>0</td>\n",
       "      <td>1</td>\n",
       "      <td>1</td>\n",
       "    </tr>\n",
       "  </tbody>\n",
       "</table>\n",
       "<p>256 rows × 7 columns</p>\n",
       "</div>"
      ],
      "text/plain": [
       "    !Sample_geo_accession  Gender       Age  Allergy  Asthma  Dermatitis  \\\n",
       "0              GSM4209620       1  195.5592        1       0           1   \n",
       "1              GSM4209621       1  204.0461        0       0           0   \n",
       "2              GSM4209622       0  201.6776        1       1           1   \n",
       "3              GSM4209623       1  205.6250        1       1           0   \n",
       "4              GSM4209624       0  202.8947        0       0           0   \n",
       "..                    ...     ...       ...      ...     ...         ...   \n",
       "251            GSM4209871       1  201.7105        0       0           0   \n",
       "252            GSM4209872       1  201.5461        1       1           0   \n",
       "253            GSM4209873       0  202.7631        0       0           0   \n",
       "254            GSM4209874       1  203.2237        0       0           0   \n",
       "255            GSM4209875       0  202.4342        1       0           1   \n",
       "\n",
       "     rhinitis  \n",
       "0           0  \n",
       "1           0  \n",
       "2           0  \n",
       "3           0  \n",
       "4           0  \n",
       "..        ...  \n",
       "251         0  \n",
       "252         1  \n",
       "253         0  \n",
       "254         0  \n",
       "255         1  \n",
       "\n",
       "[256 rows x 7 columns]"
      ]
     },
     "execution_count": 40,
     "metadata": {},
     "output_type": "execute_result"
    }
   ],
   "source": [
    "cleanedDf"
   ]
  },
  {
   "cell_type": "code",
   "execution_count": 4,
   "id": "2677b544",
   "metadata": {},
   "outputs": [
    {
     "data": {
      "text/html": [
       "<div>\n",
       "<style scoped>\n",
       "    .dataframe tbody tr th:only-of-type {\n",
       "        vertical-align: middle;\n",
       "    }\n",
       "\n",
       "    .dataframe tbody tr th {\n",
       "        vertical-align: top;\n",
       "    }\n",
       "\n",
       "    .dataframe thead th {\n",
       "        text-align: right;\n",
       "    }\n",
       "</style>\n",
       "<table border=\"1\" class=\"dataframe\">\n",
       "  <thead>\n",
       "    <tr style=\"text-align: right;\">\n",
       "      <th></th>\n",
       "      <th>TC01000001.hg.1</th>\n",
       "      <th>TC01000002.hg.1</th>\n",
       "      <th>TC01000003.hg.1</th>\n",
       "      <th>TC01000004.hg.1</th>\n",
       "      <th>TC01000005.hg.1</th>\n",
       "      <th>TC01000006.hg.1</th>\n",
       "      <th>TC01000007.hg.1</th>\n",
       "      <th>TC01000008.hg.1</th>\n",
       "      <th>TC01000009.hg.1</th>\n",
       "      <th>TC01000010.hg.1</th>\n",
       "      <th>...</th>\n",
       "      <th>TCUn_gl000228000012.hg.1</th>\n",
       "      <th>TCUn_gl000228000013.hg.1</th>\n",
       "      <th>TCUn_gl000228000014.hg.1</th>\n",
       "      <th>TCUn_gl000237000001.hg.1</th>\n",
       "      <th>TCUn_gl000237000002.hg.1</th>\n",
       "      <th>TCUn_gl000241000001.hg.1</th>\n",
       "      <th>TCUn_gl000241000002.hg.1</th>\n",
       "      <th>TCUn_gl000243000001.hg.1</th>\n",
       "      <th>TCUn_gl000243000002.hg.1</th>\n",
       "      <th>TCUn_gl000247000001.hg.1</th>\n",
       "    </tr>\n",
       "  </thead>\n",
       "  <tbody>\n",
       "    <tr>\n",
       "      <th>0</th>\n",
       "      <td>7.429823</td>\n",
       "      <td>4.388578</td>\n",
       "      <td>2.371792</td>\n",
       "      <td>5.275303</td>\n",
       "      <td>9.702489</td>\n",
       "      <td>11.799802</td>\n",
       "      <td>12.070954</td>\n",
       "      <td>6.996882</td>\n",
       "      <td>1.614111</td>\n",
       "      <td>3.492010</td>\n",
       "      <td>...</td>\n",
       "      <td>2.657722</td>\n",
       "      <td>6.307265</td>\n",
       "      <td>4.691915</td>\n",
       "      <td>6.020328</td>\n",
       "      <td>5.831065</td>\n",
       "      <td>5.642116</td>\n",
       "      <td>5.795866</td>\n",
       "      <td>6.400864</td>\n",
       "      <td>6.347468</td>\n",
       "      <td>6.400864</td>\n",
       "    </tr>\n",
       "    <tr>\n",
       "      <th>1</th>\n",
       "      <td>6.185963</td>\n",
       "      <td>4.001252</td>\n",
       "      <td>1.935577</td>\n",
       "      <td>6.272907</td>\n",
       "      <td>10.218112</td>\n",
       "      <td>11.969852</td>\n",
       "      <td>12.667002</td>\n",
       "      <td>8.177514</td>\n",
       "      <td>1.529896</td>\n",
       "      <td>3.043273</td>\n",
       "      <td>...</td>\n",
       "      <td>3.153498</td>\n",
       "      <td>6.036182</td>\n",
       "      <td>4.904974</td>\n",
       "      <td>5.684232</td>\n",
       "      <td>5.599217</td>\n",
       "      <td>5.592368</td>\n",
       "      <td>5.775740</td>\n",
       "      <td>5.094467</td>\n",
       "      <td>6.672159</td>\n",
       "      <td>5.094467</td>\n",
       "    </tr>\n",
       "    <tr>\n",
       "      <th>2</th>\n",
       "      <td>7.825112</td>\n",
       "      <td>4.261002</td>\n",
       "      <td>2.641741</td>\n",
       "      <td>5.066341</td>\n",
       "      <td>9.856455</td>\n",
       "      <td>11.973046</td>\n",
       "      <td>12.180124</td>\n",
       "      <td>7.075101</td>\n",
       "      <td>2.286690</td>\n",
       "      <td>3.299668</td>\n",
       "      <td>...</td>\n",
       "      <td>2.677549</td>\n",
       "      <td>6.229489</td>\n",
       "      <td>4.804676</td>\n",
       "      <td>5.898304</td>\n",
       "      <td>5.818457</td>\n",
       "      <td>5.232601</td>\n",
       "      <td>5.374681</td>\n",
       "      <td>3.737465</td>\n",
       "      <td>6.181059</td>\n",
       "      <td>3.737465</td>\n",
       "    </tr>\n",
       "    <tr>\n",
       "      <th>3</th>\n",
       "      <td>5.970286</td>\n",
       "      <td>4.018165</td>\n",
       "      <td>1.942758</td>\n",
       "      <td>5.142228</td>\n",
       "      <td>10.081747</td>\n",
       "      <td>12.224622</td>\n",
       "      <td>12.343981</td>\n",
       "      <td>8.123771</td>\n",
       "      <td>1.429856</td>\n",
       "      <td>3.175787</td>\n",
       "      <td>...</td>\n",
       "      <td>2.634139</td>\n",
       "      <td>6.276416</td>\n",
       "      <td>5.101769</td>\n",
       "      <td>5.800389</td>\n",
       "      <td>5.764109</td>\n",
       "      <td>5.830511</td>\n",
       "      <td>5.962839</td>\n",
       "      <td>5.765790</td>\n",
       "      <td>6.613098</td>\n",
       "      <td>5.765790</td>\n",
       "    </tr>\n",
       "    <tr>\n",
       "      <th>4</th>\n",
       "      <td>5.057495</td>\n",
       "      <td>4.067344</td>\n",
       "      <td>1.857217</td>\n",
       "      <td>5.073486</td>\n",
       "      <td>9.537027</td>\n",
       "      <td>11.809516</td>\n",
       "      <td>12.237580</td>\n",
       "      <td>7.427976</td>\n",
       "      <td>1.512572</td>\n",
       "      <td>3.546307</td>\n",
       "      <td>...</td>\n",
       "      <td>2.637874</td>\n",
       "      <td>6.438287</td>\n",
       "      <td>5.226228</td>\n",
       "      <td>5.960240</td>\n",
       "      <td>5.819446</td>\n",
       "      <td>5.534489</td>\n",
       "      <td>5.722457</td>\n",
       "      <td>5.056717</td>\n",
       "      <td>6.293271</td>\n",
       "      <td>5.056717</td>\n",
       "    </tr>\n",
       "  </tbody>\n",
       "</table>\n",
       "<p>5 rows × 67528 columns</p>\n",
       "</div>"
      ],
      "text/plain": [
       "   TC01000001.hg.1  TC01000002.hg.1  TC01000003.hg.1  TC01000004.hg.1  \\\n",
       "0         7.429823         4.388578         2.371792         5.275303   \n",
       "1         6.185963         4.001252         1.935577         6.272907   \n",
       "2         7.825112         4.261002         2.641741         5.066341   \n",
       "3         5.970286         4.018165         1.942758         5.142228   \n",
       "4         5.057495         4.067344         1.857217         5.073486   \n",
       "\n",
       "   TC01000005.hg.1  TC01000006.hg.1  TC01000007.hg.1  TC01000008.hg.1  \\\n",
       "0         9.702489        11.799802        12.070954         6.996882   \n",
       "1        10.218112        11.969852        12.667002         8.177514   \n",
       "2         9.856455        11.973046        12.180124         7.075101   \n",
       "3        10.081747        12.224622        12.343981         8.123771   \n",
       "4         9.537027        11.809516        12.237580         7.427976   \n",
       "\n",
       "   TC01000009.hg.1  TC01000010.hg.1  ...  TCUn_gl000228000012.hg.1  \\\n",
       "0         1.614111         3.492010  ...                  2.657722   \n",
       "1         1.529896         3.043273  ...                  3.153498   \n",
       "2         2.286690         3.299668  ...                  2.677549   \n",
       "3         1.429856         3.175787  ...                  2.634139   \n",
       "4         1.512572         3.546307  ...                  2.637874   \n",
       "\n",
       "   TCUn_gl000228000013.hg.1  TCUn_gl000228000014.hg.1  \\\n",
       "0                  6.307265                  4.691915   \n",
       "1                  6.036182                  4.904974   \n",
       "2                  6.229489                  4.804676   \n",
       "3                  6.276416                  5.101769   \n",
       "4                  6.438287                  5.226228   \n",
       "\n",
       "   TCUn_gl000237000001.hg.1  TCUn_gl000237000002.hg.1  \\\n",
       "0                  6.020328                  5.831065   \n",
       "1                  5.684232                  5.599217   \n",
       "2                  5.898304                  5.818457   \n",
       "3                  5.800389                  5.764109   \n",
       "4                  5.960240                  5.819446   \n",
       "\n",
       "   TCUn_gl000241000001.hg.1  TCUn_gl000241000002.hg.1  \\\n",
       "0                  5.642116                  5.795866   \n",
       "1                  5.592368                  5.775740   \n",
       "2                  5.232601                  5.374681   \n",
       "3                  5.830511                  5.962839   \n",
       "4                  5.534489                  5.722457   \n",
       "\n",
       "   TCUn_gl000243000001.hg.1  TCUn_gl000243000002.hg.1  \\\n",
       "0                  6.400864                  6.347468   \n",
       "1                  5.094467                  6.672159   \n",
       "2                  3.737465                  6.181059   \n",
       "3                  5.765790                  6.613098   \n",
       "4                  5.056717                  6.293271   \n",
       "\n",
       "   TCUn_gl000247000001.hg.1  \n",
       "0                  6.400864  \n",
       "1                  5.094467  \n",
       "2                  3.737465  \n",
       "3                  5.765790  \n",
       "4                  5.056717  \n",
       "\n",
       "[5 rows x 67528 columns]"
      ]
     },
     "execution_count": 4,
     "metadata": {},
     "output_type": "execute_result"
    }
   ],
   "source": [
    "expressionData.head()"
   ]
  },
  {
   "cell_type": "code",
   "execution_count": 72,
   "id": "866492e0",
   "metadata": {},
   "outputs": [],
   "source": [
    "cleanedDf = pd.concat([cleanedDf, cleanedDftest])\n",
    "expressionData = pd.concat([expressionData, expressionDatatest])\n",
    "\n",
    "y = cleanedDf[\"Allergy\"].values\n",
    "x = expressionData.values\n",
    "\n",
    "\n",
    "\n",
    "gene_ids = list(expressionData)"
   ]
  },
  {
   "cell_type": "code",
   "execution_count": 73,
   "id": "d413850e",
   "metadata": {},
   "outputs": [
    {
     "data": {
      "text/plain": [
       "array([[0.73766208, 0.67148974, 0.49143733, ..., 0.7908943 , 0.55223718,\n",
       "        0.7908943 ],\n",
       "       [0.3768597 , 0.28968056, 0.27385256, ..., 0.53944885, 0.651359  ,\n",
       "        0.53944885],\n",
       "       [0.85232215, 0.54573007, 0.62608797, ..., 0.2782633 , 0.50143546,\n",
       "        0.2782633 ],\n",
       "       ...,\n",
       "       [0.38105013, 0.29901979, 0.34647618, ..., 0.66857639, 0.60136922,\n",
       "        0.66857639],\n",
       "       [0.25711933, 0.40446336, 0.2935759 , ..., 0.73138309, 0.48044023,\n",
       "        0.73138309],\n",
       "       [0.30077595, 0.29200815, 0.52374153, ..., 0.59330679, 0.56218846,\n",
       "        0.59330679]])"
      ]
     },
     "execution_count": 73,
     "metadata": {},
     "output_type": "execute_result"
    }
   ],
   "source": [
    "scaler = MinMaxScaler()\n",
    "scaler.fit(x)\n",
    "x = scaler.transform(x)\n",
    "x"
   ]
  },
  {
   "cell_type": "code",
   "execution_count": 5,
   "id": "644de8b6",
   "metadata": {},
   "outputs": [],
   "source": [
    "scaler = MinMaxScaler()\n",
    "scaler.fit(x2)\n",
    "x2 = scaler.transform(x2)"
   ]
  },
  {
   "cell_type": "code",
   "execution_count": 74,
   "id": "13195ca3",
   "metadata": {},
   "outputs": [
    {
     "data": {
      "text/plain": [
       "(457, 125)"
      ]
     },
     "execution_count": 74,
     "metadata": {},
     "output_type": "execute_result"
    }
   ],
   "source": [
    "#KBest\n",
    "selector = SelectKBest(f_classif, k=125)\n",
    "x_new = selector.fit_transform(x, y)\n",
    "\n",
    "x_new.shape"
   ]
  },
  {
   "cell_type": "code",
   "execution_count": 7,
   "id": "7b235e6f",
   "metadata": {},
   "outputs": [],
   "source": [
    "#chi squared\n",
    "selector = SelectKBest(chi2, k=325)\n",
    "x_new = selector.fit_transform(x, y)\n",
    "index_list = selector.get_support(indices=True)\n",
    "index_list\n",
    "gene_ids = list(expressionData)\n",
    "gene_names = [gene_ids[i] for i in index_list]\n",
    "\n"
   ]
  },
  {
   "cell_type": "code",
   "execution_count": 23,
   "id": "5fc36293",
   "metadata": {},
   "outputs": [
    {
     "data": {
      "text/plain": [
       "['TC01000406.hg.1',\n",
       " 'TC01000481.hg.1',\n",
       " 'TC01000501.hg.1',\n",
       " 'TC01000745.hg.1',\n",
       " 'TC01000751.hg.1',\n",
       " 'TC01001409.hg.1',\n",
       " 'TC01001525.hg.1',\n",
       " 'TC01001622.hg.1',\n",
       " 'TC01001740.hg.1',\n",
       " 'TC01001965.hg.1',\n",
       " 'TC01002040.hg.1',\n",
       " 'TC01002297.hg.1',\n",
       " 'TC01002911.hg.1',\n",
       " 'TC01002986.hg.1',\n",
       " 'TC01003475.hg.1',\n",
       " 'TC01004085.hg.1',\n",
       " 'TC01004432.hg.1',\n",
       " 'TC01004544.hg.1',\n",
       " 'TC01004601.hg.1',\n",
       " 'TC01004661.hg.1',\n",
       " 'TC01004669.hg.1',\n",
       " 'TC01004815.hg.1',\n",
       " 'TC01004991.hg.1',\n",
       " 'TC01005105.hg.1',\n",
       " 'TC01005117.hg.1',\n",
       " 'TC01005304.hg.1',\n",
       " 'TC01005553.hg.1',\n",
       " 'TC01006026.hg.1',\n",
       " 'TC01006039.hg.1',\n",
       " 'TC01006269.hg.1',\n",
       " 'TC02000245.hg.1',\n",
       " 'TC02000466.hg.1',\n",
       " 'TC02000495.hg.1',\n",
       " 'TC02001131.hg.1',\n",
       " 'TC02001746.hg.1',\n",
       " 'TC02001945.hg.1',\n",
       " 'TC02002038.hg.1',\n",
       " 'TC02002280.hg.1',\n",
       " 'TC02002631.hg.1',\n",
       " 'TC02002702.hg.1',\n",
       " 'TC02003086.hg.1',\n",
       " 'TC02004026.hg.1',\n",
       " 'TC02004251.hg.1',\n",
       " 'TC02004272.hg.1',\n",
       " 'TC02004669.hg.1',\n",
       " 'TC02004678.hg.1',\n",
       " 'TC02004994.hg.1',\n",
       " 'TC02005061.hg.1',\n",
       " 'TC02005062.hg.1',\n",
       " 'TC03000431.hg.1',\n",
       " 'TC03000913.hg.1',\n",
       " 'TC03001068.hg.1',\n",
       " 'TC03001071.hg.1',\n",
       " 'TC03001190.hg.1',\n",
       " 'TC03001780.hg.1',\n",
       " 'TC03001852.hg.1',\n",
       " 'TC03002054.hg.1',\n",
       " 'TC03002365.hg.1',\n",
       " 'TC03002917.hg.1',\n",
       " 'TC03003089.hg.1',\n",
       " 'TC04000177.hg.1',\n",
       " 'TC04000306.hg.1',\n",
       " 'TC04000319.hg.1',\n",
       " 'TC04000373.hg.1',\n",
       " 'TC04000485.hg.1',\n",
       " 'TC04000577.hg.1',\n",
       " 'TC04000585.hg.1',\n",
       " 'TC04000712.hg.1',\n",
       " 'TC04000880.hg.1',\n",
       " 'TC04000996.hg.1',\n",
       " 'TC04001071.hg.1',\n",
       " 'TC04001205.hg.1',\n",
       " 'TC04001507.hg.1',\n",
       " 'TC04001961.hg.1',\n",
       " 'TC04002054.hg.1',\n",
       " 'TC04002058.hg.1',\n",
       " 'TC04002168.hg.1',\n",
       " 'TC04002463.hg.1',\n",
       " 'TC04002554.hg.1',\n",
       " 'TC04002664.hg.1',\n",
       " 'TC04002919.hg.1',\n",
       " 'TC05000488.hg.1',\n",
       " 'TC05000603.hg.1',\n",
       " 'TC05001020.hg.1',\n",
       " 'TC05001194.hg.1',\n",
       " 'TC05001299.hg.1',\n",
       " 'TC05001378.hg.1',\n",
       " 'TC05001399.hg.1',\n",
       " 'TC05001611.hg.1',\n",
       " 'TC05001630.hg.1',\n",
       " 'TC05001661.hg.1',\n",
       " 'TC05002100.hg.1',\n",
       " 'TC05002298.hg.1',\n",
       " 'TC05002353.hg.1',\n",
       " 'TC05002623.hg.1',\n",
       " 'TC05002826.hg.1',\n",
       " 'TC05002881.hg.1',\n",
       " 'TC05003095.hg.1',\n",
       " 'TC05003133.hg.1',\n",
       " 'TC05003205.hg.1',\n",
       " 'TC05003356.hg.1',\n",
       " 'TC06000407.hg.1',\n",
       " 'TC06000476.hg.1',\n",
       " 'TC06000555.hg.1',\n",
       " 'TC06000622.hg.1',\n",
       " 'TC06001155.hg.1',\n",
       " 'TC06001304.hg.1',\n",
       " 'TC06001352.hg.1',\n",
       " 'TC06001605.hg.1',\n",
       " 'TC06001609.hg.1',\n",
       " 'TC06001863.hg.1',\n",
       " 'TC06002107.hg.1',\n",
       " 'TC06002618.hg.1',\n",
       " 'TC06002630.hg.1',\n",
       " 'TC06002663.hg.1',\n",
       " 'TC06003135.hg.1',\n",
       " 'TC06003488.hg.1',\n",
       " 'TC07000165.hg.1',\n",
       " 'TC07000240.hg.1',\n",
       " 'TC07000352.hg.1',\n",
       " 'TC07000861.hg.1',\n",
       " 'TC07001136.hg.1',\n",
       " 'TC07001771.hg.1',\n",
       " 'TC07001970.hg.1',\n",
       " 'TC07002209.hg.1',\n",
       " 'TC07002305.hg.1',\n",
       " 'TC07002363.hg.1',\n",
       " 'TC07002453.hg.1',\n",
       " 'TC07002458.hg.1',\n",
       " 'TC07003000.hg.1',\n",
       " 'TC07003047.hg.1',\n",
       " 'TC07003055.hg.1',\n",
       " 'TC07003107.hg.1',\n",
       " 'TC07003293.hg.1',\n",
       " 'TC08000274.hg.1',\n",
       " 'TC08001048.hg.1',\n",
       " 'TC08001438.hg.1',\n",
       " 'TC08001781.hg.1',\n",
       " 'TC08001921.hg.1',\n",
       " 'TC08001950.hg.1',\n",
       " 'TC08002057.hg.1',\n",
       " 'TC08002421.hg.1',\n",
       " 'TC08002431.hg.1',\n",
       " 'TC09000426.hg.1',\n",
       " 'TC09000606.hg.1',\n",
       " 'TC09000609.hg.1',\n",
       " 'TC09000634.hg.1',\n",
       " 'TC09000635.hg.1',\n",
       " 'TC09000910.hg.1',\n",
       " 'TC09001322.hg.1',\n",
       " 'TC09001437.hg.1',\n",
       " 'TC09001479.hg.1',\n",
       " 'TC09001573.hg.1',\n",
       " 'TC09001698.hg.1',\n",
       " 'TC09002234.hg.1',\n",
       " 'TC09002248.hg.1',\n",
       " 'TC09002491.hg.1',\n",
       " 'TC0X000297.hg.1',\n",
       " 'TC0X000449.hg.1',\n",
       " 'TC0X000611.hg.1',\n",
       " 'TC0X001049.hg.1',\n",
       " 'TC0X001155.hg.1',\n",
       " 'TC0X001185.hg.1',\n",
       " 'TC0X001763.hg.1',\n",
       " 'TC0X001764.hg.1',\n",
       " 'TC0X001779.hg.1',\n",
       " 'TC0X001784.hg.1',\n",
       " 'TC0X001843.hg.1',\n",
       " 'TC0X001910.hg.1',\n",
       " 'TC0X001927.hg.1',\n",
       " 'TC0X002108.hg.1',\n",
       " 'TC0X002125.hg.1',\n",
       " 'TC0Y000017.hg.1',\n",
       " 'TC0Y000018.hg.1',\n",
       " 'TC0Y000030.hg.1',\n",
       " 'TC0Y000051.hg.1',\n",
       " 'TC0Y000052.hg.1',\n",
       " 'TC0Y000053.hg.1',\n",
       " 'TC0Y000055.hg.1',\n",
       " 'TC0Y000072.hg.1',\n",
       " 'TC0Y000073.hg.1',\n",
       " 'TC0Y000100.hg.1',\n",
       " 'TC0Y000163.hg.1',\n",
       " 'TC0Y000185.hg.1',\n",
       " 'TC0Y000231.hg.1',\n",
       " 'TC0Y000232.hg.1',\n",
       " 'TC0Y000239.hg.1',\n",
       " 'TC0Y000258.hg.1',\n",
       " 'TC0Y000268.hg.1',\n",
       " 'TC0Y000284.hg.1',\n",
       " 'TC0Y000317.hg.1',\n",
       " 'TC0Y000326.hg.1',\n",
       " 'TC0Y000351.hg.1',\n",
       " 'TC0Y000353.hg.1',\n",
       " 'TC0Y000354.hg.1',\n",
       " 'TC10000501.hg.1',\n",
       " 'TC10000510.hg.1',\n",
       " 'TC10000524.hg.1',\n",
       " 'TC10000746.hg.1',\n",
       " 'TC10001052.hg.1',\n",
       " 'TC10001593.hg.1',\n",
       " 'TC10002067.hg.1',\n",
       " 'TC10002321.hg.1',\n",
       " 'TC10002672.hg.1',\n",
       " 'TC11000127.hg.1',\n",
       " 'TC11000571.hg.1',\n",
       " 'TC11001161.hg.1',\n",
       " 'TC11001317.hg.1',\n",
       " 'TC11001333.hg.1',\n",
       " 'TC11001600.hg.1',\n",
       " 'TC11001614.hg.1',\n",
       " 'TC11001684.hg.1',\n",
       " 'TC11001896.hg.1',\n",
       " 'TC11002464.hg.1',\n",
       " 'TC11002717.hg.1',\n",
       " 'TC11003304.hg.1',\n",
       " 'TC11003362.hg.1',\n",
       " 'TC12000763.hg.1',\n",
       " 'TC12001015.hg.1',\n",
       " 'TC12001193.hg.1',\n",
       " 'TC12001336.hg.1',\n",
       " 'TC12001818.hg.1',\n",
       " 'TC12001941.hg.1',\n",
       " 'TC12001945.hg.1',\n",
       " 'TC12001983.hg.1',\n",
       " 'TC12002507.hg.1',\n",
       " 'TC12002622.hg.1',\n",
       " 'TC12002794.hg.1',\n",
       " 'TC12002965.hg.1',\n",
       " 'TC12003159.hg.1',\n",
       " 'TC13000160.hg.1',\n",
       " 'TC13000345.hg.1',\n",
       " 'TC13000455.hg.1',\n",
       " 'TC13000475.hg.1',\n",
       " 'TC13000544.hg.1',\n",
       " 'TC13000722.hg.1',\n",
       " 'TC13000816.hg.1',\n",
       " 'TC13000833.hg.1',\n",
       " 'TC13000912.hg.1',\n",
       " 'TC13001191.hg.1',\n",
       " 'TC13001209.hg.1',\n",
       " 'TC13001228.hg.1',\n",
       " 'TC13001256.hg.1',\n",
       " 'TC13001269.hg.1',\n",
       " 'TC13001566.hg.1',\n",
       " 'TC14000050.hg.1',\n",
       " 'TC14000950.hg.1',\n",
       " 'TC14001043.hg.1',\n",
       " 'TC14001321.hg.1',\n",
       " 'TC14001383.hg.1',\n",
       " 'TC15000490.hg.1',\n",
       " 'TC15000569.hg.1',\n",
       " 'TC15000695.hg.1',\n",
       " 'TC15000737.hg.1',\n",
       " 'TC15000739.hg.1',\n",
       " 'TC15001463.hg.1',\n",
       " 'TC15001584.hg.1',\n",
       " 'TC15001790.hg.1',\n",
       " 'TC15001840.hg.1',\n",
       " 'TC15002002.hg.1',\n",
       " 'TC15002188.hg.1',\n",
       " 'TC15002308.hg.1',\n",
       " 'TC15002439.hg.1',\n",
       " 'TC15002649.hg.1',\n",
       " 'TC16000123.hg.1',\n",
       " 'TC16000148.hg.1',\n",
       " 'TC16000512.hg.1',\n",
       " 'TC16001059.hg.1',\n",
       " 'TC16001409.hg.1',\n",
       " 'TC16001441.hg.1',\n",
       " 'TC16001591.hg.1',\n",
       " 'TC16001927.hg.1',\n",
       " 'TC17000415.hg.1',\n",
       " 'TC17000422.hg.1',\n",
       " 'TC17000429.hg.1',\n",
       " 'TC17000435.hg.1',\n",
       " 'TC17000458.hg.1',\n",
       " 'TC17000639.hg.1',\n",
       " 'TC17000730.hg.1',\n",
       " 'TC17000735.hg.1',\n",
       " 'TC17000753.hg.1',\n",
       " 'TC17000869.hg.1',\n",
       " 'TC17001027.hg.1',\n",
       " 'TC17001045.hg.1',\n",
       " 'TC17001123.hg.1',\n",
       " 'TC17001413.hg.1',\n",
       " 'TC17002025.hg.1',\n",
       " 'TC17002552.hg.1',\n",
       " 'TC17002808.hg.1',\n",
       " 'TC19000120.hg.1',\n",
       " 'TC19000275.hg.1',\n",
       " 'TC19000605.hg.1',\n",
       " 'TC19001338.hg.1',\n",
       " 'TC19001371.hg.1',\n",
       " 'TC19001404.hg.1',\n",
       " 'TC19001464.hg.1',\n",
       " 'TC19001585.hg.1',\n",
       " 'TC19002073.hg.1',\n",
       " 'TC19002252.hg.1',\n",
       " 'TC20000184.hg.1',\n",
       " 'TC20000266.hg.1',\n",
       " 'TC20000309.hg.1',\n",
       " 'TC20000771.hg.1',\n",
       " 'TC20001088.hg.1',\n",
       " 'TC20001121.hg.1',\n",
       " 'TC20001171.hg.1',\n",
       " 'TC20001512.hg.1',\n",
       " 'TC20001670.hg.1',\n",
       " 'TC21000056.hg.1',\n",
       " 'TC21000125.hg.1',\n",
       " 'TC21000446.hg.1',\n",
       " 'TC21000656.hg.1',\n",
       " 'TC21000682.hg.1',\n",
       " 'TC21001053.hg.1',\n",
       " 'TC22000247.hg.1',\n",
       " 'TC22000644.hg.1',\n",
       " 'TC22001139.hg.1',\n",
       " 'TC22001335.hg.1',\n",
       " 'TC6_cox_hap2000098.hg.1',\n",
       " 'TC6_dbb_hap3000134.hg.1',\n",
       " 'TC6_mann_hap4000082.hg.1',\n",
       " 'TC6_mcf_hap5000083.hg.1',\n",
       " 'TC6_qbl_hap6000089.hg.1',\n",
       " 'TC6_qbl_hap6000135.hg.1',\n",
       " 'TC6_ssto_hap7000084.hg.1']"
      ]
     },
     "execution_count": 23,
     "metadata": {},
     "output_type": "execute_result"
    }
   ],
   "source": [
    "#chi squared\n",
    "selector = SelectKBest(chi2, k=325)\n",
    "x2_new = selector.fit_transform(x2, y2)\n",
    "index_list2 = selector.get_support(indices=True)\n",
    "index_list2\n",
    "gene_ids2 = list(expressionDatatest)\n",
    "gene_names2 = [gene_ids2[i] for i in index_list2]\n",
    "gene_names2\n"
   ]
  },
  {
   "cell_type": "code",
   "execution_count": 512,
   "id": "1ed168ad",
   "metadata": {},
   "outputs": [
    {
     "data": {
      "text/plain": [
       "(256, 380)"
      ]
     },
     "execution_count": 512,
     "metadata": {},
     "output_type": "execute_result"
    }
   ],
   "source": [
    "#Variance\n",
    "selector = VarianceThreshold(0.4551)\n",
    "x_new = selector.fit_transform(x)\n",
    "\n",
    "x_new.shape"
   ]
  },
  {
   "cell_type": "code",
   "execution_count": 681,
   "id": "f8eab301",
   "metadata": {},
   "outputs": [
    {
     "data": {
      "text/plain": [
       "(256, 50000)"
      ]
     },
     "execution_count": 681,
     "metadata": {},
     "output_type": "execute_result"
    }
   ],
   "source": [
    "#Std\n",
    "stds = []\n",
    "for f in range(67528):\n",
    "    column = x[:,f]\n",
    "    #print(column.std(), f)\n",
    "    stds.append((column.std(),f))\n",
    "stds.sort(reverse=True)\n",
    "stds = [t[1] for t in stds]\n",
    "x_new = x[:,stds]\n",
    "x_new = x_new[:,:50000]\n",
    "\n",
    "x_new.shape"
   ]
  },
  {
   "cell_type": "code",
   "execution_count": 132,
   "id": "c4c732dd",
   "metadata": {},
   "outputs": [
    {
     "data": {
      "text/plain": [
       "array([[ 0.90847199,  1.41805667,  0.74931575, ...,  1.07925569,\n",
       "         0.05709288,  1.07925569],\n",
       "       [-0.92867153, -1.08307239, -0.80710111, ..., -0.6367761 ,\n",
       "         0.9184368 , -0.6367761 ],\n",
       "       [ 1.49230127,  0.59423895,  1.71249219, ..., -2.41928087,\n",
       "        -0.38436145, -2.41928087],\n",
       "       ...,\n",
       "       [-0.64109929,  0.15940028, -0.73632796, ..., -0.99889856,\n",
       "         0.67299551, -0.99889856],\n",
       "       [-0.09341263, -1.06179502, -1.07113066, ...,  0.16768574,\n",
       "         0.03616156,  0.16768574],\n",
       "       [ 0.00924621,  0.16628082, -0.8579271 , ...,  0.97278055,\n",
       "        -0.44480247,  0.97278055]])"
      ]
     },
     "execution_count": 132,
     "metadata": {},
     "output_type": "execute_result"
    }
   ],
   "source": [
    "scaler = StandardScaler()\n",
    "scaler.fit(x)\n",
    "x = scaler.transform(x)\n",
    "x"
   ]
  },
  {
   "cell_type": "code",
   "execution_count": 9,
   "id": "669eebc7",
   "metadata": {},
   "outputs": [],
   "source": [
    "x_train, x_test, y_train, y_test = sklearn.model_selection.train_test_split(x_new, y, test_size=0.3, random_state=0)"
   ]
  },
  {
   "cell_type": "code",
   "execution_count": 10,
   "id": "55663793",
   "metadata": {},
   "outputs": [
    {
     "data": {
      "image/png": "[encoded data removed]",
      "text/plain": [
       "<Figure size 640x480 with 1 Axes>"
      ]
     },
     "metadata": {},
     "output_type": "display_data"
    }
   ],
   "source": [
    "#plot training and testing data\n",
    "sns.barplot(x=[\"x_train\", \"x_test\", \"y_train\", \"y_test\"], \n",
    "            y=[len(x_train), len(x_test), len(y_train), len(y_test)],\n",
    "           color=\"lightblue\")\n",
    "plt.ylabel(\"count\")\n",
    "plt.show()"
   ]
  },
  {
   "cell_type": "code",
   "execution_count": 48,
   "id": "ed90b902",
   "metadata": {},
   "outputs": [
    {
     "data": {
      "text/plain": [
       "(201, 125)"
      ]
     },
     "execution_count": 48,
     "metadata": {},
     "output_type": "execute_result"
    }
   ],
   "source": [
    "x_new.shape"
   ]
  },
  {
   "cell_type": "code",
   "execution_count": 75,
   "id": "6e88f199",
   "metadata": {},
   "outputs": [
    {
     "data": {
      "text/plain": [
       "array([1., 0., 1., 0., 0., 1., 1., 1., 1., 1., 0., 1., 0., 0., 1., 0., 1.,\n",
       "       1., 1., 1., 1., 1., 1., 1., 0., 1., 1., 1., 0., 1., 1., 1., 0., 1.,\n",
       "       1., 0., 1., 1., 1., 1., 1., 1., 0., 1., 0., 0., 0., 1., 1., 0., 0.,\n",
       "       0., 1., 1., 1., 1., 1., 0., 0., 1., 1., 1., 0., 0., 0., 1., 1., 1.,\n",
       "       1., 1., 0., 1., 0., 1., 1., 1., 0., 1., 0., 1., 1., 0., 0., 1., 1.,\n",
       "       0., 0., 1., 0., 1., 1., 1., 0., 1., 1., 0., 0., 1., 1., 1., 0., 1.,\n",
       "       1., 0., 1., 0., 1., 1., 1., 1., 1., 1., 1., 1., 1., 1., 1., 1., 0.,\n",
       "       0., 1., 1., 0., 1., 0., 1., 1., 1., 0., 1., 1., 0., 0., 1., 0., 1.,\n",
       "       0., 0., 1., 1., 0., 0., 1., 1., 1., 0., 0., 1., 1., 0., 1., 0., 1.,\n",
       "       1., 1., 1., 1., 0., 1., 1., 0., 0., 1., 1., 1., 0., 1., 1., 0., 1.,\n",
       "       0., 0., 0., 1., 1., 1., 1., 1., 1., 0., 0., 1., 0., 1., 1., 1., 1.,\n",
       "       1., 1., 1., 0., 1., 0., 1., 1., 0., 1., 1., 1., 1., 0., 0., 1., 1.,\n",
       "       0., 1., 1., 1., 0., 0., 1., 0., 1., 1., 1., 1., 1., 1., 0., 0., 1.,\n",
       "       0., 0., 0., 0., 0., 0., 0., 1., 1., 1., 0., 1., 0., 0., 0., 1., 0.,\n",
       "       1., 1., 1., 0., 1., 1., 0., 1., 1., 0., 0., 1., 1., 1., 1., 1., 1.,\n",
       "       1., 0., 1., 0., 0., 1., 1., 0., 0., 1., 0., 0., 1., 1., 1., 1., 0.,\n",
       "       1., 1., 1., 0., 1., 0., 0., 0., 1., 0., 1., 0., 1., 1., 1., 1., 0.,\n",
       "       1., 1., 1., 0., 1., 1., 0., 1., 1., 1., 1., 0., 0., 0., 0., 1., 1.,\n",
       "       1., 1., 0., 0., 1., 1., 1., 0., 0., 0., 0., 1., 1., 1., 1., 1., 1.,\n",
       "       1., 1., 1., 0., 0., 1., 0., 0., 1., 0., 1., 0., 1., 1., 1., 1., 1.,\n",
       "       1., 1., 0., 1., 1., 1., 1., 0., 0., 1., 0., 0., 1., 1., 1., 0., 0.,\n",
       "       0., 0., 1., 0., 1., 1., 1., 0., 0., 1., 0., 1., 0., 0., 1., 1., 1.,\n",
       "       1., 1., 0., 0., 1., 1., 0., 1., 1., 1., 1., 1., 0., 0., 0., 1., 1.,\n",
       "       1., 1., 1., 0., 1., 0., 0., 1., 1., 1., 0., 0., 0., 0., 1., 1., 1.,\n",
       "       1., 1., 1., 1., 1., 0., 0., 1., 1., 0., 0., 1., 0., 0., 1., 0., 1.,\n",
       "       0., 1., 1., 0., 1., 0., 0., 1., 0., 1., 1., 1., 0., 0., 0., 1., 0.,\n",
       "       1., 1., 1., 1., 1., 0., 0., 0., 0., 1., 1., 0., 1., 1., 1.])"
      ]
     },
     "execution_count": 75,
     "metadata": {},
     "output_type": "execute_result"
    }
   ],
   "source": [
    "#leave one out cross validation\n",
    "\n",
    "cv = KFold(n_splits=457, random_state=1, shuffle=True)\n",
    "# keep the same logistic regression model \n",
    "logit = RandomForestClassifier(max_depth=5, max_features= 'auto', min_samples_leaf= 2, min_samples_split=5, n_estimators=300)\n",
    "Y = y\n",
    "X = x_new\n",
    "# run the model over the entire set of data, for the splits we defined above\n",
    "scores = cross_val_score(logit, X, Y, scoring='accuracy', cv=cv, n_jobs=-1)\n",
    "scores\n",
    "    \n",
    "\n"
   ]
  },
  {
   "cell_type": "code",
   "execution_count": 76,
   "id": "bf3d4ebc",
   "metadata": {
    "scrolled": true
   },
   "outputs": [
    {
     "name": "stdout",
     "output_type": "stream",
     "text": [
      "0.6192560175054704\n"
     ]
    }
   ],
   "source": [
    "print(scores.mean())"
   ]
  },
  {
   "cell_type": "code",
   "execution_count": 34,
   "id": "68d6ca3b",
   "metadata": {},
   "outputs": [
    {
     "data": {
      "text/plain": [
       "array([1., 1., 1., 1., 1., 1., 1., 1., 1., 1., 1., 1., 1., 1., 1., 1., 1.,\n",
       "       1., 1., 1., 1., 1., 1., 1., 1., 1., 1., 1., 1., 1., 1., 0., 1., 1.,\n",
       "       1., 1., 1., 1., 1., 1., 1., 1., 1., 1., 1., 1., 1., 1., 1., 1., 1.,\n",
       "       1., 1., 1., 1., 1., 1., 1., 1., 1., 1., 1., 1., 0., 1., 1., 1., 1.,\n",
       "       1., 1., 1., 1., 1., 1., 1., 1., 1., 1., 1., 1., 1., 1., 1., 1., 1.,\n",
       "       1., 1., 1., 1., 1., 1., 1., 1., 0., 1., 1., 1., 1., 1., 1., 1., 1.,\n",
       "       1., 1., 1., 1., 1., 1., 1., 1., 1., 1., 1., 1., 1., 1., 1., 0., 1.,\n",
       "       1., 1., 1., 1., 1., 1., 1., 1., 1., 1., 1., 1., 1., 1., 0., 1., 1.,\n",
       "       1., 1., 1., 1., 1., 1., 1., 1., 1., 1., 1., 1., 1., 1., 1., 1., 1.,\n",
       "       1., 1., 1., 1., 1., 1., 1., 1., 1., 1., 1., 1., 1., 1., 1., 1., 1.,\n",
       "       1., 1., 1., 1., 1., 1., 1., 1., 1., 1., 1., 1., 1., 1., 1., 1., 1.,\n",
       "       1., 1., 1., 1., 1., 1., 1., 1., 1., 1., 1., 1., 1.])"
      ]
     },
     "execution_count": 34,
     "metadata": {},
     "output_type": "execute_result"
    }
   ],
   "source": [
    "cv = KFold(n_splits=200, random_state=1, shuffle=True)\n",
    "# keep the same logistic regression model \n",
    "#logit = LogisticRegression(max_iter=1000) \n",
    "\n",
    "Y = y2\n",
    "X = x2_new\n",
    "# run the model over the entire set of data, for the splits we defined above\n",
    "scores = cross_val_score(logit, X, Y, scoring='accuracy', cv=cv, n_jobs=-1)\n",
    "scores"
   ]
  },
  {
   "cell_type": "code",
   "execution_count": 35,
   "id": "d77c52cf",
   "metadata": {},
   "outputs": [
    {
     "name": "stdout",
     "output_type": "stream",
     "text": [
      "0.975\n"
     ]
    }
   ],
   "source": [
    "print(scores.mean())"
   ]
  },
  {
   "cell_type": "code",
   "execution_count": 10,
   "id": "2baa2903",
   "metadata": {},
   "outputs": [
    {
     "ename": "NameError",
     "evalue": "name 'x_train' is not defined",
     "output_type": "error",
     "traceback": [
      "\u001b[0;31m---------------------------------------------------------------------------\u001b[0m",
      "\u001b[0;31mNameError\u001b[0m                                 Traceback (most recent call last)",
      "\u001b[0;32m/var/folders/61/88tkykvs6hdghs1n4xcxmfjm0000gn/T/ipykernel_15952/1710797709.py\u001b[0m in \u001b[0;36m<module>\u001b[0;34m\u001b[0m\n\u001b[0;32m----> 1\u001b[0;31m \u001b[0mx_train\u001b[0m\u001b[0;34m\u001b[0m\u001b[0;34m\u001b[0m\u001b[0m\n\u001b[0m",
      "\u001b[0;31mNameError\u001b[0m: name 'x_train' is not defined"
     ]
    }
   ],
   "source": [
    "x_train"
   ]
  },
  {
   "cell_type": "code",
   "execution_count": 11,
   "id": "14c5bc7d",
   "metadata": {},
   "outputs": [
    {
     "data": {
      "text/plain": [
       "LogisticRegression(max_iter=1000)"
      ]
     },
     "execution_count": 11,
     "metadata": {},
     "output_type": "execute_result"
    }
   ],
   "source": [
    "lr.fit(x_new,y)\n",
    "\n"
   ]
  },
  {
   "cell_type": "code",
   "execution_count": 12,
   "id": "3028c6f7",
   "metadata": {},
   "outputs": [
    {
     "ename": "NameError",
     "evalue": "name 'x_train' is not defined",
     "output_type": "error",
     "traceback": [
      "\u001b[0;31m---------------------------------------------------------------------------\u001b[0m",
      "\u001b[0;31mNameError\u001b[0m                                 Traceback (most recent call last)",
      "\u001b[0;32m/var/folders/61/88tkykvs6hdghs1n4xcxmfjm0000gn/T/ipykernel_15952/2512218947.py\u001b[0m in \u001b[0;36m<module>\u001b[0;34m\u001b[0m\n\u001b[0;32m----> 1\u001b[0;31m \u001b[0mx_train\u001b[0m\u001b[0;34m.\u001b[0m\u001b[0mshape\u001b[0m\u001b[0;34m\u001b[0m\u001b[0;34m\u001b[0m\u001b[0m\n\u001b[0m",
      "\u001b[0;31mNameError\u001b[0m: name 'x_train' is not defined"
     ]
    }
   ],
   "source": [
    "x_train.shape"
   ]
  },
  {
   "cell_type": "code",
   "execution_count": 13,
   "id": "8bd9cd17",
   "metadata": {},
   "outputs": [
    {
     "ename": "NameError",
     "evalue": "name 'y_train' is not defined",
     "output_type": "error",
     "traceback": [
      "\u001b[0;31m---------------------------------------------------------------------------\u001b[0m",
      "\u001b[0;31mNameError\u001b[0m                                 Traceback (most recent call last)",
      "\u001b[0;32m/var/folders/61/88tkykvs6hdghs1n4xcxmfjm0000gn/T/ipykernel_15952/3798806461.py\u001b[0m in \u001b[0;36m<module>\u001b[0;34m\u001b[0m\n\u001b[0;32m----> 1\u001b[0;31m \u001b[0my_train\u001b[0m\u001b[0;34m.\u001b[0m\u001b[0mshape\u001b[0m\u001b[0;34m\u001b[0m\u001b[0;34m\u001b[0m\u001b[0m\n\u001b[0m",
      "\u001b[0;31mNameError\u001b[0m: name 'y_train' is not defined"
     ]
    }
   ],
   "source": [
    "y_train.shape"
   ]
  },
  {
   "cell_type": "code",
   "execution_count": 14,
   "id": "2a84755e",
   "metadata": {},
   "outputs": [
    {
     "data": {
      "text/plain": [
       "array([1, 1, 1, 1, 1, 1, 1, 1, 1, 1, 1, 1, 1, 1, 1, 1, 0, 1, 0, 0, 0, 1,\n",
       "       1, 1, 1, 0, 1, 1, 1, 1, 1, 1, 0, 1, 0, 1, 1, 1, 1, 1, 1, 1, 1, 1,\n",
       "       1, 1, 0, 1, 1, 0, 1, 1, 1, 1, 1, 1, 1, 1, 1, 0, 1, 1, 1, 1, 1, 1,\n",
       "       0, 1, 1, 1, 1, 1, 1, 1, 1, 1, 0, 0, 1, 1, 1, 1, 1, 0, 1, 1, 0, 1,\n",
       "       1, 1, 1, 1, 1, 0, 1, 1, 0, 0, 1, 0, 1, 1, 1, 1, 0, 1, 1, 1, 1, 1,\n",
       "       1, 1, 1, 1, 1, 0, 0, 1, 0, 0, 1, 1, 1, 1, 1, 1, 1, 1, 1, 1, 1, 1,\n",
       "       1, 1, 1, 1, 1, 1, 1, 1, 1, 1, 1, 1, 1, 0, 1, 1, 1, 1, 1, 1, 1, 1,\n",
       "       1, 1, 1, 1, 1, 1, 1, 1, 1, 1, 1, 0, 0, 1, 1, 1, 1, 1, 1, 1, 1, 0,\n",
       "       1, 1, 1, 1, 1, 1, 1, 1, 0, 1, 1, 1, 1, 1, 1, 1, 0, 1, 1, 1, 1, 1,\n",
       "       1, 1, 1])"
      ]
     },
     "execution_count": 14,
     "metadata": {},
     "output_type": "execute_result"
    }
   ],
   "source": [
    "#Test Spanish on Swedish\n",
    "y_pred = lr.predict(x2_new)\n",
    "y_pred"
   ]
  },
  {
   "cell_type": "code",
   "execution_count": 16,
   "id": "f055dce7",
   "metadata": {},
   "outputs": [
    {
     "data": {
      "image/png": "[encoded data removed]",
      "text/plain": [
       "<Figure size 432x288 with 2 Axes>"
      ]
     },
     "metadata": {
      "needs_background": "light"
     },
     "output_type": "display_data"
    }
   ],
   "source": [
    "cnf_matrix = metrics.confusion_matrix(y2, y_pred) \n",
    "sns.heatmap(pd.DataFrame(cnf_matrix), annot=True, cmap=\"YlGnBu\")\n",
    "plt.xlabel(\"model prediction\")\n",
    "plt.ylabel(\"truth\")\n",
    "plt.show() "
   ]
  },
  {
   "cell_type": "code",
   "execution_count": 18,
   "id": "778a11c3",
   "metadata": {},
   "outputs": [
    {
     "name": "stdout",
     "output_type": "stream",
     "text": [
      "              precision    recall  f1-score   support\n",
      "\n",
      "           0       0.25      0.90      0.39        30\n",
      "           1       0.97      0.52      0.68       171\n",
      "\n",
      "    accuracy                           0.58       201\n",
      "   macro avg       0.61      0.71      0.53       201\n",
      "weighted avg       0.86      0.58      0.63       201\n",
      "\n"
     ]
    }
   ],
   "source": [
    "print(classification_report(y_pred, y2))"
   ]
  },
  {
   "cell_type": "code",
   "execution_count": 20,
   "id": "c356b2c9",
   "metadata": {},
   "outputs": [
    {
     "data": {
      "image/png": "[encoded data removed]",
      "text/plain": [
       "<Figure size 432x288 with 1 Axes>"
      ]
     },
     "metadata": {
      "needs_background": "light"
     },
     "output_type": "display_data"
    }
   ],
   "source": [
    "fpr, tpr, _ = roc_curve(y2,  y_pred)\n",
    "\n",
    "plt.plot(fpr,tpr)\n",
    "plt.plot([0, 1], [0, 1], linestyle=\"dashed\")\n",
    "plt.ylabel('True Positive Rate')\n",
    "plt.xlabel('False Positive Rate')\n",
    "plt.show()"
   ]
  },
  {
   "cell_type": "code",
   "execution_count": 21,
   "id": "d5e75dcc",
   "metadata": {},
   "outputs": [
    {
     "data": {
      "text/plain": [
       "0.6075488631830873"
      ]
     },
     "execution_count": 21,
     "metadata": {},
     "output_type": "execute_result"
    }
   ],
   "source": [
    "roc_auc_score(y2, y_pred)"
   ]
  },
  {
   "cell_type": "code",
   "execution_count": 22,
   "id": "7060c025",
   "metadata": {},
   "outputs": [
    {
     "data": {
      "text/plain": [
       "LogisticRegression(max_iter=1000)"
      ]
     },
     "execution_count": 22,
     "metadata": {},
     "output_type": "execute_result"
    }
   ],
   "source": [
    "lr.fit(x2_new,y2)\n"
   ]
  },
  {
   "cell_type": "code",
   "execution_count": 24,
   "id": "07ce08b4",
   "metadata": {},
   "outputs": [
    {
     "data": {
      "text/plain": [
       "array([0, 0, 0, 0, 0, 1, 1, 0, 0, 0, 0, 1, 0, 0, 1, 1, 0, 0, 0, 1, 0, 1,\n",
       "       0, 0, 0, 1, 0, 0, 0, 0, 1, 0, 0, 0, 1, 0, 0, 0, 0, 0, 1, 1, 0, 0,\n",
       "       1, 0, 1, 0, 0, 1, 0, 1, 1, 0, 0, 0, 0, 0, 0, 0, 0, 0, 0, 0, 0, 0,\n",
       "       0, 0, 0, 0, 0, 1, 0, 0, 0, 0, 0, 0, 0, 0, 0, 0, 0, 0, 0, 0, 1, 0,\n",
       "       1, 0, 0, 0, 0, 1, 0, 0, 0, 1, 0, 0, 0, 1, 0, 0, 0, 0, 1, 1, 0, 0,\n",
       "       0, 1, 1, 0, 0, 0, 0, 1, 0, 0, 0, 0, 1, 1, 1, 0, 0, 0, 0, 0, 1, 0,\n",
       "       0, 0, 0, 1, 1, 0, 0, 0, 0, 0, 0, 0, 0, 0, 0, 0, 1, 0, 1, 0, 0, 0,\n",
       "       0, 0, 1, 0, 0, 0, 1, 0, 0, 0, 0, 0, 0, 1, 0, 0, 1, 1, 1, 1, 0, 0,\n",
       "       0, 0, 0, 1, 0, 0, 1, 0, 0, 0, 0, 0, 0, 0, 0, 1, 0, 0, 0, 0, 0, 0,\n",
       "       0, 0, 0, 1, 0, 0, 0, 0, 1, 1, 1, 0, 0, 1, 0, 0, 0, 0, 0, 0, 0, 0,\n",
       "       0, 1, 0, 1, 0, 0, 0, 0, 0, 0, 1, 0, 0, 1, 1, 1, 0, 0, 0, 0, 1, 0,\n",
       "       0, 0, 0, 0, 0, 0, 0, 0, 0, 0, 0, 0, 0, 1])"
      ]
     },
     "execution_count": 24,
     "metadata": {},
     "output_type": "execute_result"
    }
   ],
   "source": [
    "# test spanish on swedish data\n",
    "y_pred2 = lr.predict(x_new)\n",
    "y_pred2\n"
   ]
  },
  {
   "cell_type": "code",
   "execution_count": 25,
   "id": "5587852c",
   "metadata": {},
   "outputs": [
    {
     "data": {
      "image/png": "[encoded data removed]",
      "text/plain": [
       "<Figure size 432x288 with 2 Axes>"
      ]
     },
     "metadata": {
      "needs_background": "light"
     },
     "output_type": "display_data"
    }
   ],
   "source": [
    "cnf_matrix = metrics.confusion_matrix(y, y_pred2) \n",
    "sns.heatmap(pd.DataFrame(cnf_matrix), annot=True, cmap=\"YlGnBu\")\n",
    "plt.xlabel(\"model prediction\")\n",
    "plt.ylabel(\"truth\")\n",
    "plt.show() "
   ]
  },
  {
   "cell_type": "code",
   "execution_count": 26,
   "id": "9dfcf19a",
   "metadata": {},
   "outputs": [
    {
     "data": {
      "image/png": "[encoded data removed]",
      "text/plain": [
       "<Figure size 432x288 with 1 Axes>"
      ]
     },
     "metadata": {
      "needs_background": "light"
     },
     "output_type": "display_data"
    }
   ],
   "source": [
    "fpr, tpr, _ = roc_curve(y,  np.rint(y_pred2))\n",
    "\n",
    "plt.plot(fpr,tpr)\n",
    "plt.plot([0, 1], [0, 1], linestyle=\"dashed\")\n",
    "plt.ylabel('True Positive Rate')\n",
    "plt.xlabel('False Positive Rate')\n",
    "plt.show()"
   ]
  },
  {
   "cell_type": "code",
   "execution_count": 27,
   "id": "99140bb9",
   "metadata": {},
   "outputs": [
    {
     "data": {
      "text/plain": [
       "0.6234615384615385"
      ]
     },
     "execution_count": 27,
     "metadata": {},
     "output_type": "execute_result"
    }
   ],
   "source": [
    "roc_auc_score(y, np.rint(y_pred2))"
   ]
  },
  {
   "cell_type": "code",
   "execution_count": 28,
   "id": "de8eaac8",
   "metadata": {},
   "outputs": [],
   "source": [
    "lst = list(np.exp(lr.coef_[0]))\n",
    "lst = [(lst[i],i) for i in range(len(lst))]"
   ]
  },
  {
   "cell_type": "code",
   "execution_count": 173,
   "id": "1420a9b6",
   "metadata": {},
   "outputs": [
    {
     "name": "stdout",
     "output_type": "stream",
     "text": [
      "2.205385978041182  4950  TC01005033.hg.1\n",
      "2.1766513140621173  31035  TC08002582.hg.1\n",
      "1.9852226388791214  31117  TC09000026.hg.1\n",
      "1.908852314129577  41213  TC11001630.hg.1\n",
      "1.8812815768661024  47799  TC13001474.hg.1\n",
      "1.7440989762457715  12110  TC03000796.hg.1\n",
      "1.7385584521681374  8298  TC02002006.hg.1\n",
      "1.7182755318408798  26539  TC07001442.hg.1\n",
      "1.6772962371988314  35064  TC0X001076.hg.1\n",
      "1.6725569098253859  48411  TC14000378.hg.1\n"
     ]
    }
   ],
   "source": [
    "lst.sort(reverse = True)\n",
    "count = 0\n",
    "for e in lst:\n",
    "    if count< 10:\n",
    "        print(str(e[0]) + \"  \" + str(index_list[e[1]]) +\"  \"+ str(gene_names[e[1]]))\n",
    "        \n",
    "    count+=1"
   ]
  },
  {
   "cell_type": "code",
   "execution_count": null,
   "id": "f0c655a6",
   "metadata": {},
   "outputs": [],
   "source": [
    "sns.catplot(data=tips, x=\"day\", y=\"total_bill\", hue=\"sex\", kind=\"swarm\")"
   ]
  }
 ],
 "metadata": {
  "kernelspec": {
   "display_name": "Python 3 (ipykernel)",
   "language": "python",
   "name": "python3"
  },
  "language_info": {
   "codemirror_mode": {
    "name": "ipython",
    "version": 3
   },
   "file_extension": ".py",
   "mimetype": "text/x-python",
   "name": "python",
   "nbconvert_exporter": "python",
   "pygments_lexer": "ipython3",
   "version": "3.7.6"
  }
 },
 "nbformat": 4,
 "nbformat_minor": 5
}
