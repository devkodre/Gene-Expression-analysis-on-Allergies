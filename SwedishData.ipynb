{
 "cells": [
  {
   "cell_type": "code",
   "execution_count": 1,
   "id": "41c4545e-c893-44af-bb2b-67e2d33d53c1",
   "metadata": {},
   "outputs": [],
   "source": [
    "import pandas as pd\n",
    "import matplotlib as plt\n",
    "import seaborn as sns\n",
    "import numpy as np"
   ]
  },
  {
   "cell_type": "code",
   "execution_count": 2,
   "id": "667f7489-f024-4efa-997c-9c37d7881c17",
   "metadata": {},
   "outputs": [],
   "source": [
    "Metadf = pd.read_csv(\"MetaData.txt\", delimiter=\"\\t\")\n"
   ]
  },
  {
   "cell_type": "code",
   "execution_count": 3,
   "id": "2090fc7c-a491-40c8-8594-ed3dfc24ee29",
   "metadata": {},
   "outputs": [],
   "source": [
    "Metadf = Metadf.T"
   ]
  },
  {
   "cell_type": "code",
   "execution_count": 4,
   "id": "bbb1f05f-362c-4869-8eeb-95eaca3233d7",
   "metadata": {},
   "outputs": [],
   "source": [
    "new_header = Metadf.iloc[0] #grab the first row for the header\n",
    "Metadf = Metadf[1:] #take the data less the header row\n",
    "Metadf.columns = new_header #set the header row as the df header"
   ]
  },
  {
   "cell_type": "code",
   "execution_count": 5,
   "id": "354575ec-b4af-4310-a000-196b4c0f6f2f",
   "metadata": {},
   "outputs": [
    {
     "data": {
      "text/html": [
       "<div>\n",
       "<style scoped>\n",
       "    .dataframe tbody tr th:only-of-type {\n",
       "        vertical-align: middle;\n",
       "    }\n",
       "\n",
       "    .dataframe tbody tr th {\n",
       "        vertical-align: top;\n",
       "    }\n",
       "\n",
       "    .dataframe thead th {\n",
       "        text-align: right;\n",
       "    }\n",
       "</style>\n",
       "<table border=\"1\" class=\"dataframe\">\n",
       "  <thead>\n",
       "    <tr style=\"text-align: right;\">\n",
       "      <th>!Sample_title</th>\n",
       "      <th>!Sample_geo_accession</th>\n",
       "      <th>Gender</th>\n",
       "      <th>Age</th>\n",
       "      <th>Allergy</th>\n",
       "      <th>Asthma</th>\n",
       "      <th>Dermatitis</th>\n",
       "      <th>rhinitis</th>\n",
       "    </tr>\n",
       "  </thead>\n",
       "  <tbody>\n",
       "    <tr>\n",
       "      <th>Bamse1</th>\n",
       "      <td>GSM4209620</td>\n",
       "      <td>1</td>\n",
       "      <td>195.5592</td>\n",
       "      <td>1</td>\n",
       "      <td>0</td>\n",
       "      <td>1</td>\n",
       "      <td>0</td>\n",
       "    </tr>\n",
       "    <tr>\n",
       "      <th>Bamse10</th>\n",
       "      <td>GSM4209621</td>\n",
       "      <td>1</td>\n",
       "      <td>204.0461</td>\n",
       "      <td>0</td>\n",
       "      <td>0</td>\n",
       "      <td>0</td>\n",
       "      <td>0</td>\n",
       "    </tr>\n",
       "    <tr>\n",
       "      <th>Bamse100</th>\n",
       "      <td>GSM4209622</td>\n",
       "      <td>0</td>\n",
       "      <td>201.6776</td>\n",
       "      <td>1</td>\n",
       "      <td>1</td>\n",
       "      <td>1</td>\n",
       "      <td>0</td>\n",
       "    </tr>\n",
       "    <tr>\n",
       "      <th>Bamse101</th>\n",
       "      <td>GSM4209623</td>\n",
       "      <td>1</td>\n",
       "      <td>205.6250</td>\n",
       "      <td>1</td>\n",
       "      <td>1</td>\n",
       "      <td>0</td>\n",
       "      <td>0</td>\n",
       "    </tr>\n",
       "    <tr>\n",
       "      <th>Bamse102</th>\n",
       "      <td>GSM4209624</td>\n",
       "      <td>0</td>\n",
       "      <td>202.8947</td>\n",
       "      <td>0</td>\n",
       "      <td>0</td>\n",
       "      <td>0</td>\n",
       "      <td>0</td>\n",
       "    </tr>\n",
       "    <tr>\n",
       "      <th>...</th>\n",
       "      <td>...</td>\n",
       "      <td>...</td>\n",
       "      <td>...</td>\n",
       "      <td>...</td>\n",
       "      <td>...</td>\n",
       "      <td>...</td>\n",
       "      <td>...</td>\n",
       "    </tr>\n",
       "    <tr>\n",
       "      <th>Bamse95</th>\n",
       "      <td>GSM4209871</td>\n",
       "      <td>1</td>\n",
       "      <td>201.7105</td>\n",
       "      <td>0</td>\n",
       "      <td>0</td>\n",
       "      <td>0</td>\n",
       "      <td>0</td>\n",
       "    </tr>\n",
       "    <tr>\n",
       "      <th>Bamse96</th>\n",
       "      <td>GSM4209872</td>\n",
       "      <td>1</td>\n",
       "      <td>201.5461</td>\n",
       "      <td>1</td>\n",
       "      <td>1</td>\n",
       "      <td>0</td>\n",
       "      <td>1</td>\n",
       "    </tr>\n",
       "    <tr>\n",
       "      <th>Bamse97</th>\n",
       "      <td>GSM4209873</td>\n",
       "      <td>0</td>\n",
       "      <td>202.7631</td>\n",
       "      <td>0</td>\n",
       "      <td>0</td>\n",
       "      <td>0</td>\n",
       "      <td>0</td>\n",
       "    </tr>\n",
       "    <tr>\n",
       "      <th>Bamse98</th>\n",
       "      <td>GSM4209874</td>\n",
       "      <td>1</td>\n",
       "      <td>203.2237</td>\n",
       "      <td>0</td>\n",
       "      <td>0</td>\n",
       "      <td>0</td>\n",
       "      <td>0</td>\n",
       "    </tr>\n",
       "    <tr>\n",
       "      <th>Bamse99</th>\n",
       "      <td>GSM4209875</td>\n",
       "      <td>0</td>\n",
       "      <td>202.4342</td>\n",
       "      <td>1</td>\n",
       "      <td>0</td>\n",
       "      <td>1</td>\n",
       "      <td>1</td>\n",
       "    </tr>\n",
       "  </tbody>\n",
       "</table>\n",
       "<p>256 rows × 7 columns</p>\n",
       "</div>"
      ],
      "text/plain": [
       "!Sample_title !Sample_geo_accession  Gender       Age  Allergy  Asthma  \\\n",
       "Bamse1                   GSM4209620       1  195.5592        1       0   \n",
       "Bamse10                  GSM4209621       1  204.0461        0       0   \n",
       "Bamse100                 GSM4209622       0  201.6776        1       1   \n",
       "Bamse101                 GSM4209623       1  205.6250        1       1   \n",
       "Bamse102                 GSM4209624       0  202.8947        0       0   \n",
       "...                             ...     ...       ...      ...     ...   \n",
       "Bamse95                  GSM4209871       1  201.7105        0       0   \n",
       "Bamse96                  GSM4209872       1  201.5461        1       1   \n",
       "Bamse97                  GSM4209873       0  202.7631        0       0   \n",
       "Bamse98                  GSM4209874       1  203.2237        0       0   \n",
       "Bamse99                  GSM4209875       0  202.4342        1       0   \n",
       "\n",
       "!Sample_title  Dermatitis  rhinitis  \n",
       "Bamse1                  1         0  \n",
       "Bamse10                 0         0  \n",
       "Bamse100                1         0  \n",
       "Bamse101                0         0  \n",
       "Bamse102                0         0  \n",
       "...                   ...       ...  \n",
       "Bamse95                 0         0  \n",
       "Bamse96                 0         1  \n",
       "Bamse97                 0         0  \n",
       "Bamse98                 0         0  \n",
       "Bamse99                 1         1  \n",
       "\n",
       "[256 rows x 7 columns]"
      ]
     },
     "execution_count": 5,
     "metadata": {},
     "output_type": "execute_result"
    }
   ],
   "source": [
    "\n",
    "Metadf[\"Age\"] = Metadf[\"Age\"].replace({' NA':np.nan})\n",
    "Metadf[\"Age\"] = Metadf[\"Age\"].astype(float)\n",
    "Metadf[\"Gender\"] = Metadf[\"Gender\"].astype(int)\n",
    "Metadf[\"Allergy\"] = Metadf[\"Allergy\"].astype(int)\n",
    "Metadf[\"Asthma\"] = Metadf[\"Asthma\"].astype(int)\n",
    "Metadf[\"Dermatitis\"] = Metadf[\"Dermatitis\"].astype(int)\n",
    "Metadf[\"rhinitis\"] = Metadf[\"rhinitis\"].astype(int)\n",
    "Metadf\n",
    "\n",
    "Metadf.to_csv(\"cleaned_SwedishData.csv\",index = False)\n",
    "\n",
    "Metadf"
   ]
  },
  {
   "cell_type": "code",
   "execution_count": 6,
   "id": "0ef129b7",
   "metadata": {},
   "outputs": [
    {
     "data": {
      "text/plain": [
       "(156, 98, 68, 85, 100, 0)"
      ]
     },
     "execution_count": 6,
     "metadata": {},
     "output_type": "execute_result"
    }
   ],
   "source": [
    "AllergyCount = Metadf[\"Allergy\"].sum()\n",
    "AsthmaCount = Metadf[\"Asthma\"].sum()\n",
    "DermatitisCount = Metadf[\"Dermatitis\"].sum()\n",
    "rhinitisCount = Metadf[\"rhinitis\"].sum()\n",
    "\n",
    "controlCount = len(Metadf[(Metadf[\"Allergy\"] == 0) & (Metadf[\"Asthma\"] == 0) & \n",
    "                          (Metadf[\"Dermatitis\"] == 0) & (Metadf[\"rhinitis\"] == 0)])\n",
    "\n",
    "allergyToAsthmaCount = len(Metadf[(Metadf[\"Allergy\"] == 0) & (Metadf[\"Asthma\"] == 1)]) \n",
    "#Either allergy or control, allergy or Asthma\n",
    "                        \n",
    "\n",
    "\n",
    "AllergyCount, AsthmaCount, DermatitisCount, rhinitisCount, controlCount, allergyToAsthmaCount"
   ]
  },
  {
   "cell_type": "code",
   "execution_count": 7,
   "id": "0da0580f-2bcb-491b-9499-bb6da733e7b3",
   "metadata": {},
   "outputs": [
    {
     "data": {
      "text/plain": [
       "<AxesSubplot:xlabel='Gender', ylabel='count'>"
      ]
     },
     "execution_count": 7,
     "metadata": {},
     "output_type": "execute_result"
    },
    {
     "data": {
      "image/png": "[encoded data removed]",
      "text/plain": [
       "<Figure size 432x288 with 1 Axes>"
      ]
     },
     "metadata": {
      "needs_background": "light"
     },
     "output_type": "display_data"
    }
   ],
   "source": [
    "sns.countplot(x = \"Gender\", data=Metadf)"
   ]
  },
  {
   "cell_type": "code",
   "execution_count": 19,
   "id": "36978701",
   "metadata": {},
   "outputs": [
    {
     "data": {
      "text/plain": [
       "<AxesSubplot:xlabel='Features', ylabel='count'>"
      ]
     },
     "execution_count": 19,
     "metadata": {},
     "output_type": "execute_result"
    },
    {
     "data": {
      "image/png": "[encoded data removed]",
      "text/plain": [
       "<Figure size 432x288 with 1 Axes>"
      ]
     },
     "metadata": {
      "needs_background": "light"
     },
     "output_type": "display_data"
    }
   ],
   "source": [
    "features = ['Allergy', 'Asthma', 'Dermatitis', 'rhinitis']\n",
    "\n",
    "melted_df = Metadf.melt(id_vars=['!Sample_geo_accession'], value_vars=features, var_name='Features', value_name='Count')\n",
    "\n",
    "sns.countplot(data=melted_df, x='Features', hue='Count')\n"
   ]
  },
  {
   "cell_type": "code",
   "execution_count": 20,
   "id": "7325644b-8859-4b38-8f96-399f7521f662",
   "metadata": {},
   "outputs": [
    {
     "data": {
      "text/plain": [
       "<AxesSubplot:xlabel='Allergy', ylabel='count'>"
      ]
     },
     "execution_count": 20,
     "metadata": {},
     "output_type": "execute_result"
    },
    {
     "data": {
      "image/png": "[encoded data removed]",
      "text/plain": [
       "<Figure size 432x288 with 1 Axes>"
      ]
     },
     "metadata": {
      "needs_background": "light"
     },
     "output_type": "display_data"
    }
   ],
   "source": [
    "sns.countplot(x = \"Allergy\", data=Metadf)"
   ]
  },
  {
   "cell_type": "code",
   "execution_count": 21,
   "id": "ef0185b9",
   "metadata": {},
   "outputs": [
    {
     "data": {
      "text/plain": [
       "<AxesSubplot:xlabel='Asthma', ylabel='count'>"
      ]
     },
     "execution_count": 21,
     "metadata": {},
     "output_type": "execute_result"
    },
    {
     "data": {
      "image/png": "[encoded data removed]",
      "text/plain": [
       "<Figure size 432x288 with 1 Axes>"
      ]
     },
     "metadata": {
      "needs_background": "light"
     },
     "output_type": "display_data"
    }
   ],
   "source": [
    "sns.countplot(x = \"Asthma\", data=Metadf)"
   ]
  },
  {
   "cell_type": "code",
   "execution_count": 22,
   "id": "ad5c0e39",
   "metadata": {},
   "outputs": [
    {
     "data": {
      "text/plain": [
       "<AxesSubplot:xlabel='Dermatitis', ylabel='count'>"
      ]
     },
     "execution_count": 22,
     "metadata": {},
     "output_type": "execute_result"
    },
    {
     "data": {
      "image/png": "[encoded data removed]",
      "text/plain": [
       "<Figure size 432x288 with 1 Axes>"
      ]
     },
     "metadata": {
      "needs_background": "light"
     },
     "output_type": "display_data"
    }
   ],
   "source": [
    "sns.countplot(x = \"Dermatitis\", data=Metadf)"
   ]
  },
  {
   "cell_type": "code",
   "execution_count": 33,
   "id": "138994b1",
   "metadata": {},
   "outputs": [
    {
     "data": {
      "text/plain": [
       "<AxesSubplot:xlabel='rhinitis', ylabel='count'>"
      ]
     },
     "execution_count": 33,
     "metadata": {},
     "output_type": "execute_result"
    },
    {
     "data": {
      "image/png": "[encoded data removed]",
      "text/plain": [
       "<Figure size 432x288 with 1 Axes>"
      ]
     },
     "metadata": {
      "needs_background": "light"
     },
     "output_type": "display_data"
    }
   ],
   "source": [
    "sns.countplot(x = \"rhinitis\", data=Metadf)"
   ]
  },
  {
   "cell_type": "code",
   "execution_count": 22,
   "id": "2c159258",
   "metadata": {},
   "outputs": [
    {
     "ename": "AttributeError",
     "evalue": "module 'matplotlib' has no attribute 'show'",
     "output_type": "error",
     "traceback": [
      "\u001b[0;31m---------------------------------------------------------------------------\u001b[0m",
      "\u001b[0;31mAttributeError\u001b[0m                            Traceback (most recent call last)",
      "\u001b[0;32m/var/folders/61/88tkykvs6hdghs1n4xcxmfjm0000gn/T/ipykernel_88104/1299903415.py\u001b[0m in \u001b[0;36m<module>\u001b[0;34m\u001b[0m\n\u001b[1;32m      1\u001b[0m \u001b[0max\u001b[0m \u001b[0;34m=\u001b[0m \u001b[0msns\u001b[0m\u001b[0;34m.\u001b[0m\u001b[0mhistplot\u001b[0m\u001b[0;34m(\u001b[0m\u001b[0mx\u001b[0m \u001b[0;34m=\u001b[0m \u001b[0;34m\"Age\"\u001b[0m\u001b[0;34m,\u001b[0m \u001b[0mdata\u001b[0m\u001b[0;34m=\u001b[0m\u001b[0mMetadf\u001b[0m\u001b[0;34m,\u001b[0m \u001b[0mbins\u001b[0m\u001b[0;34m=\u001b[0m\u001b[0;36m30\u001b[0m\u001b[0;34m)\u001b[0m\u001b[0;34m\u001b[0m\u001b[0;34m\u001b[0m\u001b[0m\n\u001b[1;32m      2\u001b[0m \u001b[0max\u001b[0m\u001b[0;34m.\u001b[0m\u001b[0mset\u001b[0m\u001b[0;34m(\u001b[0m\u001b[0mxlabel\u001b[0m\u001b[0;34m=\u001b[0m\u001b[0;34m'Age (in Months)'\u001b[0m\u001b[0;34m)\u001b[0m\u001b[0;34m\u001b[0m\u001b[0;34m\u001b[0m\u001b[0m\n\u001b[0;32m----> 3\u001b[0;31m \u001b[0mplt\u001b[0m\u001b[0;34m.\u001b[0m\u001b[0mshow\u001b[0m\u001b[0;34m(\u001b[0m\u001b[0;34m)\u001b[0m\u001b[0;34m\u001b[0m\u001b[0;34m\u001b[0m\u001b[0m\n\u001b[0m",
      "\u001b[0;32m/Library/Frameworks/Python.framework/Versions/3.7/lib/python3.7/site-packages/matplotlib/_api/__init__.py\u001b[0m in \u001b[0;36m__getattr__\u001b[0;34m(name)\u001b[0m\n\u001b[1;32m    221\u001b[0m             \u001b[0;32mreturn\u001b[0m \u001b[0mprops\u001b[0m\u001b[0;34m[\u001b[0m\u001b[0mname\u001b[0m\u001b[0;34m]\u001b[0m\u001b[0;34m.\u001b[0m\u001b[0m__get__\u001b[0m\u001b[0;34m(\u001b[0m\u001b[0minstance\u001b[0m\u001b[0;34m)\u001b[0m\u001b[0;34m\u001b[0m\u001b[0;34m\u001b[0m\u001b[0m\n\u001b[1;32m    222\u001b[0m         raise AttributeError(\n\u001b[0;32m--> 223\u001b[0;31m             f\"module {cls.__module__!r} has no attribute {name!r}\")\n\u001b[0m\u001b[1;32m    224\u001b[0m \u001b[0;34m\u001b[0m\u001b[0m\n\u001b[1;32m    225\u001b[0m     \u001b[0;32mreturn\u001b[0m \u001b[0m__getattr__\u001b[0m\u001b[0;34m\u001b[0m\u001b[0;34m\u001b[0m\u001b[0m\n",
      "\u001b[0;31mAttributeError\u001b[0m: module 'matplotlib' has no attribute 'show'"
     ]
    },
    {
     "data": {
      "image/png": "[encoded data removed]",
      "text/plain": [
       "<Figure size 432x288 with 1 Axes>"
      ]
     },
     "metadata": {
      "needs_background": "light"
     },
     "output_type": "display_data"
    }
   ],
   "source": [
    "ax = sns.histplot(x = \"Age\", data=Metadf, bins=30)\n",
    "ax.set(xlabel='Age (in Months)')\n",
    "plt.show()"
   ]
  },
  {
   "cell_type": "code",
   "execution_count": 26,
   "id": "cc48655f",
   "metadata": {},
   "outputs": [
    {
     "data": {
      "text/plain": [
       "<AxesSubplot:xlabel='Age', ylabel='Count'>"
      ]
     },
     "execution_count": 26,
     "metadata": {},
     "output_type": "execute_result"
    },
    {
     "data": {
      "image/png": "[encoded data removed]",
      "text/plain": [
       "<Figure size 432x288 with 1 Axes>"
      ]
     },
     "metadata": {
      "needs_background": "light"
     },
     "output_type": "display_data"
    }
   ],
   "source": [
    "sns.histplot(x = \"Age\", data=Metadf, hue = \"Allergy\", bins = 30)"
   ]
  },
  {
   "cell_type": "code",
   "execution_count": 27,
   "id": "4789c0da",
   "metadata": {},
   "outputs": [
    {
     "data": {
      "text/plain": [
       "<AxesSubplot:xlabel='Age', ylabel='Count'>"
      ]
     },
     "execution_count": 27,
     "metadata": {},
     "output_type": "execute_result"
    },
    {
     "data": {
      "image/png": "[encoded data removed]",
      "text/plain": [
       "<Figure size 432x288 with 1 Axes>"
      ]
     },
     "metadata": {
      "needs_background": "light"
     },
     "output_type": "display_data"
    }
   ],
   "source": [
    "sns.histplot(x = \"Age\", data=Metadf, hue = \"Asthma\", bins = 30)"
   ]
  },
  {
   "cell_type": "code",
   "execution_count": 28,
   "id": "d795e6bc",
   "metadata": {},
   "outputs": [
    {
     "data": {
      "text/plain": [
       "<AxesSubplot:xlabel='Age', ylabel='Count'>"
      ]
     },
     "execution_count": 28,
     "metadata": {},
     "output_type": "execute_result"
    },
    {
     "data": {
      "image/png": "[encoded data removed]",
      "text/plain": [
       "<Figure size 432x288 with 1 Axes>"
      ]
     },
     "metadata": {
      "needs_background": "light"
     },
     "output_type": "display_data"
    }
   ],
   "source": [
    "sns.histplot(x = \"Age\", data=Metadf, hue = \"Dermatitis\", bins = 30)"
   ]
  },
  {
   "cell_type": "code",
   "execution_count": 30,
   "id": "a5ce28b9",
   "metadata": {},
   "outputs": [
    {
     "data": {
      "text/plain": [
       "<AxesSubplot:xlabel='Age', ylabel='Count'>"
      ]
     },
     "execution_count": 30,
     "metadata": {},
     "output_type": "execute_result"
    },
    {
     "data": {
      "image/png": "[encoded data removed]",
      "text/plain": [
       "<Figure size 432x288 with 1 Axes>"
      ]
     },
     "metadata": {
      "needs_background": "light"
     },
     "output_type": "display_data"
    }
   ],
   "source": [
    "sns.histplot(x = \"Age\", data=Metadf, hue = \"rhinitis\", bins = 30)"
   ]
  },
  {
   "cell_type": "code",
   "execution_count": null,
   "id": "69ba6787",
   "metadata": {},
   "outputs": [],
   "source": []
  }
 ],
 "metadata": {
  "kernelspec": {
   "display_name": "Python 3 (ipykernel)",
   "language": "python",
   "name": "python3"
  },
  "language_info": {
   "codemirror_mode": {
    "name": "ipython",
    "version": 3
   },
   "file_extension": ".py",
   "mimetype": "text/x-python",
   "name": "python",
   "nbconvert_exporter": "python",
   "pygments_lexer": "ipython3",
   "version": "3.7.6"
  }
 },
 "nbformat": 4,
 "nbformat_minor": 5
}
